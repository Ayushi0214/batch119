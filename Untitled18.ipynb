{
 "cells": [
  {
   "cell_type": "code",
   "execution_count": 9,
   "id": "425a8ea7",
   "metadata": {},
   "outputs": [
    {
     "name": "stdout",
     "output_type": "stream",
     "text": [
      "[4.5 3.4 2.  4.  3.8 5.  3.  4.  4.5 5.  4.  3.4 4.4]\n",
      "4.0\n",
      "4.0\n",
      "5.0\n",
      "2.0\n"
     ]
    }
   ],
   "source": [
    "import numpy as np\n",
    "import statistics as stat\n",
    "\n",
    "a = np.loadtxt(\"reviews.txt\")\n",
    "print(a)\n",
    "\n",
    "print(np.median(a))\n",
    "print(stat.mode(a))\n",
    "print(np.max(a))\n",
    "print(np.min(a))"
   ]
  },
  {
   "cell_type": "code",
   "execution_count": 49,
   "id": "38e0f7a3",
   "metadata": {},
   "outputs": [
    {
     "name": "stdout",
     "output_type": "stream",
     "text": [
      "[[ 2. 84.]\n",
      " [ 6. 56.]\n",
      " [ 3. 44.]\n",
      " [ 6. 58.]\n",
      " [ 6. 93.]\n",
      " [ 7. 55.]\n",
      " [ 3. 66.]\n",
      " [ 6. 56.]\n",
      " [ 8. 89.]\n",
      " [ 3. 35.]\n",
      " [ 6. 24.]]\n",
      "[168. 336. 132. 348. 558. 385. 198. 336. 712. 105. 144.]\n"
     ]
    }
   ],
   "source": [
    "import numpy as np\n",
    "\n",
    "a = np.loadtxt(\"sales.csv\", delimiter = \",\", skiprows =1)\n",
    "print(a)\n",
    "\n",
    "x = np.product(a,axis = 1)\n",
    "print(x)\n",
    "\n",
    "# b = np.array([[1,2],[4,5]])\n",
    "# add = (np.sum(a, axis = 0))\n",
    "# print(add)\n",
    "\n",
    "    "
   ]
  },
  {
   "cell_type": "code",
   "execution_count": 52,
   "id": "324039a7",
   "metadata": {},
   "outputs": [
    {
     "name": "stdout",
     "output_type": "stream",
     "text": [
      "5.0\n"
     ]
    }
   ],
   "source": [
    "import numpy as np\n",
    "\n",
    "a = np.array([3,3,5,6,2])\n",
    "\n",
    "print(np.percentile(a,75))"
   ]
  }
 ],
 "metadata": {
  "kernelspec": {
   "display_name": "Python 3 (ipykernel)",
   "language": "python",
   "name": "python3"
  },
  "language_info": {
   "codemirror_mode": {
    "name": "ipython",
    "version": 3
   },
   "file_extension": ".py",
   "mimetype": "text/x-python",
   "name": "python",
   "nbconvert_exporter": "python",
   "pygments_lexer": "ipython3",
   "version": "3.11.3"
  }
 },
 "nbformat": 4,
 "nbformat_minor": 5
}
