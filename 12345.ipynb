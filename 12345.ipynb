{
 "cells": [
  {
   "cell_type": "code",
   "execution_count": 1,
   "id": "5453102b",
   "metadata": {},
   "outputs": [
    {
     "name": "stdout",
     "output_type": "stream",
     "text": [
      "enter radius: 3.5\n",
      "38.5\n"
     ]
    }
   ],
   "source": [
    "radius = float(input('enter radius: '))\n",
    "\n",
    "area = ((22/7)*(radius**2))\n",
    "print(area)"
   ]
  },
  {
   "cell_type": "code",
   "execution_count": 2,
   "id": "53df34fc",
   "metadata": {},
   "outputs": [
    {
     "name": "stdout",
     "output_type": "stream",
     "text": [
      "46656\n"
     ]
    }
   ],
   "source": [
    "print(36**3)"
   ]
  },
  {
   "cell_type": "code",
   "execution_count": 4,
   "id": "860a5006",
   "metadata": {},
   "outputs": [
    {
     "name": "stdout",
     "output_type": "stream",
     "text": [
      "49\n",
      "7.0\n"
     ]
    }
   ],
   "source": [
    "print(7**2)\n",
    "print(49**(1/2))"
   ]
  },
  {
   "cell_type": "code",
   "execution_count": 8,
   "id": "51d37205",
   "metadata": {},
   "outputs": [],
   "source": [
    "marks = 54\n",
    "\n",
    "if marks > 60:\n",
    "    print(\"pass\")\n",
    "    \n",
    "#short hand if statement\n",
    "\n",
    "if marks > 60 : print(\"pass\")"
   ]
  },
  {
   "cell_type": "code",
   "execution_count": 10,
   "id": "c9a542e4",
   "metadata": {},
   "outputs": [
    {
     "name": "stdout",
     "output_type": "stream",
     "text": [
      "Fail\n",
      "Fail\n"
     ]
    }
   ],
   "source": [
    "marks = 54\n",
    "if marks > 60:\n",
    "    print(\"Pass\")\n",
    "else:\n",
    "    print(\"Fail\")\n",
    "    \n",
    "# short hand if-else statement\n",
    "print(\"pass\") if marks > 60 else print(\"Fail\")\n"
   ]
  },
  {
   "cell_type": "code",
   "execution_count": 15,
   "id": "2711d8dd",
   "metadata": {},
   "outputs": [
    {
     "name": "stdout",
     "output_type": "stream",
     "text": [
      "Enter first number: 85\n",
      "Enter second number: 47\n",
      "\n",
      "press + to add\n",
      "press - to subtract\n",
      "press x to multiply\n",
      "press / to divide\n",
      "enter you choice : %\n"
     ]
    }
   ],
   "source": [
    "num1 = float(input(\"Enter first number: \"))\n",
    "num2 = float(input(\"Enter second number: \"))\n",
    "\n",
    "print(\"\"\"\n",
    "press + to add\n",
    "press - to subtract\n",
    "press x to multiply\n",
    "press / to divide\"\"\")\n",
    "\n",
    "choice = input(\"enter you choice : \")\n",
    "if choice == \"+\":\n",
    "    print(num1+num2)\n",
    "    \n",
    "elif choice == \"-\":\n",
    "    print(num1-num2)\n",
    "\n",
    "elif choice == \"x\":\n",
    "    print(num1*num2)\n",
    "\n",
    "elif choice == \"/\":\n",
    "    print(num1/num2)\n",
    "\n",
    "else:\n",
    "    print(\"invalid input... try again!\")\n"
   ]
  },
  {
   "cell_type": "code",
   "execution_count": 16,
   "id": "c54de19f",
   "metadata": {},
   "outputs": [
    {
     "name": "stdout",
     "output_type": "stream",
     "text": [
      "1\n",
      "2\n",
      "3\n",
      "4\n"
     ]
    }
   ],
   "source": [
    "print(1)\n",
    "print(2)\n",
    "print(3)\n",
    "print(4)"
   ]
  },
  {
   "cell_type": "code",
   "execution_count": 19,
   "id": "4caab120",
   "metadata": {},
   "outputs": [
    {
     "name": "stdout",
     "output_type": "stream",
     "text": [
      "1\n",
      "2\n",
      "3\n",
      "4\n",
      "5\n"
     ]
    }
   ],
   "source": [
    "a = \"12345\"\n",
    "\n",
    "for i in a:\n",
    "    print(i)"
   ]
  },
  {
   "cell_type": "code",
   "execution_count": 29,
   "id": "3c41ea4d",
   "metadata": {},
   "outputs": [
    {
     "name": "stdout",
     "output_type": "stream",
     "text": [
      "Ashish\n",
      "Shubham\n",
      "Neeru\n"
     ]
    }
   ],
   "source": [
    "name = [\"Ashish\",\"Shubham\", \"Neeru\"]\n",
    "for abc in name:\n",
    "    print(abc)"
   ]
  },
  {
   "cell_type": "code",
   "execution_count": 26,
   "id": "abc95365",
   "metadata": {},
   "outputs": [
    {
     "name": "stdout",
     "output_type": "stream",
     "text": [
      "1 song is playing\n",
      "2 song is playing\n",
      "3 song is playing\n",
      "4 song is playing\n",
      "5 song is playing\n",
      "6 song is playing\n",
      "7 song is playing\n",
      "8 song is playing\n",
      "9 song is playing\n",
      "10 song is playing\n",
      "11 song is playing\n",
      "12 song is playing\n",
      "13 song is playing\n",
      "14 song is playing\n",
      "15 song is playing\n"
     ]
    }
   ],
   "source": [
    "for i in range(1,16):\n",
    "    print(i,\"song is playing\")"
   ]
  },
  {
   "cell_type": "code",
   "execution_count": 27,
   "id": "3e44a60e",
   "metadata": {},
   "outputs": [
    {
     "name": "stdout",
     "output_type": "stream",
     "text": [
      "0\n",
      "1\n",
      "2\n",
      "3\n",
      "4\n",
      "5\n",
      "6\n",
      "7\n",
      "8\n",
      "9\n",
      "10\n",
      "11\n",
      "12\n",
      "13\n",
      "14\n",
      "15\n"
     ]
    }
   ],
   "source": [
    "for i in range(16):\n",
    "    print(i)"
   ]
  },
  {
   "cell_type": "code",
   "execution_count": 32,
   "id": "fce4f359",
   "metadata": {},
   "outputs": [
    {
     "name": "stdout",
     "output_type": "stream",
     "text": [
      "1\n",
      "4\n",
      "7\n",
      "10\n",
      "13\n",
      "16\n"
     ]
    }
   ],
   "source": [
    "for i in range(1,17,3):\n",
    "    print(i)"
   ]
  },
  {
   "cell_type": "code",
   "execution_count": 33,
   "id": "f0d1d444",
   "metadata": {},
   "outputs": [
    {
     "name": "stdout",
     "output_type": "stream",
     "text": [
      "5\n",
      "6\n",
      "7\n",
      "8\n",
      "9\n",
      "10\n",
      "11\n",
      "12\n",
      "13\n",
      "14\n",
      "15\n"
     ]
    }
   ],
   "source": [
    "for i in range(5,16):\n",
    "    print(i)"
   ]
  },
  {
   "cell_type": "code",
   "execution_count": 35,
   "id": "059c6084",
   "metadata": {},
   "outputs": [
    {
     "name": "stdout",
     "output_type": "stream",
     "text": [
      "enter a number: 34\n",
      "34\n",
      "68\n",
      "102\n",
      "136\n",
      "170\n",
      "204\n",
      "238\n",
      "272\n",
      "306\n",
      "340\n"
     ]
    }
   ],
   "source": [
    "num = int(input(\"enter a number: \"))\n",
    "for i in range(1,11):\n",
    "    print(i*num)"
   ]
  },
  {
   "cell_type": "code",
   "execution_count": 36,
   "id": "0919bdb2",
   "metadata": {},
   "outputs": [
    {
     "name": "stdout",
     "output_type": "stream",
     "text": [
      "10\n",
      "9\n",
      "8\n",
      "7\n",
      "6\n",
      "5\n",
      "4\n",
      "3\n",
      "2\n",
      "1\n"
     ]
    }
   ],
   "source": [
    "for i in range(10,0,-1):\n",
    "    print(i)\n",
    "    "
   ]
  }
 ],
 "metadata": {
  "celltoolbar": "Raw Cell Format",
  "kernelspec": {
   "display_name": "Python 3 (ipykernel)",
   "language": "python",
   "name": "python3"
  },
  "language_info": {
   "codemirror_mode": {
    "name": "ipython",
    "version": 3
   },
   "file_extension": ".py",
   "mimetype": "text/x-python",
   "name": "python",
   "nbconvert_exporter": "python",
   "pygments_lexer": "ipython3",
   "version": "3.11.2"
  }
 },
 "nbformat": 4,
 "nbformat_minor": 5
}
