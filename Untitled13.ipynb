{
 "cells": [
  {
   "cell_type": "code",
   "execution_count": 4,
   "id": "743ca291",
   "metadata": {},
   "outputs": [
    {
     "name": "stdout",
     "output_type": "stream",
     "text": [
      "temp 20\n",
      "a 40\n",
      "b 20\n"
     ]
    }
   ],
   "source": [
    "a = 20\n",
    "b = 40\n",
    "\n",
    "temp = a\n",
    "print(\"temp\",temp)\n",
    "a = b\n",
    "print(\"a\",a)\n",
    "b = temp\n",
    "\n",
    "print(\"b\",b)"
   ]
  },
  {
   "cell_type": "code",
   "execution_count": 5,
   "id": "92c6dacd",
   "metadata": {},
   "outputs": [
    {
     "name": "stdout",
     "output_type": "stream",
     "text": [
      "[60, 20, 30, 40, 50, 10]\n"
     ]
    }
   ],
   "source": [
    "\n",
    "# a,b = b,a\n",
    "# print(a)\n",
    "# print(b)\n",
    "\n",
    "\n",
    "\n",
    "\n",
    "a = [10,20,30,40,50,60]\n",
    "a[0],a[-1]=a[-1],a[0]\n",
    "print(a)"
   ]
  },
  {
   "cell_type": "code",
   "execution_count": 10,
   "id": "f3af29a1",
   "metadata": {},
   "outputs": [
    {
     "name": "stdout",
     "output_type": "stream",
     "text": [
      "3\n",
      "3\n"
     ]
    }
   ],
   "source": [
    "a = [3,4,5,2,4,5,6,3,3,5,6]\n",
    "print(a.count(5))\n",
    "count = 0\n",
    "\n",
    "for i in a:\n",
    "    if i == 5:\n",
    "        count+=1\n",
    "        \n",
    "print(count)"
   ]
  },
  {
   "cell_type": "code",
   "execution_count": 16,
   "id": "b192a63f",
   "metadata": {},
   "outputs": [
    {
     "name": "stdout",
     "output_type": "stream",
     "text": [
      "5\n"
     ]
    }
   ],
   "source": [
    "a = [3,4,5,2,4,5,6,3,3,5,6,1,2,4]\n",
    "a.sort()\n",
    "a = list(set(a))\n",
    "print(a[-2])"
   ]
  },
  {
   "cell_type": "code",
   "execution_count": null,
   "id": "aa8c2785",
   "metadata": {},
   "outputs": [],
   "source": []
  },
  {
   "cell_type": "code",
   "execution_count": 17,
   "id": "e3c1cf3d",
   "metadata": {},
   "outputs": [
    {
     "name": "stdout",
     "output_type": "stream",
     "text": [
      "[2, 5, 8, 98]\n",
      "[-5, -67, -45, -2]\n"
     ]
    }
   ],
   "source": [
    "L = [2,5,-5,8,-67,98,-45,-2]\n",
    "pos = []\n",
    "neg = []\n",
    "\n",
    "for i in L:\n",
    "    if i >0:\n",
    "        pos.append(i)\n",
    "    else:\n",
    "        neg.append(i)\n",
    "print(pos)\n",
    "print(neg)\n"
   ]
  },
  {
   "cell_type": "code",
   "execution_count": 25,
   "id": "1b79496c",
   "metadata": {},
   "outputs": [
    {
     "name": "stdout",
     "output_type": "stream",
     "text": [
      "1\n",
      "6\n",
      "1\n"
     ]
    }
   ],
   "source": [
    "a = [3,4,5,2,4,5,6,3,3,5,6,1,2,4]\n",
    "a.sort()\n",
    "print(min(a))\n",
    "print(max(a))\n",
    "print(a[0])"
   ]
  },
  {
   "cell_type": "code",
   "execution_count": 32,
   "id": "a1fa9d56",
   "metadata": {},
   "outputs": [
    {
     "name": "stdout",
     "output_type": "stream",
     "text": [
      "20\n"
     ]
    }
   ],
   "source": [
    "a = [1,2,3,4,5,5]\n",
    "sum = 0\n",
    "for i in a:\n",
    "    sum+=i\n",
    "    \n",
    "print(sum)"
   ]
  },
  {
   "cell_type": "code",
   "execution_count": 35,
   "id": "26ed0b5a",
   "metadata": {},
   "outputs": [
    {
     "name": "stdout",
     "output_type": "stream",
     "text": [
      "20\n",
      "6\n",
      "average is 3.3333333333333335\n"
     ]
    }
   ],
   "source": [
    "a = [1,2,3,4,5,5]\n",
    "sum = 0\n",
    "for i in a:\n",
    "    sum+=i\n",
    "    \n",
    "print(sum)\n",
    "\n",
    "l = len(a)\n",
    "print(l)\n",
    "\n",
    "print(\"average is\",sum/l)\n"
   ]
  },
  {
   "cell_type": "markdown",
   "id": "bd430a36",
   "metadata": {},
   "source": [
    "# Dictionary"
   ]
  },
  {
   "cell_type": "code",
   "execution_count": 52,
   "id": "2948d20c",
   "metadata": {},
   "outputs": [
    {
     "name": "stdout",
     "output_type": "stream",
     "text": [
      "{'Name': 'Shakti', 'Age': 26, 'Gender': 'male', 'sex': 'male'}\n",
      "<class 'dict'>\n",
      "male\n"
     ]
    }
   ],
   "source": [
    "emp1 = {\"Name\":\"Shakti\",\"Age\":26,\"Gender\":\"male\",\"sex\":\"male\"}\n",
    "print(emp1)\n",
    "print(type(emp1))\n",
    "print(emp1[\"sex\"])"
   ]
  },
  {
   "cell_type": "code",
   "execution_count": 58,
   "id": "2dbcbd57",
   "metadata": {},
   "outputs": [
    {
     "name": "stdout",
     "output_type": "stream",
     "text": [
      "Name - Shakti\n",
      "Age - 26\n",
      "Gender - male\n"
     ]
    }
   ],
   "source": [
    "emp1 = {\"Name\":\"Shakti\",\"Age\":26,\"Gender\":\"male\"}\n",
    "# for i in emp1.keys():\n",
    "#     print(i)\n",
    "# for i in emp1.values():\n",
    "#     print(i)\n",
    "\n",
    "for i,j in emp1.items():\n",
    "    print(i,\"-\",j)"
   ]
  },
  {
   "cell_type": "code",
   "execution_count": 59,
   "id": "20da70e2",
   "metadata": {},
   "outputs": [
    {
     "name": "stdout",
     "output_type": "stream",
     "text": [
      "{'Name': 'Shakti', 'Age': 26, 'Gender': 'male', 'Salary': 35000}\n"
     ]
    }
   ],
   "source": [
    "emp1 = {\"Name\":\"Shakti\",\"Age\":26,\"Gender\":\"male\"}\n",
    "emp1[\"Salary\"] = 35000\n",
    "print(emp1)"
   ]
  },
  {
   "cell_type": "code",
   "execution_count": 60,
   "id": "bb4712e3",
   "metadata": {},
   "outputs": [
    {
     "name": "stdout",
     "output_type": "stream",
     "text": [
      "{'Name': 'Shakti', 'Age': 26, 'Gender': 'male'}\n"
     ]
    }
   ],
   "source": [
    "emp1 = {\"Name\":\"Shubham\",\"Age\":26,\"Gender\":\"male\"}\n",
    "emp1[\"Name\"] = \"Shakti\"\n",
    "print(emp1)"
   ]
  }
 ],
 "metadata": {
  "kernelspec": {
   "display_name": "Python 3 (ipykernel)",
   "language": "python",
   "name": "python3"
  },
  "language_info": {
   "codemirror_mode": {
    "name": "ipython",
    "version": 3
   },
   "file_extension": ".py",
   "mimetype": "text/x-python",
   "name": "python",
   "nbconvert_exporter": "python",
   "pygments_lexer": "ipython3",
   "version": "3.11.3"
  }
 },
 "nbformat": 4,
 "nbformat_minor": 5
}
