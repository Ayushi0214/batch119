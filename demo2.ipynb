{
 "cells": [
  {
   "cell_type": "code",
   "execution_count": 11,
   "id": "7c4057ac",
   "metadata": {},
   "outputs": [
    {
     "name": "stdout",
     "output_type": "stream",
     "text": [
      "hello\n",
      "welcome to wscube tech\n",
      "this is DA class\n",
      "hello\n",
      "bye\n",
      "hi\n",
      "it's goint to rain\n",
      "hi\n",
      "My e783476r7486rt6$%^#$%#%^%^&%name is Ayushi\n"
     ]
    }
   ],
   "source": [
    "print(\"hello\")\n",
    "print(\"welcome to wscube tech\")\n",
    "print(\"this is DA class\")\n",
    "\n",
    "print(\"\"\"hello\n",
    "bye\n",
    "hi\"\"\")\n",
    "\n",
    "print(\"it's goint to rain\")\n",
    "print('hi')\n",
    "print(\"My name is Ayushi\")"
   ]
  },
  {
   "cell_type": "markdown",
   "id": "9e83e774",
   "metadata": {},
   "source": [
    "# Variables"
   ]
  },
  {
   "cell_type": "code",
   "execution_count": 28,
   "id": "35b837e0",
   "metadata": {},
   "outputs": [
    {
     "name": "stdout",
     "output_type": "stream",
     "text": [
      "20\n",
      "John\n"
     ]
    }
   ],
   "source": [
    "number = 20 #Integer\n",
    "print(number)\n",
    "\n",
    "name = \"John\" #Strings\n",
    "print(name)"
   ]
  },
  {
   "cell_type": "code",
   "execution_count": 29,
   "id": "3305e936",
   "metadata": {},
   "outputs": [
    {
     "name": "stdout",
     "output_type": "stream",
     "text": [
      "20 30\n",
      "24\n"
     ]
    }
   ],
   "source": [
    "#Rules\n",
    "#A Variable should never start with a symbol or number\n",
    "#you cannot give a space between variable names\n",
    "#Case Sensitive\n",
    "\n",
    "number1 = 20\n",
    "number2 = 30\n",
    "print(number1,number2)\n",
    "\n",
    "\n",
    "EvenNum = 24\n",
    "print(EvenNum)\n",
    "\n",
    "# 1number = 40\n",
    "# print(1number)"
   ]
  },
  {
   "cell_type": "code",
   "execution_count": null,
   "id": "b3db837c",
   "metadata": {},
   "outputs": [],
   "source": []
  }
 ],
 "metadata": {
  "kernelspec": {
   "display_name": "Python 3 (ipykernel)",
   "language": "python",
   "name": "python3"
  },
  "language_info": {
   "codemirror_mode": {
    "name": "ipython",
    "version": 3
   },
   "file_extension": ".py",
   "mimetype": "text/x-python",
   "name": "python",
   "nbconvert_exporter": "python",
   "pygments_lexer": "ipython3",
   "version": "3.11.3"
  }
 },
 "nbformat": 4,
 "nbformat_minor": 5
}
