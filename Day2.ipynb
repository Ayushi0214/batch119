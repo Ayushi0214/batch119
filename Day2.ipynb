{
 "cells": [
  {
   "cell_type": "code",
   "execution_count": 6,
   "id": "d48101b4",
   "metadata": {},
   "outputs": [
    {
     "name": "stdout",
     "output_type": "stream",
     "text": [
      "Enter your name here: Gaurav\n",
      "enter your age here: 24\n",
      "Gaurav\n",
      "24\n",
      "<class 'str'>\n",
      "<class 'int'>\n"
     ]
    }
   ],
   "source": [
    "name = input(\"Enter your name here: \")\n",
    "age = int(input(\"enter your age here: \"))\n",
    "print(name)\n",
    "print(age)\n",
    "print(type(name))\n",
    "print(type(age))"
   ]
  },
  {
   "cell_type": "code",
   "execution_count": 11,
   "id": "47e46ea8",
   "metadata": {},
   "outputs": [
    {
     "name": "stdout",
     "output_type": "stream",
     "text": [
      "enter name: Asish\n",
      "enter age: 22\n",
      "enter email: ashish@gmail.com\n",
      "enter phone number: 834942873\n",
      "enter height: 6.1\n",
      "Asish \n",
      " 22 \n",
      " ashish@gmail.com \n",
      " 834942873 \n",
      " 6.1\n"
     ]
    }
   ],
   "source": [
    "name = input(\"enter name: \")\n",
    "age = int(input(\"enter age: \"))\n",
    "email = input(\"enter email: \")\n",
    "ph_no = int(input(\"enter phone number: \"))\n",
    "height = float(input(\"enter height: \"))\n",
    "print(name,\"\\n\", age, \"\\n\",email, \"\\n\",ph_no,\"\\n\",height)\n",
    "\n"
   ]
  },
  {
   "cell_type": "markdown",
   "id": "f8bae41e",
   "metadata": {},
   "source": [
    "# Type Conversion / Type Casting"
   ]
  },
  {
   "cell_type": "code",
   "execution_count": 13,
   "id": "29c00d0a",
   "metadata": {},
   "outputs": [
    {
     "name": "stdout",
     "output_type": "stream",
     "text": [
      "47.5\n"
     ]
    }
   ],
   "source": [
    "a = 23\n",
    "b = 24.5\n",
    "c = (a+b)\n",
    "print(c)"
   ]
  },
  {
   "cell_type": "code",
   "execution_count": 16,
   "id": "e0fe5dd6",
   "metadata": {},
   "outputs": [
    {
     "name": "stdout",
     "output_type": "stream",
     "text": [
      "8.899999999999999\n",
      "34.0\n"
     ]
    }
   ],
   "source": [
    "a = \"5.6\"\n",
    "b = 3.3\n",
    "a = float(a)\n",
    "c = (a+b)\n",
    "print(c)\n",
    "d = 34\n",
    "d = float(d)\n",
    "print(d)"
   ]
  },
  {
   "cell_type": "markdown",
   "id": "b2cf5100",
   "metadata": {},
   "source": [
    "# Operators"
   ]
  },
  {
   "cell_type": "markdown",
   "id": "a79f34c2",
   "metadata": {},
   "source": [
    "\"\"\"Arithmetic Operators \n",
    "+(addition) \n",
    "-(subtraction) \n",
    "*(multiplication) \n",
    "/ (division) \n",
    "** (expontent/ power)\n",
    "% (Modulus/modus) \n",
    "// (floor division)\n",
    "\"\"\"\n",
    "\n"
   ]
  },
  {
   "cell_type": "code",
   "execution_count": 25,
   "id": "edac568a",
   "metadata": {},
   "outputs": [
    {
     "name": "stdout",
     "output_type": "stream",
     "text": [
      "26\n",
      "20\n",
      "69\n",
      "7.666666666666667\n",
      "12167\n",
      "2\n",
      "7\n"
     ]
    }
   ],
   "source": [
    "a = 23\n",
    "b = 3\n",
    "print(a+b)\n",
    "print(a-b)\n",
    "print(a*b)\n",
    "print(a/b)\n",
    "print(a**b)\n",
    "print(a%b)\n",
    "print(a//b)"
   ]
  },
  {
   "cell_type": "markdown",
   "id": "3c89ffc2",
   "metadata": {},
   "source": [
    "#Comparison Operators "
   ]
  },
  {
   "cell_type": "code",
   "execution_count": 30,
   "id": "f72b67dd",
   "metadata": {},
   "outputs": [
    {
     "name": "stdout",
     "output_type": "stream",
     "text": [
      "False\n"
     ]
    }
   ],
   "source": [
    "a = 23\n",
    "b = 23\n",
    "print(a != b)"
   ]
  }
 ],
 "metadata": {
  "kernelspec": {
   "display_name": "Python 3 (ipykernel)",
   "language": "python",
   "name": "python3"
  },
  "language_info": {
   "codemirror_mode": {
    "name": "ipython",
    "version": 3
   },
   "file_extension": ".py",
   "mimetype": "text/x-python",
   "name": "python",
   "nbconvert_exporter": "python",
   "pygments_lexer": "ipython3",
   "version": "3.11.2"
  }
 },
 "nbformat": 4,
 "nbformat_minor": 5
}
