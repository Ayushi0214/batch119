{
 "cells": [
  {
   "cell_type": "code",
   "execution_count": 26,
   "id": "19f0153c",
   "metadata": {},
   "outputs": [
    {
     "name": "stdout",
     "output_type": "stream",
     "text": [
      "[[ 1.         -0.98711427]\n",
      " [-0.98711427  1.        ]]\n"
     ]
    }
   ],
   "source": [
    "import numpy as np\n",
    "\n",
    "arr = np.array([3,2,6,8,3,7,9,10])\n",
    "arr1 = np.array([150,200,88,52,150,80,32,21])\n",
    "\n",
    "a = np.corrcoef(arr,arr1)\n",
    "print(a)"
   ]
  },
  {
   "cell_type": "code",
   "execution_count": 61,
   "id": "497a4755",
   "metadata": {},
   "outputs": [
    {
     "name": "stdout",
     "output_type": "stream",
     "text": [
      "       Name gender  salary\n",
      "a    ayushi      F   20000\n",
      "b     rohit      M   25000\n",
      "c  pranjali      F   27000\n",
      "9\n",
      "       Name gender  salary\n",
      "a    ayushi      F   20000\n",
      "c  pranjali      F   27000\n",
      "b     rohit      M   25000\n"
     ]
    }
   ],
   "source": [
    "import pandas as pd\n",
    "\n",
    "data = {\"Name\":[\"ayushi\",\"rohit\",\"pranjali\"],\n",
    "       \"gender\":[\"F\",\"M\",\"F\"],\n",
    "       \"salary\":[20000, 25000, 27000]}\n",
    "\n",
    "df = pd.DataFrame(data, index = [\"a\",\"b\",\"c\"])\n",
    "# print(df[\"salary\"].mean())\n",
    "# print(df.head(2))\n",
    "# print(df.tail(2))\n",
    "print(df)\n",
    "print(df.count().sum())\n",
    "df1 = (df.sort_values(by = \"Name\"))\n",
    "print(df1)\n",
    "\n",
    "#df.to_csv(\"company1.csv\", index = False)\n"
   ]
  },
  {
   "cell_type": "code",
   "execution_count": 108,
   "id": "427f57c4",
   "metadata": {},
   "outputs": [
    {
     "name": "stdout",
     "output_type": "stream",
     "text": [
      "13085\n",
      "       EEID        Full Name                 Job Title  Department  \\\n",
      "0    E02387      Emily Davis                Sr. Manger          IT   \n",
      "1    E04105    Theodore Dinh       Technical Architect          IT   \n",
      "2    E02572     Luna Sanders                  Director     Finance   \n",
      "3    E02832  Penelope Jordan  Computer Systems Manager          IT   \n",
      "4    E01639        Austin Vo               Sr. Analyst     Finance   \n",
      "..      ...              ...                       ...         ...   \n",
      "995  E03094     Wesley Young               Sr. Analyst   Marketing   \n",
      "996  E01909     Lillian Khan                   Analyst     Finance   \n",
      "997  E04398      Oliver Yang                  Director   Marketing   \n",
      "998  E02521      Lily Nguyen               Sr. Analyst     Finance   \n",
      "999  E03545      Sofia Cheng            Vice President  Accounting   \n",
      "\n",
      "              Business Unit  Gender  Ethnicity  Age  Hire Date  Annual Salary  \\\n",
      "0    Research & Development  Female      Black   55 2016-04-08         141604   \n",
      "1             Manufacturing    Male      Asian   59 1997-11-29          99975   \n",
      "2       Speciality Products  Female  Caucasian   50 2006-10-26         163099   \n",
      "3             Manufacturing  Female  Caucasian   26 2019-09-27          84913   \n",
      "4             Manufacturing    Male      Asian   55 1995-11-20          95409   \n",
      "..                      ...     ...        ...  ...        ...            ...   \n",
      "995     Speciality Products    Male  Caucasian   33 2016-09-18          98427   \n",
      "996     Speciality Products  Female      Asian   44 2010-05-31          47387   \n",
      "997     Speciality Products    Male      Asian   31 2019-06-10         176710   \n",
      "998     Speciality Products  Female      Asian   33 2012-01-28          95960   \n",
      "999               Corporate  Female      Asian   63 2020-07-26         216195   \n",
      "\n",
      "     Bonus %        Country       City  Exit Date  \n",
      "0       0.15  United States    Seattle 2021-10-16  \n",
      "1       0.00          China  Chongqing        NaT  \n",
      "2       0.20  United States    Chicago        NaT  \n",
      "3       0.07  United States    Chicago        NaT  \n",
      "4       0.00  United States    Phoenix        NaT  \n",
      "..       ...            ...        ...        ...  \n",
      "995     0.00  United States   Columbus        NaT  \n",
      "996     0.00          China    Chengdu 2018-01-08  \n",
      "997     0.15  United States      Miami        NaT  \n",
      "998     0.00          China    Chengdu        NaT  \n",
      "999     0.31  United States      Miami        NaT  \n",
      "\n",
      "[1000 rows x 14 columns]\n"
     ]
    }
   ],
   "source": [
    "import pandas as pd\n",
    "\n",
    "data = pd.read_excel(\"C:/Users/WsCube Tech/Desktop/Excel Course/datasets/ESD.xlsx\")\n",
    "df = pd.DataFrame(data)\n",
    "print(df.count().sum())\n",
    "print(df)\n",
    "# rows = df.shape[0]\n",
    "# col = df.shape[1]\n",
    "# print(rows)\n",
    "# print(col)"
   ]
  },
  {
   "cell_type": "code",
   "execution_count": null,
   "id": "1f7e2479",
   "metadata": {},
   "outputs": [],
   "source": []
  },
  {
   "cell_type": "code",
   "execution_count": 26,
   "id": "dbe5f056",
   "metadata": {},
   "outputs": [
    {
     "name": "stdout",
     "output_type": "stream",
     "text": [
      "       Name  salary\n",
      "a    ayushi   20000\n",
      "b    ayushi   25000\n",
      "c  pranjali   27000\n"
     ]
    }
   ],
   "source": [
    "import pandas as pd\n",
    "\n",
    "data = {\"Name\":[\"ayushi\",\"ayushi\",\"pranjali\"],\n",
    "       \"gender\":[\"F\",\"M\",\"F\"],\n",
    "       \"salary\":[20000, 25000, 27000]}\n",
    "\n",
    "df = pd.DataFrame(data, index = [\"a\",\"b\",\"c\"])\n",
    "#df = df.drop_duplicates(\"gender\")\n",
    "df = df.drop(\"gender\", axis = 1)\n",
    "print(df)\n"
   ]
  },
  {
   "cell_type": "code",
   "execution_count": 42,
   "id": "ac1ca9d1",
   "metadata": {},
   "outputs": [
    {
     "name": "stdout",
     "output_type": "stream",
     "text": [
      "         Date    Category       Sub-Category   Amount Payment Mode\n",
      "0  2023-01-01     Grocery             Grocery      30         Cash\n",
      "1  2023-01-02        Food          Restaurant     890          UPI\n",
      "2  2023-01-04        Food              Zomato     257          NaN\n",
      "3  2023-01-06  Essentials               Diary     120          UPI\n",
      "4  2023-01-06  Essentials             Perfume    1500         Cash\n",
      "5  2023-01-09     Grocery  Fruits and Veggies     456         Cash\n",
      "6  2023-01-10       Bills          House Rent   16000          UPI\n",
      "7  2023-01-10     Grocery      Tomato KetchUp      70          UPI\n",
      "8  2023-01-12        Food                Chai      15          UPI\n",
      "9  2023-01-15  Essentials      Salt and Sugar      50          NaN\n",
      "10 2023-01-17     Grocery           Chocolate     100          UPI\n",
      "11 2023-01-17        Food          Restaurant     780         Card\n",
      "12 2023-01-18  Essentials            Food Oil     120          NaN\n",
      "13 2023-01-18        Food              Zomato     230          UPI\n",
      "14 2023-01-19     Grocery                Milk      26          UPI\n",
      "15 2023-01-20  Essentials             Shampoo     780          UPI\n",
      "16 2023-01-20  Essentials           Lunch Box     890         Cash\n",
      "17 2023-01-21     Clothes               Dress    1000          NaN\n",
      "18 2023-01-22     Clothes               Dress    1890          UPI\n",
      "19 2023-01-23     Grocery      Bread and Milk      56         Cash\n",
      "20 2023-01-24        Food  Fruits and Veggies     530         Cash\n",
      "21 2023-01-26        Food                Chai      10          UPI\n",
      "22 2023-01-26     Grocery               Maggi     140          UPI\n",
      "23 2023-01-27        Food              Zomato     300          UPI\n",
      "24 2023-01-27        Food                Chai      10          UPI\n",
      "25 2023-01-28  Essentials           Bedsheets    1025         Cash\n",
      "26 2023-01-29       Bills             Mobile     1650          UPI\n",
      "27 2023-01-29     Grocery                Daal     150         Cash\n",
      "28 2023-01-30       Bills            Cylinder    1074          UPI\n",
      "         Date    Category       Sub-Category   Amount Payment Mode\n",
      "0  2023-01-01     Grocery             Grocery      30         Cash\n",
      "1  2023-01-02        Food          Restaurant     890          UPI\n",
      "2  2023-01-04        Food              Zomato     257            3\n",
      "3  2023-01-06  Essentials               Diary     120          UPI\n",
      "4  2023-01-06  Essentials             Perfume    1500         Cash\n",
      "5  2023-01-09     Grocery  Fruits and Veggies     456         Cash\n",
      "6  2023-01-10       Bills          House Rent   16000          UPI\n",
      "7  2023-01-10     Grocery      Tomato KetchUp      70          UPI\n",
      "8  2023-01-12        Food                Chai      15          UPI\n",
      "9  2023-01-15  Essentials      Salt and Sugar      50            3\n",
      "10 2023-01-17     Grocery           Chocolate     100          UPI\n",
      "11 2023-01-17        Food          Restaurant     780         Card\n",
      "12 2023-01-18  Essentials            Food Oil     120            3\n",
      "13 2023-01-18        Food              Zomato     230          UPI\n",
      "14 2023-01-19     Grocery                Milk      26          UPI\n",
      "15 2023-01-20  Essentials             Shampoo     780          UPI\n",
      "16 2023-01-20  Essentials           Lunch Box     890         Cash\n",
      "17 2023-01-21     Clothes               Dress    1000            3\n",
      "18 2023-01-22     Clothes               Dress    1890          UPI\n",
      "19 2023-01-23     Grocery      Bread and Milk      56         Cash\n",
      "20 2023-01-24        Food  Fruits and Veggies     530         Cash\n",
      "21 2023-01-26        Food                Chai      10          UPI\n",
      "22 2023-01-26     Grocery               Maggi     140          UPI\n",
      "23 2023-01-27        Food              Zomato     300          UPI\n",
      "24 2023-01-27        Food                Chai      10          UPI\n",
      "25 2023-01-28  Essentials           Bedsheets    1025         Cash\n",
      "26 2023-01-29       Bills             Mobile     1650          UPI\n",
      "27 2023-01-29     Grocery                Daal     150         Cash\n",
      "28 2023-01-30       Bills            Cylinder    1074          UPI\n"
     ]
    }
   ],
   "source": [
    "import pandas as pd\n",
    "import numpy as np\n",
    "data = pd.read_excel(\"C:/Users/WsCube Tech/Desktop/Excel Course/datasets/expense3.xlsx\")\n",
    "df = pd.DataFrame(data)\n",
    "#df = df.replace(np.nan,\"\")\n",
    "df2 = df.fillna(\"3\")\n",
    "print(df2)"
   ]
  },
  {
   "cell_type": "code",
   "execution_count": 65,
   "id": "503c2ab7",
   "metadata": {},
   "outputs": [
    {
     "name": "stdout",
     "output_type": "stream",
     "text": [
      "     Name gender salary\n",
      "0  ayushi      F  20000\n",
      "1   rohit      M  hello\n",
      "2     123      F  27000\n",
      "ayushi\n",
      "rohit\n",
      "no\n"
     ]
    }
   ],
   "source": [
    "import pandas as pd\n",
    "\n",
    "data = {\"Name\":[\"ayushi\",\"rohit\",\"123\"],\n",
    "       \"gender\":[\"F\",\"M\",\"F\"],\n",
    "       \"salary\":[20000,\"hello\", 27000]}\n",
    "\n",
    "df = pd.DataFrame(data)\n",
    "print(df)\n",
    "\n",
    "for i in df[\"Name\"]:\n",
    "    if i.isalpha() == True:\n",
    "        print(i)\n",
    "    else:\n",
    "        print(\"no\")\n",
    "\n",
    "\n",
    "\n",
    "        \n"
   ]
  },
  {
   "cell_type": "code",
   "execution_count": 67,
   "id": "f7de5b81",
   "metadata": {},
   "outputs": [
    {
     "name": "stdout",
     "output_type": "stream",
     "text": [
      "         Date    Category       Sub-Category   Amount Payment Mode\n",
      "0  2023-01-01     Grocery             Grocery      30         Cash\n",
      "1  2023-01-02        Food          Restaurant     890          UPI\n",
      "2  2023-01-04         123              Zomato     257          NaN\n",
      "3  2023-01-06  Essentials               Diary     120          UPI\n",
      "4  2023-01-06  Essentials             Perfume    1500         Cash\n",
      "5  2023-01-09     Grocery  Fruits and Veggies     456         Cash\n",
      "6  2023-01-10       Bills          House Rent   16000          UPI\n",
      "7  2023-01-10     Grocery      Tomato KetchUp      70          UPI\n",
      "8  2023-01-12        Food                Chai      15          UPI\n",
      "9  2023-01-15  Essentials      Salt and Sugar      50          NaN\n",
      "10 2023-01-17     Grocery           Chocolate     100          UPI\n",
      "11 2023-01-17        Food          Restaurant     780         Card\n",
      "12 2023-01-18  Essentials            Food Oil     120          NaN\n",
      "13 2023-01-18        Food              Zomato     230          UPI\n",
      "14 2023-01-19     Grocery                Milk      26          UPI\n",
      "15 2023-01-20  Essentials             Shampoo     780          UPI\n",
      "16 2023-01-20  Essentials           Lunch Box     890         Cash\n",
      "17 2023-01-21     Clothes               Dress    1000          NaN\n",
      "18 2023-01-22     Clothes               Dress    1890          UPI\n",
      "19 2023-01-23     Grocery      Bread and Milk      56         Cash\n",
      "20 2023-01-24        Food  Fruits and Veggies     530         Cash\n",
      "21 2023-01-26        Food                Chai      10          UPI\n",
      "22 2023-01-26     Grocery               Maggi     140          UPI\n",
      "23 2023-01-27        Food              Zomato     300          UPI\n",
      "24 2023-01-27        Food                Chai      10          UPI\n",
      "25 2023-01-28  Essentials           Bedsheets    1025         Cash\n",
      "26 2023-01-29       Bills             Mobile     1650          UPI\n",
      "27 2023-01-29     Grocery                Daal     150         Cash\n",
      "28 2023-01-30       Bills            Cylinder    1074          UPI\n",
      "         Date    Category       Sub-Category   Amount Payment Mode\n",
      "0  2023-01-01     Grocery             Grocery      30         Cash\n",
      "1  2023-01-02        Food          Restaurant     890          UPI\n",
      "2  2023-01-04         123              Zomato     257          NaN\n",
      "3  2023-01-06  Essentials               Diary     120          UPI\n",
      "4  2023-01-06  Essentials             Perfume    1500         Cash\n",
      "5  2023-01-09     Grocery  Fruits and Veggies     456         Cash\n",
      "6  2023-01-10       Bills          House Rent   16000          UPI\n",
      "7  2023-01-10     Grocery      Tomato KetchUp      70          UPI\n",
      "8  2023-01-12        Food                Chai      15          UPI\n",
      "9  2023-01-15  Essentials      Salt and Sugar      50          NaN\n",
      "10 2023-01-17     Grocery           Chocolate     100          UPI\n",
      "11 2023-01-17        Food          Restaurant     780         Card\n",
      "12 2023-01-18  Essentials            Food Oil     120          NaN\n",
      "13 2023-01-18        Food              Zomato     230          UPI\n",
      "14 2023-01-19     Grocery                Milk      26          UPI\n",
      "15 2023-01-20  Essentials             Shampoo     780          UPI\n",
      "16 2023-01-20  Essentials           Lunch Box     890         Cash\n",
      "17 2023-01-21     Clothes               Dress    1000          NaN\n",
      "18 2023-01-22     Clothes               Dress    1890          UPI\n",
      "19 2023-01-23     Grocery      Bread and Milk      56         Cash\n",
      "20 2023-01-24        Food  Fruits and Veggies     530         Cash\n",
      "21 2023-01-26        Food                Chai      10          UPI\n",
      "22 2023-01-26     Grocery               Maggi     140          UPI\n",
      "23 2023-01-27        Food              Zomato     300          UPI\n",
      "24 2023-01-27        Food                Chai      10          UPI\n",
      "25 2023-01-28  Essentials           Bedsheets    1025         Cash\n",
      "26 2023-01-29       Bills             Mobile     1650          UPI\n",
      "27 2023-01-29     Grocery                Daal     150         Cash\n",
      "28 2023-01-30       Bills            Cylinder    1074          UPI\n"
     ]
    }
   ],
   "source": [
    "import pandas as pd\n",
    "import numpy as np\n",
    "data = pd.read_excel(\"C:/Users/WsCube Tech/Desktop/Excel Course/datasets/expense3.xlsx\")\n",
    "df = pd.DataFrame(data)\n",
    "print(df)\n",
    "\n",
    "df[\"Category\"] = df[\"Category\"].astype(str)\n",
    "print(df)"
   ]
  }
 ],
 "metadata": {
  "kernelspec": {
   "display_name": "Python 3 (ipykernel)",
   "language": "python",
   "name": "python3"
  },
  "language_info": {
   "codemirror_mode": {
    "name": "ipython",
    "version": 3
   },
   "file_extension": ".py",
   "mimetype": "text/x-python",
   "name": "python",
   "nbconvert_exporter": "python",
   "pygments_lexer": "ipython3",
   "version": "3.11.3"
  }
 },
 "nbformat": 4,
 "nbformat_minor": 5
}
