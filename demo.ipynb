{
 "cells": [
  {
   "cell_type": "code",
   "execution_count": 6,
   "id": "0a6b23b0",
   "metadata": {},
   "outputs": [
    {
     "name": "stdout",
     "output_type": "stream",
     "text": [
      "My name is Ayushi\n",
      "welcome to Data Analytics course\n"
     ]
    }
   ],
   "source": [
    "print(\"My name is Ayushi\")\n",
    "print(\"welcome to Data Analytics course\")"
   ]
  },
  {
   "cell_type": "code",
   "execution_count": 5,
   "id": "ba6c0222",
   "metadata": {},
   "outputs": [
    {
     "name": "stdout",
     "output_type": "stream",
     "text": [
      "welcome to wscubtech\n"
     ]
    }
   ],
   "source": [
    "print(\"welcome to wscubtech\")"
   ]
  },
  {
   "cell_type": "code",
   "execution_count": 7,
   "id": "600b57c5",
   "metadata": {},
   "outputs": [
    {
     "ename": "SyntaxError",
     "evalue": "unterminated string literal (detected at line 1) (2503349930.py, line 1)",
     "output_type": "error",
     "traceback": [
      "\u001b[1;36m  Cell \u001b[1;32mIn[7], line 1\u001b[1;36m\u001b[0m\n\u001b[1;33m    print(\"hello\u001b[0m\n\u001b[1;37m          ^\u001b[0m\n\u001b[1;31mSyntaxError\u001b[0m\u001b[1;31m:\u001b[0m unterminated string literal (detected at line 1)\n"
     ]
    }
   ],
   "source": [
    "print(\"hello\n",
    "      how are you\n",
    "      I am fine\")"
   ]
  },
  {
   "cell_type": "code",
   "execution_count": 9,
   "id": "ca364706",
   "metadata": {},
   "outputs": [
    {
     "name": "stdout",
     "output_type": "stream",
     "text": [
      "hello\n",
      "how are you \n",
      "I am fine\n"
     ]
    }
   ],
   "source": [
    "print('''hello\n",
    "how are you \n",
    "I am fine''')"
   ]
  },
  {
   "cell_type": "markdown",
   "id": "ddaf0686",
   "metadata": {},
   "source": [
    "# Variables"
   ]
  },
  {
   "cell_type": "code",
   "execution_count": 15,
   "id": "29a09543",
   "metadata": {},
   "outputs": [
    {
     "name": "stdout",
     "output_type": "stream",
     "text": [
      "34\n"
     ]
    }
   ],
   "source": [
    "evenNumber = 34\n",
    "print(evenNumber)"
   ]
  },
  {
   "cell_type": "markdown",
   "id": "ad28f331",
   "metadata": {},
   "source": [
    "#a variable should never start with a number or symbol\n",
    "#python is case sensitve\n",
    "#never give a space between variable names"
   ]
  },
  {
   "cell_type": "code",
   "execution_count": 22,
   "id": "d84efbcc",
   "metadata": {},
   "outputs": [
    {
     "name": "stdout",
     "output_type": "stream",
     "text": [
      "Neeta\n",
      "Female\n",
      "<class 'str'>\n",
      "25\n",
      "<class 'int'>\n",
      "<class 'str'>\n"
     ]
    }
   ],
   "source": [
    "name = \"Neeta\"\n",
    "gender = \"Female\"\n",
    "age = 25\n",
    "print(name)\n",
    "print(gender)\n",
    "print(type(name))\n",
    "print(age)\n",
    "print(type(age))\n",
    "num = \"12345\"\n",
    "print(type(num))\n"
   ]
  },
  {
   "cell_type": "code",
   "execution_count": 24,
   "id": "696ede5d",
   "metadata": {},
   "outputs": [
    {
     "name": "stdout",
     "output_type": "stream",
     "text": [
      "<class 'str'>\n"
     ]
    }
   ],
   "source": [
    "height = \"5.8\"\n",
    "print(type(height))"
   ]
  },
  {
   "cell_type": "code",
   "execution_count": 26,
   "id": "532fee14",
   "metadata": {},
   "outputs": [
    {
     "name": "stdout",
     "output_type": "stream",
     "text": [
      "True\n"
     ]
    }
   ],
   "source": [
    "print(10>4)"
   ]
  },
  {
   "cell_type": "code",
   "execution_count": null,
   "id": "6354b517",
   "metadata": {},
   "outputs": [],
   "source": [
    "#strings = letters + numbers + symbols \"\"\n",
    "#int = whole numbers\n",
    "#float(floating points) = decimal numbers \n",
    "#Boolean = True/False\n"
   ]
  }
 ],
 "metadata": {
  "kernelspec": {
   "display_name": "Python 3 (ipykernel)",
   "language": "python",
   "name": "python3"
  },
  "language_info": {
   "codemirror_mode": {
    "name": "ipython",
    "version": 3
   },
   "file_extension": ".py",
   "mimetype": "text/x-python",
   "name": "python",
   "nbconvert_exporter": "python",
   "pygments_lexer": "ipython3",
   "version": "3.11.2"
  }
 },
 "nbformat": 4,
 "nbformat_minor": 5
}
