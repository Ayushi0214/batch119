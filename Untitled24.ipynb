{
 "cells": [
  {
   "cell_type": "code",
   "execution_count": 15,
   "id": "b3b52e48",
   "metadata": {},
   "outputs": [
    {
     "name": "stdout",
     "output_type": "stream",
     "text": [
      "  First name  Last Name\n",
      "0       ross  tribbiani\n",
      "1     rachel       bing\n",
      "2     monica      green\n",
      "3       joey     geller\n",
      "4   chandler     buffay\n",
      "5    phoebe        bing\n",
      "  Product  Amount\n",
      "0   phone     560\n",
      "1  tablet      66\n",
      "2   phone     456\n",
      "3  laptop     200\n",
      "4   phone     160\n",
      "5  laptop      80\n",
      "  First name Product  Amount\n",
      "0       ross   phone     560\n",
      "1     rachel  tablet      66\n",
      "2     monica   phone     456\n",
      "3       joey  laptop     200\n",
      "4   chandler   phone     160\n",
      "5    phoebe   laptop      80\n"
     ]
    }
   ],
   "source": [
    "#pandas\n",
    "import pandas as pd\n",
    "\n",
    "data1 = pd.read_excel(\"practice_1.xlsx\",sheet_name = 0)\n",
    "data2 = pd.read_excel(\"practice_1.xlsx\",sheet_name = 1)\n",
    "df1 = pd.DataFrame(data1)\n",
    "df2 = pd.DataFrame(data2)\n",
    "print(data1)\n",
    "print(data2)\n",
    "print(pd.concat([df1[\"First name\"],df2[\"Product\"],df2[\"Amount\"]],axis = 1))"
   ]
  },
  {
   "cell_type": "code",
   "execution_count": 8,
   "id": "9dc24c4a",
   "metadata": {},
   "outputs": [
    {
     "name": "stdout",
     "output_type": "stream",
     "text": [
      "  First name  Last Name   Salary\n",
      "0       ross  tribbiani      NaN\n",
      "1     rachel       bing  40000.0\n",
      "2     monica      green  25000.0\n",
      "3       joey     geller  60000.0\n",
      "4   chandler     buffay  33000.0\n",
      "5    phoebe        bing  45000.0\n",
      "  First name  Age  Gender       City\n",
      "0       ross   23    male   new york\n",
      "1     rachel   37  female     london\n",
      "2       joey   33  female   canberra\n",
      "3   chandler   41   male      sydney\n",
      "4    phoebe    67    male  new delhi\n",
      "5    gunther   31    male  hyderabad\n",
      "   First name_x  Last Name   Salary First name_y  Age  Gender       City\n",
      "0          ross  tribbiani      NaN         ross   23    male   new york\n",
      "1          ross  tribbiani      NaN       rachel   37  female     london\n",
      "2          ross  tribbiani      NaN         joey   33  female   canberra\n",
      "3          ross  tribbiani      NaN     chandler   41   male      sydney\n",
      "4          ross  tribbiani      NaN      phoebe    67    male  new delhi\n",
      "5          ross  tribbiani      NaN      gunther   31    male  hyderabad\n",
      "6        rachel       bing  40000.0         ross   23    male   new york\n",
      "7        rachel       bing  40000.0       rachel   37  female     london\n",
      "8        rachel       bing  40000.0         joey   33  female   canberra\n",
      "9        rachel       bing  40000.0     chandler   41   male      sydney\n",
      "10       rachel       bing  40000.0      phoebe    67    male  new delhi\n",
      "11       rachel       bing  40000.0      gunther   31    male  hyderabad\n",
      "12       monica      green  25000.0         ross   23    male   new york\n",
      "13       monica      green  25000.0       rachel   37  female     london\n",
      "14       monica      green  25000.0         joey   33  female   canberra\n",
      "15       monica      green  25000.0     chandler   41   male      sydney\n",
      "16       monica      green  25000.0      phoebe    67    male  new delhi\n",
      "17       monica      green  25000.0      gunther   31    male  hyderabad\n",
      "18         joey     geller  60000.0         ross   23    male   new york\n",
      "19         joey     geller  60000.0       rachel   37  female     london\n",
      "20         joey     geller  60000.0         joey   33  female   canberra\n",
      "21         joey     geller  60000.0     chandler   41   male      sydney\n",
      "22         joey     geller  60000.0      phoebe    67    male  new delhi\n",
      "23         joey     geller  60000.0      gunther   31    male  hyderabad\n",
      "24     chandler     buffay  33000.0         ross   23    male   new york\n",
      "25     chandler     buffay  33000.0       rachel   37  female     london\n",
      "26     chandler     buffay  33000.0         joey   33  female   canberra\n",
      "27     chandler     buffay  33000.0     chandler   41   male      sydney\n",
      "28     chandler     buffay  33000.0      phoebe    67    male  new delhi\n",
      "29     chandler     buffay  33000.0      gunther   31    male  hyderabad\n",
      "30      phoebe        bing  45000.0         ross   23    male   new york\n",
      "31      phoebe        bing  45000.0       rachel   37  female     london\n",
      "32      phoebe        bing  45000.0         joey   33  female   canberra\n",
      "33      phoebe        bing  45000.0     chandler   41   male      sydney\n",
      "34      phoebe        bing  45000.0      phoebe    67    male  new delhi\n",
      "35      phoebe        bing  45000.0      gunther   31    male  hyderabad\n"
     ]
    }
   ],
   "source": [
    "#pandas\n",
    "import pandas as pd\n",
    "\n",
    "data1 = pd.read_excel(\"practice_1.xlsx\",sheet_name = 0)\n",
    "data2 = pd.read_excel(\"practice_1.xlsx\",sheet_name = 1)\n",
    "df1 = pd.DataFrame(data1)\n",
    "df2 = pd.DataFrame(data2)\n",
    "print(data1)\n",
    "print(data2)\n",
    "print(pd.merge(df1,df2, how = \"cross\"))"
   ]
  }
 ],
 "metadata": {
  "kernelspec": {
   "display_name": "Python 3 (ipykernel)",
   "language": "python",
   "name": "python3"
  },
  "language_info": {
   "codemirror_mode": {
    "name": "ipython",
    "version": 3
   },
   "file_extension": ".py",
   "mimetype": "text/x-python",
   "name": "python",
   "nbconvert_exporter": "python",
   "pygments_lexer": "ipython3",
   "version": "3.11.3"
  }
 },
 "nbformat": 4,
 "nbformat_minor": 5
}
