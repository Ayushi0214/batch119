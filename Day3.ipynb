{
 "cells": [
  {
   "cell_type": "code",
   "execution_count": 1,
   "id": "5147fbfc",
   "metadata": {},
   "outputs": [
    {
     "name": "stdout",
     "output_type": "stream",
     "text": [
      "hello\n",
      "hello\n",
      "welcome to wscube tech\n"
     ]
    }
   ],
   "source": [
    "print('hello')\n",
    "print(\"\"\"hello\n",
    "welcome to wscube tech\"\"\")\n"
   ]
  },
  {
   "cell_type": "code",
   "execution_count": null,
   "id": "0d7d010f",
   "metadata": {},
   "outputs": [],
   "source": [
    "score = 0\n",
    "name = input(\"enter name: \")\n",
    "age = int(input(\"enter name: \"))"
   ]
  },
  {
   "cell_type": "code",
   "execution_count": 3,
   "id": "b8fa69d3",
   "metadata": {},
   "outputs": [
    {
     "name": "stdout",
     "output_type": "stream",
     "text": [
      "<class 'str'>\n",
      "<class 'int'>\n"
     ]
    }
   ],
   "source": [
    "a = \"3\"\n",
    "print(type(a))\n",
    "a = int(a)\n",
    "print(type(a))"
   ]
  },
  {
   "cell_type": "code",
   "execution_count": 7,
   "id": "7d377dc8",
   "metadata": {},
   "outputs": [
    {
     "name": "stdout",
     "output_type": "stream",
     "text": [
      "True\n"
     ]
    }
   ],
   "source": [
    "a = 23\n",
    "b = 56\n",
    "\n",
    "print(a < b and b > a)"
   ]
  },
  {
   "cell_type": "code",
   "execution_count": 9,
   "id": "aab7c053",
   "metadata": {},
   "outputs": [
    {
     "name": "stdout",
     "output_type": "stream",
     "text": [
      "True\n"
     ]
    }
   ],
   "source": [
    "marks = 68\n",
    "\n",
    "print(marks > 60 and marks < 80)"
   ]
  },
  {
   "cell_type": "code",
   "execution_count": 12,
   "id": "3f8bccf2",
   "metadata": {},
   "outputs": [
    {
     "name": "stdout",
     "output_type": "stream",
     "text": [
      "True\n"
     ]
    }
   ],
   "source": [
    "marks = 68\n",
    "\n",
    "print( marks > 60 or marks > 80)"
   ]
  },
  {
   "cell_type": "code",
   "execution_count": 14,
   "id": "4a096aba",
   "metadata": {},
   "outputs": [
    {
     "name": "stdout",
     "output_type": "stream",
     "text": [
      "False\n"
     ]
    }
   ],
   "source": [
    "marks = 68\n",
    "print(not(marks > 60))"
   ]
  },
  {
   "cell_type": "code",
   "execution_count": 17,
   "id": "f7be500c",
   "metadata": {},
   "outputs": [
    {
     "name": "stdout",
     "output_type": "stream",
     "text": [
      "True\n"
     ]
    }
   ],
   "source": [
    "a = 30\n",
    "b = 40\n",
    "print(not(a == b))"
   ]
  },
  {
   "cell_type": "code",
   "execution_count": 24,
   "id": "0253911d",
   "metadata": {},
   "outputs": [
    {
     "name": "stdout",
     "output_type": "stream",
     "text": [
      "110\n",
      "60\n"
     ]
    }
   ],
   "source": [
    "amount = 0\n",
    "amount = 60\n",
    "amount += 50\n",
    "print(amount)\n",
    "amount -= 50\n",
    "print(amount)\n"
   ]
  },
  {
   "cell_type": "code",
   "execution_count": 28,
   "id": "cd0d317e",
   "metadata": {},
   "outputs": [
    {
     "name": "stdout",
     "output_type": "stream",
     "text": [
      "False\n"
     ]
    }
   ],
   "source": [
    "a = \"Hello\"\n",
    "print(\"e\" not in a)"
   ]
  },
  {
   "cell_type": "code",
   "execution_count": 33,
   "id": "bf9f9237",
   "metadata": {},
   "outputs": [
    {
     "name": "stdout",
     "output_type": "stream",
     "text": [
      "False\n"
     ]
    }
   ],
   "source": [
    "a = 30\n",
    "b = 30\n",
    "print(a is b)"
   ]
  },
  {
   "cell_type": "markdown",
   "id": "b32b4ec1",
   "metadata": {},
   "source": [
    "# Conditional statements"
   ]
  },
  {
   "cell_type": "code",
   "execution_count": 42,
   "id": "26e2bd12",
   "metadata": {},
   "outputs": [
    {
     "name": "stdout",
     "output_type": "stream",
     "text": [
      "Enter name: Tanuj\n",
      "Enter ph_no: 832723\n",
      "how many seats do you want? 5\n",
      "do you want a combo of rs 300? no\n",
      "1250\n"
     ]
    }
   ],
   "source": [
    "name = input(\"Enter name: \")\n",
    "ph_no = input(\"Enter ph_no: \")\n",
    "seats = int(input(\"how many seats do you want? \"))\n",
    "amount = 250*seats\n",
    "combo = input(\"do you want a combo of rs 300? \")\n",
    "if combo == \"yes\":\n",
    "    amount += 300\n",
    "print(amount)\n"
   ]
  },
  {
   "cell_type": "code",
   "execution_count": 41,
   "id": "694c4a44",
   "metadata": {},
   "outputs": [],
   "source": [
    "marks = 80\n",
    "\n",
    "if marks > 90:\n",
    "    print(\"pass\")"
   ]
  },
  {
   "cell_type": "code",
   "execution_count": 48,
   "id": "8f63aab1",
   "metadata": {},
   "outputs": [
    {
     "name": "stdout",
     "output_type": "stream",
     "text": [
      "do you have a coupon: yes\n",
      "350\n"
     ]
    }
   ],
   "source": [
    "amount = 400\n",
    "coupon = input(\"do you have a coupon: \")\n",
    "if coupon == \"yes\":\n",
    "    amount -=50\n",
    "print(amount)"
   ]
  },
  {
   "cell_type": "code",
   "execution_count": 52,
   "id": "132a4d4f",
   "metadata": {},
   "outputs": [
    {
     "name": "stdout",
     "output_type": "stream",
     "text": [
      "pass\n"
     ]
    }
   ],
   "source": [
    "num = 80\n",
    "\n",
    "if num > 60:\n",
    "    print(\"pass\")"
   ]
  },
  {
   "cell_type": "code",
   "execution_count": null,
   "id": "a97edf45",
   "metadata": {},
   "outputs": [],
   "source": [
    "payment_type = input(\"what will be your payment mode? \")\n",
    "if payment_type == \"UPI\":\n",
    "    print(\"allow it\")"
   ]
  }
 ],
 "metadata": {
  "kernelspec": {
   "display_name": "Python 3 (ipykernel)",
   "language": "python",
   "name": "python3"
  },
  "language_info": {
   "codemirror_mode": {
    "name": "ipython",
    "version": 3
   },
   "file_extension": ".py",
   "mimetype": "text/x-python",
   "name": "python",
   "nbconvert_exporter": "python",
   "pygments_lexer": "ipython3",
   "version": "3.11.2"
  }
 },
 "nbformat": 4,
 "nbformat_minor": 5
}
