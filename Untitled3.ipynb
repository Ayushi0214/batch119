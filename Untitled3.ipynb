{
 "cells": [
  {
   "cell_type": "code",
   "execution_count": 4,
   "id": "5af9c614",
   "metadata": {},
   "outputs": [
    {
     "name": "stdout",
     "output_type": "stream",
     "text": [
      "0\n",
      "1\n",
      "2\n",
      "3\n"
     ]
    }
   ],
   "source": [
    "lives = 3\n",
    "a = 0\n",
    "while a <= lives:\n",
    "    print(a)\n",
    "    a+=1"
   ]
  },
  {
   "cell_type": "code",
   "execution_count": 1,
   "id": "d511fada",
   "metadata": {},
   "outputs": [
    {
     "name": "stdout",
     "output_type": "stream",
     "text": [
      "enter 1st number: 12\n",
      "enter 2nd number: 56\n",
      "68\n",
      "do you want to add more number? hello\n"
     ]
    }
   ],
   "source": [
    "repeat = \"yes\"\n",
    "while repeat == \"yes\":\n",
    "    num1 = int(input('enter 1st number: '))\n",
    "    num2 = int(input(\"enter 2nd number: \"))\n",
    "    print(num1+num2)\n",
    "    \n",
    "    repeat = input(\"do you want to add more number? \")"
   ]
  },
  {
   "cell_type": "code",
   "execution_count": 7,
   "id": "476be206",
   "metadata": {},
   "outputs": [
    {
     "name": "stdout",
     "output_type": "stream",
     "text": [
      "12\n",
      "36\n",
      "60\n",
      "84\n",
      "108\n"
     ]
    }
   ],
   "source": [
    "for i in range(1,11,2):\n",
    "    print(i*12)"
   ]
  },
  {
   "cell_type": "code",
   "execution_count": 6,
   "id": "d9f8467c",
   "metadata": {},
   "outputs": [
    {
     "name": "stdout",
     "output_type": "stream",
     "text": [
      "12\n",
      "36\n",
      "60\n",
      "84\n",
      "108\n"
     ]
    }
   ],
   "source": [
    "num = 1\n",
    "while num <= 10:\n",
    "    print(12*num)\n",
    "    num+=2"
   ]
  },
  {
   "cell_type": "code",
   "execution_count": 10,
   "id": "13de1f6d",
   "metadata": {},
   "outputs": [
    {
     "name": "stdout",
     "output_type": "stream",
     "text": [
      "0\n",
      "12\n",
      "24\n",
      "36\n",
      "48\n",
      "60\n",
      "72\n",
      "84\n",
      "96\n",
      "108\n",
      "120\n",
      "132\n",
      "144\n",
      "156\n",
      "168\n",
      "180\n",
      "192\n"
     ]
    }
   ],
   "source": [
    "num = 0\n",
    "while num <=200:\n",
    "    print(num)\n",
    "    num+=12"
   ]
  },
  {
   "cell_type": "code",
   "execution_count": 20,
   "id": "d86e1498",
   "metadata": {},
   "outputs": [
    {
     "name": "stdout",
     "output_type": "stream",
     "text": [
      "650\n"
     ]
    }
   ],
   "source": [
    "#find the sum of all the even numbers upto 50\n",
    "sum = 0\n",
    "for i in range(0,51):\n",
    "    if i % 2 ==0:\n",
    "        sum+=i\n",
    "print(sum)\n",
    "    \n"
   ]
  },
  {
   "cell_type": "code",
   "execution_count": 23,
   "id": "3e7f04a7",
   "metadata": {},
   "outputs": [
    {
     "name": "stdout",
     "output_type": "stream",
     "text": [
      "650\n"
     ]
    }
   ],
   "source": [
    "sum = 0\n",
    "num = 0\n",
    "while num <=50:\n",
    "        sum+=num\n",
    "        num+=2\n",
    "print(sum)"
   ]
  },
  {
   "cell_type": "code",
   "execution_count": null,
   "id": "124631ed",
   "metadata": {},
   "outputs": [],
   "source": []
  }
 ],
 "metadata": {
  "kernelspec": {
   "display_name": "Python 3 (ipykernel)",
   "language": "python",
   "name": "python3"
  },
  "language_info": {
   "codemirror_mode": {
    "name": "ipython",
    "version": 3
   },
   "file_extension": ".py",
   "mimetype": "text/x-python",
   "name": "python",
   "nbconvert_exporter": "python",
   "pygments_lexer": "ipython3",
   "version": "3.11.2"
  }
 },
 "nbformat": 4,
 "nbformat_minor": 5
}
