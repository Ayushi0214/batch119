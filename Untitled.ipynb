{
 "cells": [
  {
   "cell_type": "code",
   "execution_count": 1,
   "id": "82cb76ce",
   "metadata": {},
   "outputs": [
    {
     "name": "stdout",
     "output_type": "stream",
     "text": [
      "False\n"
     ]
    }
   ],
   "source": [
    "print(\"vishal\" in \"batch119\")"
   ]
  },
  {
   "cell_type": "code",
   "execution_count": 3,
   "id": "946bd888",
   "metadata": {},
   "outputs": [
    {
     "name": "stdout",
     "output_type": "stream",
     "text": [
      "True\n"
     ]
    }
   ],
   "source": [
    "a = 20\n",
    "b = 20\n",
    "print(a is b)"
   ]
  },
  {
   "cell_type": "code",
   "execution_count": 5,
   "id": "1275cf60",
   "metadata": {},
   "outputs": [
    {
     "name": "stdout",
     "output_type": "stream",
     "text": [
      "True\n"
     ]
    }
   ],
   "source": [
    "avengers = [\"Vision\",\"hulk\",\"thor\"]\n",
    "print(\"hulk\" in avengers)"
   ]
  },
  {
   "cell_type": "markdown",
   "id": "ed4bf869",
   "metadata": {},
   "source": [
    "# If_else condition"
   ]
  },
  {
   "cell_type": "code",
   "execution_count": 7,
   "id": "b5389fa1",
   "metadata": {},
   "outputs": [
    {
     "name": "stdout",
     "output_type": "stream",
     "text": [
      "no mobile for a month\n"
     ]
    }
   ],
   "source": [
    "marks = 65\n",
    "\n",
    "\n",
    "if marks > 70:\n",
    "    print(\"you will get a new phone\")\n",
    "else:\n",
    "    print(\"no mobile for a month\")"
   ]
  },
  {
   "cell_type": "code",
   "execution_count": 9,
   "id": "c53e1eb1",
   "metadata": {},
   "outputs": [
    {
     "name": "stdout",
     "output_type": "stream",
     "text": [
      "enter any number: 88\n",
      "even number\n"
     ]
    }
   ],
   "source": [
    "num = int(input(\"enter any number: \"))\n",
    "\n",
    "if num % 2 == 0:\n",
    "    print(\"even number\")\n",
    "else:\n",
    "    print(\"odd number\")"
   ]
  },
  {
   "cell_type": "code",
   "execution_count": null,
   "id": "d2ee379e",
   "metadata": {},
   "outputs": [],
   "source": [
    "num = int(input(\"enter any number: \"))\n",
    "\n",
    "if num > 0:\n",
    "    print(\"positive\")\n",
    "else:\n",
    "    print(\"negative\")"
   ]
  },
  {
   "cell_type": "markdown",
   "id": "ccc0dc95",
   "metadata": {},
   "source": [
    "# if-elif-else condition"
   ]
  },
  {
   "cell_type": "code",
   "execution_count": 13,
   "id": "5331a918",
   "metadata": {},
   "outputs": [],
   "source": [
    "marks = 55\n",
    "\n",
    "\n",
    "if marks >=90:\n",
    "    print(\"you can go to a trip\")\n",
    "elif marks >= 70 and marks < 90:\n",
    "    print(\"you will get a new mobile\")\n",
    "elif marks >= 60 and marks < 70:\n",
    "    print(\"no phone for a month\")\n",
    "else:\n",
    "    print(\"you will get buffalo\")"
   ]
  },
  {
   "cell_type": "code",
   "execution_count": null,
   "id": "c892797a",
   "metadata": {},
   "outputs": [],
   "source": [
    "num = int(input(\"enter any number within 5 digits here: \"))\n",
    "\n",
    "if num >=0 and num <=9:\n",
    "    print(\"1 digit number\")\n",
    "elif num >=10 and num <= 99:\n",
    "    print(\"2 digit number\")\n",
    "elif num >=100 and num<=999:\n",
    "    print(\"3digit number\")\n",
    "elif num >=1000 and num <= 9999:\n",
    "    print(\"4 digit number\")\n",
    "else:\n",
    "    print(\"5 digit number\")"
   ]
  },
  {
   "cell_type": "code",
   "execution_count": null,
   "id": "8dc8a0b2",
   "metadata": {},
   "outputs": [],
   "source": [
    "num = int(input(\"enter any number within 5 digits here: \"))\n",
    "\n",
    "if num >= 0 and num <= 9:\n",
    "    print(\"1 digit number\")\n",
    "elif num >= 10 and num <= 99:\n",
    "    print(\"2 digit number\")\n",
    "elif num >= 100 and num<= 999:\n",
    "    print(\"3 digit number\")\n",
    "elif num >= 1000 and num <= 9999:\n",
    "    print(\"4 digit number\")\n",
    "else:\n",
    "    print(\"5 digit number\")"
   ]
  }
 ],
 "metadata": {
  "kernelspec": {
   "display_name": "Python 3 (ipykernel)",
   "language": "python",
   "name": "python3"
  },
  "language_info": {
   "codemirror_mode": {
    "name": "ipython",
    "version": 3
   },
   "file_extension": ".py",
   "mimetype": "text/x-python",
   "name": "python",
   "nbconvert_exporter": "python",
   "pygments_lexer": "ipython3",
   "version": "3.11.2"
  }
 },
 "nbformat": 4,
 "nbformat_minor": 5
}
