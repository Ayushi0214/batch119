{
 "cells": [
  {
   "cell_type": "markdown",
   "id": "f2d645ef",
   "metadata": {},
   "source": [
    "# pip install pandas"
   ]
  },
  {
   "cell_type": "code",
   "execution_count": 13,
   "id": "89a7d4f4",
   "metadata": {},
   "outputs": [
    {
     "name": "stdout",
     "output_type": "stream",
     "text": [
      "30149\n",
      "29\n",
      "16000\n",
      "10\n",
      "1039.6206896551723\n",
      "257.0\n"
     ]
    }
   ],
   "source": [
    "#pip install openpyxl\n",
    "import pandas as pd\n",
    "\n",
    "data = pd.read_excel(\"expense3.xlsx\")\n",
    "\n",
    "df = pd.DataFrame(data)\n",
    "#sum\n",
    "print(df[\"Amount\"].sum())\n",
    "#count\n",
    "print(df[\"Date\"].count())\n",
    "#max\n",
    "print(df[\"Amount\"].max())\n",
    "#min\n",
    "print(df[\"Amount\"].min())\n",
    "#mean\n",
    "print(df[\"Amount\"].mean())\n",
    "#median\n",
    "print(df[\"Amount\"].median())"
   ]
  },
  {
   "cell_type": "code",
   "execution_count": 25,
   "id": "32202761",
   "metadata": {},
   "outputs": [
    {
     "name": "stdout",
     "output_type": "stream",
     "text": [
      "     EEID           Name               Job Title\n",
      "0  E04105  Theodore Dinh     Technical Architect\n",
      "1  E01639      Austin Vo             Sr. Analyst\n",
      "2  E00644   Joshua Gupta  Account Representative\n",
      "3  E04332    Luke Martin                 Analyst\n",
      "4  E04533  Easton Bailey                 Manager\n",
      "5  E00530      Eli Jones                 Manager\n",
      "6  E03496    Robert Yang             Sr. Analyst\n",
      "7  E01639      Austin Vo             Sr. Analyst\n",
      "8  E04332    Luke Martin                 Analyst\n",
      "9  E04533  Easton Bailey                 Manager\n"
     ]
    }
   ],
   "source": [
    "#how to eliminate duplicate values in pandas\n",
    "import pandas as pd\n",
    "\n",
    "data = pd.read_excel(\"expense4.xlsx\", \"emp_data\")\n",
    "\n",
    "df = pd.DataFrame(data)\n",
    "print(df)"
   ]
  },
  {
   "cell_type": "code",
   "execution_count": 38,
   "id": "93877efa",
   "metadata": {},
   "outputs": [
    {
     "name": "stdout",
     "output_type": "stream",
     "text": [
      "     EEID           Name               Job Title\n",
      "0  E04105  Theodore Dinh     Technical Architect\n",
      "1  E01639      Austin Vo             Sr. Analyst\n",
      "2  E00644   Joshua Gupta  Account Representative\n",
      "3  E04332    Luke Martin                 Analyst\n",
      "4  E04533  Easton Bailey                 Manager\n",
      "5  E00530      Eli Jones                 Manager\n",
      "6  E03496    Robert Yang             Sr. Analyst\n",
      "     EEID         Name\n",
      "1  E01639    Austin Vo\n",
      "3  E04332  Luke Martin\n",
      "5  E00530    Eli Jones\n",
      "6  E03496  Robert Yang\n"
     ]
    }
   ],
   "source": [
    "#df.drop_duplicates\n",
    "import pandas as pd\n",
    "\n",
    "data = pd.read_excel(\"expense4.xlsx\", \"emp_data\")\n",
    "\n",
    "df = pd.DataFrame(data)\n",
    "df = df.drop_duplicates(\"EEID\")\n",
    "print(df)\n",
    "\n",
    "#delete rows and columns\n",
    "df = df.drop(\"Job Title\", axis = 1)\n",
    "df = df.drop([0,2,4], axis = 0)\n",
    "print(df)\n",
    "\n",
    "\n",
    "\n",
    "\n"
   ]
  },
  {
   "cell_type": "code",
   "execution_count": 3,
   "id": "087e1312",
   "metadata": {},
   "outputs": [
    {
     "name": "stdout",
     "output_type": "stream",
     "text": [
      "     EEID           Name            Job Title    Salary\n",
      "0  E04105  Theodore Dinh  Technical Architect   99975.0\n",
      "3  E04332    Luke Martin              Analyst   41336.0\n",
      "5  E00530      Eli Jones              Manager  105086.0\n"
     ]
    }
   ],
   "source": [
    "#Dealing with missing values\n",
    "\n",
    "import pandas as pd\n",
    "\n",
    "data = pd.read_excel(\"expense4.xlsx\", \"emp_data\")\n",
    "\n",
    "df = pd.DataFrame(data)\n",
    "#dropna will drop all the rows which have Nan values\n",
    "df = df.dropna()\n",
    "print(df)"
   ]
  },
  {
   "cell_type": "code",
   "execution_count": 57,
   "id": "63121e47",
   "metadata": {},
   "outputs": [
    {
     "name": "stdout",
     "output_type": "stream",
     "text": [
      "     EEID                Name            Job Title              Salary\n",
      "0  E04105       Theodore Dinh  Technical Architect             99975.0\n",
      "1  E01639           Austin Vo          Sr. Analyst  data not available\n",
      "2  E00644        Joshua Gupta   data not available             50994.0\n",
      "3  E04332         Luke Martin              Analyst             41336.0\n",
      "4  E04533  data not available              Manager            113527.0\n",
      "5  E00530           Eli Jones              Manager            105086.0\n",
      "6  E03496         Robert Yang   data not available             97078.0\n",
      "7  E01639           Austin Vo          Sr. Analyst  data not available\n",
      "8  E04332  data not available              Analyst            105086.0\n",
      "9  E04533       Easton Bailey              Manager  data not available\n"
     ]
    }
   ],
   "source": [
    "import pandas as pd\n",
    "import numpy as np\n",
    "\n",
    "data = pd.read_excel(\"expense4.xlsx\", \"emp_data\")\n",
    "\n",
    "df = pd.DataFrame(data)\n",
    "\n",
    "df = df.replace(np.nan, 'data not available')\n",
    "print(df)"
   ]
  },
  {
   "cell_type": "code",
   "execution_count": 55,
   "id": "8d3cba1d",
   "metadata": {},
   "outputs": [
    {
     "name": "stdout",
     "output_type": "stream",
     "text": [
      "     EEID           Name            Job Title    Salary\n",
      "0  E04105  Theodore Dinh  Technical Architect   99975.0\n",
      "1  E01639      Austin Vo          Sr. Analyst   50000.0\n",
      "2  E00644   Joshua Gupta                  NaN   50994.0\n",
      "3  E04332    Luke Martin              Analyst   41336.0\n",
      "4  E04533            NaN              Manager  113527.0\n",
      "5  E00530      Eli Jones              Manager  105086.0\n",
      "6  E03496    Robert Yang                  NaN   97078.0\n",
      "7  E01639      Austin Vo          Sr. Analyst   50000.0\n",
      "8  E04332            NaN              Analyst  105086.0\n",
      "9  E04533  Easton Bailey              Manager   50000.0\n"
     ]
    }
   ],
   "source": [
    "import pandas as pd\n",
    "import numpy as np\n",
    "\n",
    "data = pd.read_excel(\"expense4.xlsx\", \"emp_data\")\n",
    "\n",
    "df = pd.DataFrame(data)\n",
    "#Replace on the basis of columns.\n",
    "df[\"Salary\"] = df[\"Salary\"].replace(np.nan, 50000)\n",
    "print(df)"
   ]
  },
  {
   "cell_type": "code",
   "execution_count": 7,
   "id": "f00148f6",
   "metadata": {},
   "outputs": [
    {
     "name": "stdout",
     "output_type": "stream",
     "text": [
      "     EEID           Name            Job Title    Salary\n",
      "0  E04105  Theodore Dinh  Technical Architect   99975.0\n",
      "1  E01639      Austin Vo          Sr. Analyst       NaN\n",
      "2  E00644   Joshua Gupta                  NaN   50994.0\n",
      "3  E04332    Luke Martin              Analyst   41336.0\n",
      "4  E04533            NaN              Manager  113527.0\n",
      "5  E00530      Eli Jones              Manager  105086.0\n",
      "6  E03496    Robert Yang                  NaN   97078.0\n",
      "7  E01639      Austin Vo          Sr. Analyst       NaN\n",
      "8  E04332            NaN              Analyst  105086.0\n",
      "9  E04533  Easton Bailey              Manager       NaN\n",
      "\n",
      "     EEID           Name            Job Title    Salary\n",
      "0  E04105  Theodore Dinh  Technical Architect   99975.0\n",
      "1  E01639      Austin Vo          Sr. Analyst   50994.0\n",
      "2  E00644   Joshua Gupta              Analyst   50994.0\n",
      "3  E04332    Luke Martin              Analyst   41336.0\n",
      "4  E04533      Eli Jones              Manager  113527.0\n",
      "5  E00530      Eli Jones              Manager  105086.0\n",
      "6  E03496    Robert Yang          Sr. Analyst   97078.0\n",
      "7  E01639      Austin Vo          Sr. Analyst  105086.0\n",
      "8  E04332  Easton Bailey              Analyst  105086.0\n",
      "9  E04533  Easton Bailey              Manager       NaN\n"
     ]
    }
   ],
   "source": [
    "import pandas as pd\n",
    "import numpy as np\n",
    "\n",
    "data = pd.read_excel(\"expense4.xlsx\", \"emp_data\")\n",
    "\n",
    "df = pd.DataFrame(data)\n",
    "print(df)\n",
    "print()\n",
    "print(df.fillna(method = \"bfill\")) #forward fill #backward fill"
   ]
  },
  {
   "cell_type": "code",
   "execution_count": 17,
   "id": "e3c0faa0",
   "metadata": {},
   "outputs": [
    {
     "name": "stdout",
     "output_type": "stream",
     "text": [
      "87583.14285714286\n",
      "87583.142\n"
     ]
    }
   ],
   "source": [
    "import pandas as pd\n",
    "import numpy as np\n",
    "\n",
    "data = pd.read_excel(\"expense4.xlsx\", \"emp_data\")\n",
    "\n",
    "df = pd.DataFrame(data)\n",
    "#print(df)\n",
    "\n",
    "#find the mean of the column using np.nanmean()\n",
    "a = np.array(df[\"Salary\"])\n",
    "print(np.nanmean(a)) #87583.14\n",
    "\n",
    "#fill the average value in the empty values using df.fillna() function\n",
    "df[\"Salary\"] = df[\"Salary\"].fillna(87583.14)\n",
    "print(df[\"Salary\"].mean())"
   ]
  },
  {
   "cell_type": "code",
   "execution_count": 35,
   "id": "f6303b86",
   "metadata": {},
   "outputs": [
    {
     "name": "stdout",
     "output_type": "stream",
     "text": [
      "  First name  Last Name  Salary EEID\n",
      "0       ross  tribbiani   20000   E1\n",
      "1     rachel       bing   40000   E2\n",
      "2     monica      green   25000   E7\n",
      "3       joey     geller   60000   E8\n",
      "4   chandler     buffay   33000   E4\n",
      "5    phoebe        bing   45000   E5\n",
      "\n",
      "   Age  Gender       City\n",
      "0   23    male   new york\n",
      "1   37  female     london\n",
      "2   52  female      paris\n",
      "3   33  female   canberra\n",
      "4   41   male      sydney\n",
      "5   67    male  new delhi\n",
      "6   31  female  hyderabad\n",
      "  First name   Salary       City\n",
      "0       ross  20000.0   new york\n",
      "1     rachel  40000.0     london\n",
      "2     monica  25000.0      paris\n",
      "3       joey  60000.0   canberra\n",
      "4   chandler  33000.0     sydney\n",
      "5    phoebe   45000.0  new delhi\n",
      "6        NaN      NaN  hyderabad\n"
     ]
    }
   ],
   "source": [
    "#concat, merge (joins)\n",
    "import pandas as pd\n",
    "\n",
    "\n",
    "data1 = pd.read_excel(\"practice_1.xlsx\", 0)\n",
    "data2 = pd.read_excel(\"practice_1.xlsx\", 3)\n",
    "\n",
    "\n",
    "df1 = pd.DataFrame(data1)\n",
    "df2 = pd.DataFrame(data2)\n",
    "print(df1)\n",
    "print()\n",
    "print(df2)\n",
    "#use concat method to add two different dataframes \n",
    "df3 = pd.concat([df1[\"First name\"],df1[\"Salary\"],df2[\"City\"]], axis = 1)\n",
    "print(df3)"
   ]
  },
  {
   "cell_type": "code",
   "execution_count": 27,
   "id": "9e78f640",
   "metadata": {},
   "outputs": [
    {
     "name": "stdout",
     "output_type": "stream",
     "text": [
      "  First name  Last Name  Salary\n",
      "0       ross  tribbiani   20000\n",
      "1     rachel       bing   40000\n",
      "2     monica      green   25000\n",
      "3       joey     geller   60000\n",
      "4   chandler     buffay   33000\n",
      "5    phoebe        bing   45000\n",
      "\n",
      "  First name  Age  Gender       City\n",
      "0       ross   23    male   new york\n",
      "1     rachel   37  female     london\n",
      "2       joey   33  female   canberra\n",
      "3   chandler   41   male      sydney\n",
      "4    phoebe    67    male  new delhi\n",
      "5    gunther   31    male  hyderabad\n",
      "\n",
      "  First name  Last Name  Salary  Age  Gender       City\n",
      "0       ross  tribbiani   20000   23    male   new york\n",
      "1     rachel       bing   40000   37  female     london\n",
      "2       joey     geller   60000   33  female   canberra\n",
      "3   chandler     buffay   33000   41   male      sydney\n",
      "4    phoebe        bing   45000   67    male  new delhi\n"
     ]
    }
   ],
   "source": [
    "#Merge\n",
    "\n",
    "data1 = pd.read_excel(\"practice_1.xlsx\", 0)\n",
    "data2 = pd.read_excel(\"practice_1.xlsx\", 1)\n",
    "\n",
    "\n",
    "df1 = pd.DataFrame(data1)\n",
    "df2 = pd.DataFrame(data2)\n",
    "print(df1)\n",
    "print()\n",
    "print(df2)\n",
    "print()\n",
    "#use merge method to add two different dataframes which has one common column\n",
    "#make sure that when you join these dataframes use a column with unique values. \n",
    "print(pd.merge(df1,df2, how = \"inner\")) #inner means common data\n"
   ]
  },
  {
   "cell_type": "code",
   "execution_count": 33,
   "id": "3e76d219",
   "metadata": {},
   "outputs": [
    {
     "name": "stdout",
     "output_type": "stream",
     "text": [
      "  First name  Last Name  Salary EEID\n",
      "0       ross  tribbiani   20000   E1\n",
      "1     rachel       bing   40000   E2\n",
      "2     monica      green   25000   E7\n",
      "3       joey     geller   60000   E8\n",
      "4   chandler     buffay   33000   E4\n",
      "5    phoebe        bing   45000   E5\n",
      "\n",
      "  First name  Age  Gender       City EEID\n",
      "0       ross   23    male   new york   E1\n",
      "1     rachel   37  female     london   E2\n",
      "2       joey   33  female   canberra   E3\n",
      "3   chandler   41   male      sydney   E4\n",
      "4    phoebe    67    male  new delhi   E5\n",
      "5    gunther   31    male  hyderabad   E6\n",
      "\n",
      "  First name_x  Last Name  Salary EEID First name_y   Age  Gender       City\n",
      "0         ross  tribbiani   20000   E1         ross  23.0    male   new york\n",
      "1       rachel       bing   40000   E2       rachel  37.0  female     london\n",
      "2       monica      green   25000   E7          NaN   NaN     NaN        NaN\n",
      "3         joey     geller   60000   E8          NaN   NaN     NaN        NaN\n",
      "4     chandler     buffay   33000   E4     chandler  41.0   male      sydney\n",
      "5      phoebe        bing   45000   E5      phoebe   67.0    male  new delhi\n"
     ]
    }
   ],
   "source": [
    "data1 = pd.read_excel(\"practice_1.xlsx\", 0)\n",
    "data2 = pd.read_excel(\"practice_1.xlsx\", 1)\n",
    "\n",
    "\n",
    "df1 = pd.DataFrame(data1)\n",
    "df2 = pd.DataFrame(data2)\n",
    "print(df1)\n",
    "print()\n",
    "print(df2)\n",
    "print()\n",
    "print(pd.merge(df1,df2, how = \"left\", on = \"EEID\")) #left means add the data from left and common data from right"
   ]
  },
  {
   "cell_type": "code",
   "execution_count": 29,
   "id": "e1241605",
   "metadata": {},
   "outputs": [
    {
     "name": "stdout",
     "output_type": "stream",
     "text": [
      "  First name  Last Name  Salary\n",
      "0       ross  tribbiani   20000\n",
      "1     rachel       bing   40000\n",
      "2     monica      green   25000\n",
      "3       joey     geller   60000\n",
      "4   chandler     buffay   33000\n",
      "5    phoebe        bing   45000\n",
      "\n",
      "  First name  Age  Gender       City\n",
      "0       ross   23    male   new york\n",
      "1     rachel   37  female     london\n",
      "2       joey   33  female   canberra\n",
      "3   chandler   41   male      sydney\n",
      "4    phoebe    67    male  new delhi\n",
      "5    gunther   31    male  hyderabad\n",
      "\n",
      "  First name  Last Name   Salary  Age  Gender       City\n",
      "0       ross  tribbiani  20000.0   23    male   new york\n",
      "1     rachel       bing  40000.0   37  female     london\n",
      "2       joey     geller  60000.0   33  female   canberra\n",
      "3   chandler     buffay  33000.0   41   male      sydney\n",
      "4    phoebe        bing  45000.0   67    male  new delhi\n",
      "5    gunther        NaN      NaN   31    male  hyderabad\n"
     ]
    }
   ],
   "source": [
    "data1 = pd.read_excel(\"practice_1.xlsx\", 0)\n",
    "data2 = pd.read_excel(\"practice_1.xlsx\", 1)\n",
    "\n",
    "\n",
    "df1 = pd.DataFrame(data1)\n",
    "df2 = pd.DataFrame(data2)\n",
    "print(df1)\n",
    "print()\n",
    "print(df2)\n",
    "print()\n",
    "print(pd.merge(df1,df2, how = \"right\")) #Right means add the data from left and common data from left"
   ]
  },
  {
   "cell_type": "code",
   "execution_count": 30,
   "id": "b769c8d4",
   "metadata": {},
   "outputs": [
    {
     "name": "stdout",
     "output_type": "stream",
     "text": [
      "  First name  Last Name  Salary\n",
      "0       ross  tribbiani   20000\n",
      "1     rachel       bing   40000\n",
      "2     monica      green   25000\n",
      "3       joey     geller   60000\n",
      "4   chandler     buffay   33000\n",
      "5    phoebe        bing   45000\n",
      "\n",
      "  First name  Age  Gender       City\n",
      "0       ross   23    male   new york\n",
      "1     rachel   37  female     london\n",
      "2       joey   33  female   canberra\n",
      "3   chandler   41   male      sydney\n",
      "4    phoebe    67    male  new delhi\n",
      "5    gunther   31    male  hyderabad\n",
      "\n",
      "  First name  Last Name   Salary   Age  Gender       City\n",
      "0       ross  tribbiani  20000.0  23.0    male   new york\n",
      "1     rachel       bing  40000.0  37.0  female     london\n",
      "2     monica      green  25000.0   NaN     NaN        NaN\n",
      "3       joey     geller  60000.0  33.0  female   canberra\n",
      "4   chandler     buffay  33000.0  41.0   male      sydney\n",
      "5    phoebe        bing  45000.0  67.0    male  new delhi\n",
      "6    gunther        NaN      NaN  31.0    male  hyderabad\n"
     ]
    }
   ],
   "source": [
    "data1 = pd.read_excel(\"practice_1.xlsx\", 0)\n",
    "data2 = pd.read_excel(\"practice_1.xlsx\", 1)\n",
    "\n",
    "\n",
    "df1 = pd.DataFrame(data1)\n",
    "df2 = pd.DataFrame(data2)\n",
    "print(df1)\n",
    "print()\n",
    "print(df2)\n",
    "print()\n",
    "print(pd.merge(df1,df2, how = \"outer\")) #outer means all the data "
   ]
  },
  {
   "cell_type": "code",
   "execution_count": 31,
   "id": "ebd93266",
   "metadata": {},
   "outputs": [
    {
     "name": "stdout",
     "output_type": "stream",
     "text": [
      "  First name  Last Name  Salary\n",
      "0       ross  tribbiani   20000\n",
      "1     rachel       bing   40000\n",
      "2     monica      green   25000\n",
      "3       joey     geller   60000\n",
      "4   chandler     buffay   33000\n",
      "5    phoebe        bing   45000\n",
      "\n",
      "  First name  Age  Gender       City\n",
      "0       ross   23    male   new york\n",
      "1     rachel   37  female     london\n",
      "2       joey   33  female   canberra\n",
      "3   chandler   41   male      sydney\n",
      "4    phoebe    67    male  new delhi\n",
      "5    gunther   31    male  hyderabad\n",
      "\n",
      "   First name_x  Last Name  Salary First name_y  Age  Gender       City\n",
      "0          ross  tribbiani   20000         ross   23    male   new york\n",
      "1          ross  tribbiani   20000       rachel   37  female     london\n",
      "2          ross  tribbiani   20000         joey   33  female   canberra\n",
      "3          ross  tribbiani   20000     chandler   41   male      sydney\n",
      "4          ross  tribbiani   20000      phoebe    67    male  new delhi\n",
      "5          ross  tribbiani   20000      gunther   31    male  hyderabad\n",
      "6        rachel       bing   40000         ross   23    male   new york\n",
      "7        rachel       bing   40000       rachel   37  female     london\n",
      "8        rachel       bing   40000         joey   33  female   canberra\n",
      "9        rachel       bing   40000     chandler   41   male      sydney\n",
      "10       rachel       bing   40000      phoebe    67    male  new delhi\n",
      "11       rachel       bing   40000      gunther   31    male  hyderabad\n",
      "12       monica      green   25000         ross   23    male   new york\n",
      "13       monica      green   25000       rachel   37  female     london\n",
      "14       monica      green   25000         joey   33  female   canberra\n",
      "15       monica      green   25000     chandler   41   male      sydney\n",
      "16       monica      green   25000      phoebe    67    male  new delhi\n",
      "17       monica      green   25000      gunther   31    male  hyderabad\n",
      "18         joey     geller   60000         ross   23    male   new york\n",
      "19         joey     geller   60000       rachel   37  female     london\n",
      "20         joey     geller   60000         joey   33  female   canberra\n",
      "21         joey     geller   60000     chandler   41   male      sydney\n",
      "22         joey     geller   60000      phoebe    67    male  new delhi\n",
      "23         joey     geller   60000      gunther   31    male  hyderabad\n",
      "24     chandler     buffay   33000         ross   23    male   new york\n",
      "25     chandler     buffay   33000       rachel   37  female     london\n",
      "26     chandler     buffay   33000         joey   33  female   canberra\n",
      "27     chandler     buffay   33000     chandler   41   male      sydney\n",
      "28     chandler     buffay   33000      phoebe    67    male  new delhi\n",
      "29     chandler     buffay   33000      gunther   31    male  hyderabad\n",
      "30      phoebe        bing   45000         ross   23    male   new york\n",
      "31      phoebe        bing   45000       rachel   37  female     london\n",
      "32      phoebe        bing   45000         joey   33  female   canberra\n",
      "33      phoebe        bing   45000     chandler   41   male      sydney\n",
      "34      phoebe        bing   45000      phoebe    67    male  new delhi\n",
      "35      phoebe        bing   45000      gunther   31    male  hyderabad\n"
     ]
    }
   ],
   "source": [
    "data1 = pd.read_excel(\"practice_1.xlsx\", 0)\n",
    "data2 = pd.read_excel(\"practice_1.xlsx\", 1)\n",
    "\n",
    "\n",
    "df1 = pd.DataFrame(data1)\n",
    "df2 = pd.DataFrame(data2)\n",
    "print(df1)\n",
    "print()\n",
    "print(df2)\n",
    "print()\n",
    "print(pd.merge(df1,df2, how = \"cross\")) #cross means one values of df1 with all the values of df2"
   ]
  }
 ],
 "metadata": {
  "kernelspec": {
   "display_name": "Python 3 (ipykernel)",
   "language": "python",
   "name": "python3"
  },
  "language_info": {
   "codemirror_mode": {
    "name": "ipython",
    "version": 3
   },
   "file_extension": ".py",
   "mimetype": "text/x-python",
   "name": "python",
   "nbconvert_exporter": "python",
   "pygments_lexer": "ipython3",
   "version": "3.11.3"
  }
 },
 "nbformat": 4,
 "nbformat_minor": 5
}
