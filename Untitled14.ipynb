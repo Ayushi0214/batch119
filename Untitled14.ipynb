{
 "cells": [
  {
   "cell_type": "code",
   "execution_count": 1,
   "id": "0a9bc172",
   "metadata": {},
   "outputs": [
    {
     "name": "stdout",
     "output_type": "stream",
     "text": [
      "{'name': 'Divya', 'Gender': 'Male', 'age': 26}\n"
     ]
    }
   ],
   "source": [
    "emp1 = {\"name\":\"Divya\",\"Gender\":\"Male\",\"age\":26}\n",
    "print(emp1)"
   ]
  },
  {
   "cell_type": "code",
   "execution_count": 8,
   "id": "0784310a",
   "metadata": {},
   "outputs": [
    {
     "name": "stdout",
     "output_type": "stream",
     "text": [
      "25 Male\n"
     ]
    }
   ],
   "source": [
    "company = {\"Emp1\":{\"name\":\"Divya\",\"Gender\":\"Male\",\"age\":26},\n",
    "          \"Emp2\":{\"name\":\"Hussain\",\"Gender\":\"Male\",\"age\":23},\n",
    "          \"Emp3\":{\"name\":\"Kapil\",\"Gender\":\"Male\",\"age\":25}}\n",
    "print(company[\"Emp3\"][\"age\"],company[\"Emp3\"][\"Gender\"])\n"
   ]
  },
  {
   "cell_type": "code",
   "execution_count": 10,
   "id": "1ffa0b7b",
   "metadata": {},
   "outputs": [
    {
     "name": "stdout",
     "output_type": "stream",
     "text": [
      "{'Names': ['Divya', 'Hussain', 'Kapil'], 'Gender': ['Male', 'Male', 'Male'], 'Age': [26, 23, 25]}\n",
      "     Names Gender  Age\n",
      "0    Divya   Male   26\n",
      "1  Hussain   Male   23\n",
      "2    Kapil   Male   25\n"
     ]
    }
   ],
   "source": [
    "import pandas as pd\n",
    "Company = {\"Names\":[\"Divya\",\"Hussain\",\"Kapil\"],\n",
    "          \"Gender\":[\"Male\",'Male',\"Male\"],\n",
    "          \"Age\":[26,23,25]}\n",
    "\n",
    "print(Company)\n",
    "df = pd.DataFrame(Company)\n",
    "print(df)"
   ]
  },
  {
   "cell_type": "code",
   "execution_count": 21,
   "id": "7a0fb36b",
   "metadata": {},
   "outputs": [
    {
     "name": "stdout",
     "output_type": "stream",
     "text": [
      "\n",
      "press 1 to insert\n",
      "press 2 to view country names\n",
      "press 3 to view capital names\n",
      "press 4 to delete\n",
      "enter choice: 1\n",
      "enter country's name: Uk\n",
      "enter capital's name: London\n",
      "{'UK': 'LONDON'}\n",
      "enter choice: 1\n",
      "enter country's name: Australia\n",
      "enter capital's name: Canberra\n",
      "{'UK': 'LONDON', 'AUSTRALIA': 'CANBERRA'}\n",
      "enter choice: 2\n",
      "dict_keys(['UK', 'AUSTRALIA'])\n",
      "enter choice: 3\n",
      "dict_values(['LONDON', 'CANBERRA'])\n",
      "enter choice: 4\n",
      "enter country's name: UK\n",
      "{'AUSTRALIA': 'CANBERRA'}\n",
      "enter choice: 4\n",
      "enter country's name: Australia\n",
      "{}\n",
      "enter choice: 1\n",
      "enter country's name: India\n",
      "enter capital's name: New Delhi\n",
      "{'INDIA': 'NEW DELHI'}\n"
     ]
    },
    {
     "ename": "KeyboardInterrupt",
     "evalue": "Interrupted by user",
     "output_type": "error",
     "traceback": [
      "\u001b[1;31m---------------------------------------------------------------------------\u001b[0m",
      "\u001b[1;31mKeyboardInterrupt\u001b[0m                         Traceback (most recent call last)",
      "Cell \u001b[1;32mIn[21], line 10\u001b[0m\n\u001b[0;32m      3\u001b[0m \u001b[38;5;28mprint\u001b[39m(\u001b[38;5;124m\"\"\"\u001b[39m\n\u001b[0;32m      4\u001b[0m \u001b[38;5;124mpress 1 to insert\u001b[39m\n\u001b[0;32m      5\u001b[0m \u001b[38;5;124mpress 2 to view country names\u001b[39m\n\u001b[0;32m      6\u001b[0m \u001b[38;5;124mpress 3 to view capital names\u001b[39m\n\u001b[0;32m      7\u001b[0m \u001b[38;5;124mpress 4 to delete\u001b[39m\u001b[38;5;124m\"\"\"\u001b[39m)\n\u001b[0;32m      9\u001b[0m \u001b[38;5;28;01mwhile\u001b[39;00m \u001b[38;5;28;01mTrue\u001b[39;00m:\n\u001b[1;32m---> 10\u001b[0m     choice \u001b[38;5;241m=\u001b[39m \u001b[38;5;28mint\u001b[39m(\u001b[38;5;28;43minput\u001b[39;49m\u001b[43m(\u001b[49m\u001b[38;5;124;43m\"\u001b[39;49m\u001b[38;5;124;43menter choice: \u001b[39;49m\u001b[38;5;124;43m\"\u001b[39;49m\u001b[43m)\u001b[49m)\n\u001b[0;32m     12\u001b[0m     \u001b[38;5;28;01mif\u001b[39;00m choice \u001b[38;5;241m==\u001b[39m \u001b[38;5;241m1\u001b[39m:\n\u001b[0;32m     13\u001b[0m         country \u001b[38;5;241m=\u001b[39m \u001b[38;5;28minput\u001b[39m(\u001b[38;5;124m\"\u001b[39m\u001b[38;5;124menter country\u001b[39m\u001b[38;5;124m'\u001b[39m\u001b[38;5;124ms name: \u001b[39m\u001b[38;5;124m\"\u001b[39m)\u001b[38;5;241m.\u001b[39mupper()\n",
      "File \u001b[1;32m~\\AppData\\Local\\Programs\\Python\\Python311\\Lib\\site-packages\\ipykernel\\kernelbase.py:1191\u001b[0m, in \u001b[0;36mKernel.raw_input\u001b[1;34m(self, prompt)\u001b[0m\n\u001b[0;32m   1189\u001b[0m     msg \u001b[38;5;241m=\u001b[39m \u001b[38;5;124m\"\u001b[39m\u001b[38;5;124mraw_input was called, but this frontend does not support input requests.\u001b[39m\u001b[38;5;124m\"\u001b[39m\n\u001b[0;32m   1190\u001b[0m     \u001b[38;5;28;01mraise\u001b[39;00m StdinNotImplementedError(msg)\n\u001b[1;32m-> 1191\u001b[0m \u001b[38;5;28;01mreturn\u001b[39;00m \u001b[38;5;28;43mself\u001b[39;49m\u001b[38;5;241;43m.\u001b[39;49m\u001b[43m_input_request\u001b[49m\u001b[43m(\u001b[49m\n\u001b[0;32m   1192\u001b[0m \u001b[43m    \u001b[49m\u001b[38;5;28;43mstr\u001b[39;49m\u001b[43m(\u001b[49m\u001b[43mprompt\u001b[49m\u001b[43m)\u001b[49m\u001b[43m,\u001b[49m\n\u001b[0;32m   1193\u001b[0m \u001b[43m    \u001b[49m\u001b[38;5;28;43mself\u001b[39;49m\u001b[38;5;241;43m.\u001b[39;49m\u001b[43m_parent_ident\u001b[49m\u001b[43m[\u001b[49m\u001b[38;5;124;43m\"\u001b[39;49m\u001b[38;5;124;43mshell\u001b[39;49m\u001b[38;5;124;43m\"\u001b[39;49m\u001b[43m]\u001b[49m\u001b[43m,\u001b[49m\n\u001b[0;32m   1194\u001b[0m \u001b[43m    \u001b[49m\u001b[38;5;28;43mself\u001b[39;49m\u001b[38;5;241;43m.\u001b[39;49m\u001b[43mget_parent\u001b[49m\u001b[43m(\u001b[49m\u001b[38;5;124;43m\"\u001b[39;49m\u001b[38;5;124;43mshell\u001b[39;49m\u001b[38;5;124;43m\"\u001b[39;49m\u001b[43m)\u001b[49m\u001b[43m,\u001b[49m\n\u001b[0;32m   1195\u001b[0m \u001b[43m    \u001b[49m\u001b[43mpassword\u001b[49m\u001b[38;5;241;43m=\u001b[39;49m\u001b[38;5;28;43;01mFalse\u001b[39;49;00m\u001b[43m,\u001b[49m\n\u001b[0;32m   1196\u001b[0m \u001b[43m\u001b[49m\u001b[43m)\u001b[49m\n",
      "File \u001b[1;32m~\\AppData\\Local\\Programs\\Python\\Python311\\Lib\\site-packages\\ipykernel\\kernelbase.py:1234\u001b[0m, in \u001b[0;36mKernel._input_request\u001b[1;34m(self, prompt, ident, parent, password)\u001b[0m\n\u001b[0;32m   1231\u001b[0m \u001b[38;5;28;01mexcept\u001b[39;00m \u001b[38;5;167;01mKeyboardInterrupt\u001b[39;00m:\n\u001b[0;32m   1232\u001b[0m     \u001b[38;5;66;03m# re-raise KeyboardInterrupt, to truncate traceback\u001b[39;00m\n\u001b[0;32m   1233\u001b[0m     msg \u001b[38;5;241m=\u001b[39m \u001b[38;5;124m\"\u001b[39m\u001b[38;5;124mInterrupted by user\u001b[39m\u001b[38;5;124m\"\u001b[39m\n\u001b[1;32m-> 1234\u001b[0m     \u001b[38;5;28;01mraise\u001b[39;00m \u001b[38;5;167;01mKeyboardInterrupt\u001b[39;00m(msg) \u001b[38;5;28;01mfrom\u001b[39;00m \u001b[38;5;28mNone\u001b[39m\n\u001b[0;32m   1235\u001b[0m \u001b[38;5;28;01mexcept\u001b[39;00m \u001b[38;5;167;01mException\u001b[39;00m:\n\u001b[0;32m   1236\u001b[0m     \u001b[38;5;28mself\u001b[39m\u001b[38;5;241m.\u001b[39mlog\u001b[38;5;241m.\u001b[39mwarning(\u001b[38;5;124m\"\u001b[39m\u001b[38;5;124mInvalid Message:\u001b[39m\u001b[38;5;124m\"\u001b[39m, exc_info\u001b[38;5;241m=\u001b[39m\u001b[38;5;28;01mTrue\u001b[39;00m)\n",
      "\u001b[1;31mKeyboardInterrupt\u001b[0m: Interrupted by user"
     ]
    }
   ],
   "source": [
    "sample_db = {}\n",
    "\n",
    "print(\"\"\"\n",
    "press 1 to insert\n",
    "press 2 to view country names\n",
    "press 3 to view capital names\n",
    "press 4 to delete\"\"\")\n",
    "\n",
    "while True:\n",
    "    choice = int(input(\"enter choice: \"))\n",
    "\n",
    "    if choice == 1:\n",
    "        country = input(\"enter country's name: \").upper()\n",
    "        capital = input(\"enter capital's name: \").upper()\n",
    "        \n",
    "        sample_db[country] = capital\n",
    "        print(sample_db)\n",
    "        \n",
    "    elif choice == 2:\n",
    "        print(sample_db.keys())\n",
    "    \n",
    "    elif choice == 3:\n",
    "        print(sample_db.values())\n",
    "        \n",
    "    elif choice == 4:\n",
    "        country = input(\"enter country's name: \").upper()\n",
    "        del sample_db[country]\n",
    "        print(sample_db)\n",
    "        \n",
    "\n",
    "\n",
    "\n",
    "\n"
   ]
  },
  {
   "cell_type": "code",
   "execution_count": 22,
   "id": "25b5c3c3",
   "metadata": {},
   "outputs": [
    {
     "name": "stdout",
     "output_type": "stream",
     "text": [
      "{'Name': 'Ayushi', 'Gender': 'Female'}\n"
     ]
    }
   ],
   "source": [
    "a = {\"Name\":\"Ayushi\",\"Age\":25}\n",
    "a[\"Gender\"] = \"Female\"\n",
    "print(a)\n"
   ]
  }
 ],
 "metadata": {
  "kernelspec": {
   "display_name": "Python 3 (ipykernel)",
   "language": "python",
   "name": "python3"
  },
  "language_info": {
   "codemirror_mode": {
    "name": "ipython",
    "version": 3
   },
   "file_extension": ".py",
   "mimetype": "text/x-python",
   "name": "python",
   "nbconvert_exporter": "python",
   "pygments_lexer": "ipython3",
   "version": "3.11.3"
  }
 },
 "nbformat": 4,
 "nbformat_minor": 5
}
