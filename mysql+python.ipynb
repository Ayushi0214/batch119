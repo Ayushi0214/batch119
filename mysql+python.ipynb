{
 "cells": [
  {
   "cell_type": "code",
   "execution_count": 3,
   "id": "d5f3f4bc",
   "metadata": {},
   "outputs": [],
   "source": [
    "import mysql.connector\n",
    "\n",
    "conn = mysql.connector.connect(host = \"localhost\", \n",
    "                              username = \"root\", \n",
    "                              password = \"12345\") #for building the connection\n",
    "\n",
    "cur = conn.cursor() #for activating the database\n",
    "\n",
    "query = \"create database school\"  #pass your query\n",
    "\n",
    "cur.execute(query) \n",
    "conn.commit() #to make changes in database\n"
   ]
  },
  {
   "cell_type": "code",
   "execution_count": 4,
   "id": "952db14b",
   "metadata": {},
   "outputs": [],
   "source": [
    "import mysql.connector\n",
    "\n",
    "conn = mysql.connector.connect(host = \"localhost\", \n",
    "                              username = \"root\", \n",
    "                              password = \"12345\",\n",
    "                              database = \"school\") #for building the connection\n",
    "\n",
    "cur = conn.cursor() #for activating the database\n",
    "\n",
    "query = \"\"\"create table students (\n",
    "roll_no int auto_increment,\n",
    "student_name varchar(255),\n",
    "city varchar(255),\n",
    "primary key(roll_no) )\"\"\"  #pass your query\n",
    "\n",
    "cur.execute(query) \n",
    "conn.commit() #to make changes in database"
   ]
  },
  {
   "cell_type": "code",
   "execution_count": 5,
   "id": "27a234d4",
   "metadata": {},
   "outputs": [
    {
     "name": "stdout",
     "output_type": "stream",
     "text": [
      "enter name: Rebecca\n",
      "enter city name: jaipur\n"
     ]
    }
   ],
   "source": [
    "import mysql.connector\n",
    "\n",
    "conn = mysql.connector.connect(host = \"localhost\", \n",
    "                              username = \"root\", \n",
    "                              password = \"12345\",\n",
    "                              database = \"company\") #for building the connection\n",
    "\n",
    "cur = conn.cursor() #for activating the database\n",
    "name = input(\"enter name: \")\n",
    "city = input(\"enter city name: \")\n",
    "\n",
    "t = (name, city)\n",
    "\n",
    "query = \"\"\"insert into employees (Emp_name, city) values(%s,%s);\"\"\"  # %s is a placeholder\n",
    "\n",
    "cur.execute(query,t) \n",
    "conn.commit() #to make changes in database"
   ]
  },
  {
   "cell_type": "code",
   "execution_count": 14,
   "id": "043ba0e5",
   "metadata": {},
   "outputs": [
    {
     "name": "stdout",
     "output_type": "stream",
     "text": [
      "   EEID     Name       City\n",
      "0     2    Peter  New Delhi\n",
      "1     3  Rebecca     jaipur\n"
     ]
    }
   ],
   "source": [
    "import mysql.connector\n",
    "\n",
    "conn = mysql.connector.connect(host = \"localhost\", \n",
    "                              username = \"root\", \n",
    "                              password = \"12345\",\n",
    "                              database = \"company\") #for building the connection\n",
    "\n",
    "cur = conn.cursor() #for activating the database\n",
    "\n",
    "\n",
    "query = \"\"\"select * from employees;\"\"\"  # %s is a placeholder\n",
    "\n",
    "data = cur.execute(query) \n",
    "data1 = cur.fetchall()\n",
    "\n",
    "#print(data1)\n",
    "\n",
    "# for i in data1:\n",
    "#     print(i)\n",
    "    \n",
    "import pandas as pd\n",
    "\n",
    "df = pd.DataFrame(data1, columns = [\"EEID\",\"Name\",\"City\"])\n",
    "print(df)"
   ]
  }
 ],
 "metadata": {
  "kernelspec": {
   "display_name": "Python 3 (ipykernel)",
   "language": "python",
   "name": "python3"
  },
  "language_info": {
   "codemirror_mode": {
    "name": "ipython",
    "version": 3
   },
   "file_extension": ".py",
   "mimetype": "text/x-python",
   "name": "python",
   "nbconvert_exporter": "python",
   "pygments_lexer": "ipython3",
   "version": "3.11.3"
  }
 },
 "nbformat": 4,
 "nbformat_minor": 5
}
