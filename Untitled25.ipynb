{
 "cells": [
  {
   "cell_type": "code",
   "execution_count": 13,
   "id": "b9483037",
   "metadata": {},
   "outputs": [
    {
     "name": "stdout",
     "output_type": "stream",
     "text": [
      "87583.14285714286\n",
      "     EEID           Name            Job Title    Salary\n",
      "0  E04105  Theodore Dinh  Technical Architect   99975.0\n",
      "1  E01639      Austin Vo          Sr. Analyst   50994.0\n",
      "2  E00644   Joshua Gupta                  NaN   50994.0\n",
      "3  E04332    Luke Martin              Analyst   41336.0\n",
      "4  E04533            NaN              Manager  113527.0\n",
      "5  E00530      Eli Jones              Manager  105086.0\n",
      "6  E03496    Robert Yang                  NaN   97078.0\n",
      "7  E01639      Austin Vo          Sr. Analyst  105086.0\n",
      "8  E04332            NaN              Analyst  105086.0\n",
      "9  E04533  Easton Bailey              Manager       NaN\n",
      "85462.44444444444\n"
     ]
    }
   ],
   "source": [
    "import pandas as pd\n",
    "import numpy as np\n",
    "\n",
    "data = pd.read_excel(\"expense4.xlsx\", \"emp_data\")\n",
    "\n",
    "df = pd.DataFrame(data)\n",
    "arr = np.array([df[\"Salary\"]])\n",
    "print(np.nanmean(arr))\n",
    "\n",
    "df[\"Salary\"] = df[\"Salary\"].fillna(method = \"bfill\")\n",
    "print(df)\n",
    "print(df[\"Salary\"].mean())\n"
   ]
  }
 ],
 "metadata": {
  "kernelspec": {
   "display_name": "Python 3 (ipykernel)",
   "language": "python",
   "name": "python3"
  },
  "language_info": {
   "codemirror_mode": {
    "name": "ipython",
    "version": 3
   },
   "file_extension": ".py",
   "mimetype": "text/x-python",
   "name": "python",
   "nbconvert_exporter": "python",
   "pygments_lexer": "ipython3",
   "version": "3.11.3"
  }
 },
 "nbformat": 4,
 "nbformat_minor": 5
}
