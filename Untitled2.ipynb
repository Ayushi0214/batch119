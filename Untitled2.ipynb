{
 "cells": [
  {
   "cell_type": "code",
   "execution_count": 6,
   "id": "86cb749f",
   "metadata": {},
   "outputs": [
    {
     "name": "stdout",
     "output_type": "stream",
     "text": [
      "18\n",
      "36\n",
      "54\n",
      "72\n",
      "90\n"
     ]
    }
   ],
   "source": [
    "for i in range(1,101):\n",
    "    if i % 6 == 0 and  i % 9 == 0:\n",
    "        print(i)"
   ]
  },
  {
   "cell_type": "code",
   "execution_count": 8,
   "id": "d6f265a7",
   "metadata": {},
   "outputs": [
    {
     "name": "stdout",
     "output_type": "stream",
     "text": [
      "1\n",
      "2\n",
      "3\n",
      "4\n",
      "5\n",
      "Bingo\n",
      "7\n",
      "8\n",
      "9\n",
      "10\n",
      "11\n",
      "Bingo\n",
      "13\n",
      "14\n",
      "15\n",
      "16\n",
      "17\n",
      "Bingo\n",
      "19\n",
      "20\n",
      "21\n",
      "22\n",
      "23\n",
      "Bingo\n",
      "25\n",
      "26\n",
      "27\n",
      "28\n",
      "29\n",
      "Bingo\n",
      "31\n",
      "32\n",
      "33\n",
      "34\n",
      "35\n",
      "Bingo\n",
      "37\n",
      "38\n",
      "39\n",
      "40\n",
      "41\n",
      "Bingo\n",
      "43\n",
      "44\n",
      "45\n",
      "46\n",
      "47\n",
      "Bingo\n",
      "49\n",
      "50\n",
      "51\n",
      "52\n",
      "53\n",
      "Bingo\n",
      "55\n",
      "56\n",
      "57\n",
      "58\n",
      "59\n",
      "Bingo\n",
      "61\n",
      "62\n",
      "63\n",
      "64\n",
      "65\n",
      "Bingo\n",
      "67\n",
      "68\n",
      "69\n",
      "70\n",
      "71\n",
      "Bingo\n",
      "73\n",
      "74\n",
      "75\n",
      "76\n",
      "77\n",
      "Bingo\n",
      "79\n",
      "80\n",
      "81\n",
      "82\n",
      "83\n",
      "Bingo\n",
      "85\n",
      "86\n",
      "87\n",
      "88\n",
      "89\n",
      "Bingo\n",
      "91\n",
      "92\n",
      "93\n",
      "94\n",
      "95\n",
      "Bingo\n",
      "97\n",
      "98\n"
     ]
    }
   ],
   "source": [
    "for i in range(1,99):\n",
    "    if i % 6 == 0:\n",
    "        print(\"Bingo\")\n",
    "    else:\n",
    "        print(i)"
   ]
  },
  {
   "cell_type": "markdown",
   "id": "c843aba3",
   "metadata": {},
   "source": [
    "#break # continue"
   ]
  },
  {
   "cell_type": "code",
   "execution_count": 10,
   "id": "23170c61",
   "metadata": {},
   "outputs": [
    {
     "name": "stdout",
     "output_type": "stream",
     "text": [
      "1\n",
      "2\n",
      "3\n",
      "4\n",
      "5\n",
      "6\n",
      "7\n",
      "8\n",
      "9\n",
      "10\n",
      "11\n",
      "12\n",
      "13\n",
      "14\n"
     ]
    }
   ],
   "source": [
    "for i in range(1,21):\n",
    "    if i == 15:\n",
    "        break\n",
    "    else:\n",
    "        print(i)"
   ]
  },
  {
   "cell_type": "code",
   "execution_count": 11,
   "id": "bf9eb4d8",
   "metadata": {},
   "outputs": [
    {
     "name": "stdout",
     "output_type": "stream",
     "text": [
      "1\n",
      "2\n",
      "3\n",
      "4\n",
      "5\n",
      "6\n",
      "7\n",
      "8\n",
      "9\n",
      "10\n",
      "11\n",
      "12\n",
      "13\n",
      "14\n",
      "16\n",
      "17\n",
      "18\n",
      "19\n",
      "20\n"
     ]
    }
   ],
   "source": [
    "for i in range(1,21):\n",
    "    if i == 15:\n",
    "        continue #skip\n",
    "    else:\n",
    "        print(i)"
   ]
  },
  {
   "cell_type": "code",
   "execution_count": 13,
   "id": "e2c377de",
   "metadata": {},
   "outputs": [
    {
     "name": "stdout",
     "output_type": "stream",
     "text": [
      "enter a number: 12\n"
     ]
    },
    {
     "ename": "SyntaxError",
     "evalue": "'break' outside loop (2120908471.py, line 3)",
     "output_type": "error",
     "traceback": [
      "\u001b[1;36m  Cell \u001b[1;32mIn[13], line 3\u001b[1;36m\u001b[0m\n\u001b[1;33m    break\u001b[0m\n\u001b[1;37m    ^\u001b[0m\n\u001b[1;31mSyntaxError\u001b[0m\u001b[1;31m:\u001b[0m 'break' outside loop\n"
     ]
    }
   ],
   "source": [
    "num = int(input('enter a number: '))\n",
    "if num == 12:\n",
    "    break\n",
    "else:\n",
    "    print(num)"
   ]
  },
  {
   "cell_type": "code",
   "execution_count": 19,
   "id": "9ca12193",
   "metadata": {},
   "outputs": [
    {
     "name": "stdout",
     "output_type": "stream",
     "text": [
      "hello\n",
      "hello\n",
      "hello\n",
      "hello\n",
      "hello\n"
     ]
    }
   ],
   "source": [
    "for i in range(1,6):\n",
    "    print(\"hello\")"
   ]
  },
  {
   "cell_type": "code",
   "execution_count": 17,
   "id": "676fa79d",
   "metadata": {},
   "outputs": [
    {
     "name": "stdout",
     "output_type": "stream",
     "text": [
      "a\n",
      "y\n",
      "u\n",
      "s\n",
      "h\n",
      "i\n"
     ]
    }
   ],
   "source": [
    "name = \"ayushi\"\n",
    "for i in name:\n",
    "    print(i)"
   ]
  },
  {
   "cell_type": "code",
   "execution_count": null,
   "id": "afa47bf8",
   "metadata": {},
   "outputs": [],
   "source": [
    "num = 15\n",
    "a = 0\n",
    "while a < num:\n",
    "    print(\"hello\")\n",
    "    a+=1"
   ]
  }
 ],
 "metadata": {
  "kernelspec": {
   "display_name": "Python 3 (ipykernel)",
   "language": "python",
   "name": "python3"
  },
  "language_info": {
   "codemirror_mode": {
    "name": "ipython",
    "version": 3
   },
   "file_extension": ".py",
   "mimetype": "text/x-python",
   "name": "python",
   "nbconvert_exporter": "python",
   "pygments_lexer": "ipython3",
   "version": "3.11.2"
  }
 },
 "nbformat": 4,
 "nbformat_minor": 5
}
