{
 "cells": [
  {
   "cell_type": "code",
   "execution_count": null,
   "id": "b84cac19",
   "metadata": {},
   "outputs": [],
   "source": [
    "age = int(input('enter age: '))\n",
    "if age >= 18:\n",
    "    print('eli')\n",
    "else:\n",
    "    print(\"not eli\")\n",
    "\n",
    "\n",
    "print(\"eligible\") if age >=18 else print(\"not eligible\")"
   ]
  },
  {
   "cell_type": "code",
   "execution_count": null,
   "id": "5af6938d",
   "metadata": {},
   "outputs": [],
   "source": [
    "print(\"\"\"press 1 to find the area of square\n",
    "   press 2 to find the area of rect\n",
    "   press 3 to find the area of circle\n",
    "   press 4 to find the area of triangle\"\"\")\n",
    "\n",
    "choice = int(input('enter choice between 1-4: '))\n",
    "if choice == 1:\n",
    "    side = float(input(\"enter side: \"))\n",
    "    print(side**2)\n",
    "    \n",
    "elif choice == 2:\n",
    "    length = float(input(\"enter length: \"))\n",
    "    width = float(input(\"enter width: \"))\n",
    "    print(length*width)\n",
    "    \n",
    "elif choice == 3:\n",
    "    radius = float(input('enter radius: '))\n",
    "    print((22/7)*radius**2)\n",
    "\n",
    "elif choice == 4:\n",
    "    base = float(input(\"enter base: \"))\n",
    "    height = float(input(\"enter height: \"))\n",
    "    print(0.5*base*height)\n",
    "    \n",
    "else:\n",
    "    print(\"invalid input... try again\")"
   ]
  },
  {
   "cell_type": "code",
   "execution_count": 4,
   "id": "e6091078",
   "metadata": {},
   "outputs": [
    {
     "name": "stdout",
     "output_type": "stream",
     "text": [
      "2\n",
      "4\n",
      "6\n",
      "8\n",
      "10\n",
      "12\n",
      "14\n",
      "16\n",
      "18\n",
      "20\n"
     ]
    }
   ],
   "source": [
    "num = 2\n",
    "while num<=20:\n",
    "    print(num)\n",
    "    num += 2\n",
    "\n",
    "    \n",
    "    "
   ]
  },
  {
   "cell_type": "code",
   "execution_count": 13,
   "id": "c1f7ddf5",
   "metadata": {},
   "outputs": [
    {
     "name": "stdout",
     "output_type": "stream",
     "text": [
      "1\n",
      "2\n",
      "3\n",
      "1\n",
      "2\n",
      "3\n",
      "1\n",
      "2\n",
      "3\n",
      "1\n",
      "2\n",
      "3\n",
      "1\n",
      "2\n",
      "3\n",
      "\n"
     ]
    }
   ],
   "source": [
    "for i in range(1,6):\n",
    "    for j in range(1,4):\n",
    "        print(j)\n",
    "    print()\n",
    "    "
   ]
  },
  {
   "cell_type": "code",
   "execution_count": 21,
   "id": "6ce70279",
   "metadata": {},
   "outputs": [
    {
     "name": "stdout",
     "output_type": "stream",
     "text": [
      "1 2 3 4 5 6 7 8 9 10 \n",
      "1 2 3 4 5 6 7 8 9 10 \n",
      "1 2 3 4 5 6 7 8 9 10 \n",
      "1 2 3 4 5 6 7 8 9 10 \n",
      "1 2 3 4 5 6 7 8 9 10 \n"
     ]
    }
   ],
   "source": [
    "for i in range(1,6):\n",
    "    for j in range(1,11):\n",
    "        print(j, end = \" \")\n",
    "    print()"
   ]
  },
  {
   "cell_type": "code",
   "execution_count": 1,
   "id": "c23584e3",
   "metadata": {},
   "outputs": [
    {
     "name": "stdout",
     "output_type": "stream",
     "text": [
      "1\n",
      "2\n",
      "3\n",
      "4\n",
      "5\n",
      "6\n",
      "7\n",
      "8\n",
      "9\n",
      "10\n",
      "11\n",
      "12\n",
      "13\n",
      "14\n",
      "15\n",
      "16\n",
      "17\n",
      "18\n",
      "19\n"
     ]
    }
   ],
   "source": [
    "num = 1\n",
    "while True:\n",
    "    print(num)\n",
    "    num+=1\n",
    "    if num == 20:\n",
    "        break"
   ]
  },
  {
   "cell_type": "code",
   "execution_count": 5,
   "id": "a4c0fbf2",
   "metadata": {
    "scrolled": true
   },
   "outputs": [
    {
     "name": "stdout",
     "output_type": "stream",
     "text": [
      "enter name: shakti\n",
      "enter phone number: 93828346732\n",
      "enter the amount and quantity\n",
      "enter amount: 30\n",
      "enter quantity: 4\n",
      "do you want to add more items? (yes/no): yes\n",
      "enter the amount and quantity\n",
      "enter amount: 56\n",
      "enter quantity: 5\n",
      "do you want to add more items? (yes/no): no\n",
      "----------------------------------------\n",
      "Customer's name:  shakti\n",
      "Customer's phone number:  93828346732\n",
      "Total amount:  400.0\n",
      "----------------------------------------\n",
      "next customer? yes\n",
      "enter name: Shubham\n",
      "enter phone number: 4773763\n",
      "enter the amount and quantity\n",
      "enter amount: 76\n",
      "enter quantity: 3\n",
      "do you want to add more items? (yes/no): no\n",
      "----------------------------------------\n",
      "Customer's name:  Shubham\n",
      "Customer's phone number:  4773763\n",
      "Total amount:  228.0\n",
      "----------------------------------------\n",
      "next customer? yes\n",
      "enter name: Anushka\n",
      "enter phone number: 9837723\n",
      "enter the amount and quantity\n",
      "enter amount: 75\n",
      "enter quantity: 3\n",
      "do you want to add more items? (yes/no): no\n",
      "----------------------------------------\n",
      "Customer's name:  Anushka\n",
      "Customer's phone number:  9837723\n",
      "Total amount:  225.0\n",
      "----------------------------------------\n",
      "next customer? no\n"
     ]
    }
   ],
   "source": [
    "while True:\n",
    "    name = input(\"enter name: \")\n",
    "    ph_no = int(input(\"enter phone number: \"))\n",
    "    total = 0\n",
    "\n",
    "    while True: \n",
    "        print(\"enter the amount and quantity\")\n",
    "        amount = float(input(\"enter amount: \"))\n",
    "        quantity = float(input(\"enter quantity: \"))\n",
    "        total += amount * quantity\n",
    "\n",
    "        repeat = input(\"do you want to add more items? (yes/no): \")\n",
    "        if repeat ==\"no\" or repeat == \"No\" or repeat == \"NO\":\n",
    "            break\n",
    "    print(\"-\"*40)        \n",
    "    print(\"Customer's name: \",name)\n",
    "    print(\"Customer's phone number: \",ph_no)\n",
    "    print(\"Total amount: \", total)\n",
    "    print(\"-\"*40)\n",
    "    \n",
    "    repeat_cus = input(\"next customer? \")\n",
    "    if repeat_cus == \"No\" or repeat_cus == \"no\" or repeat_cus == \"NO\":\n",
    "        break"
   ]
  },
  {
   "cell_type": "code",
   "execution_count": 8,
   "id": "59ccc8df",
   "metadata": {},
   "outputs": [
    {
     "name": "stdout",
     "output_type": "stream",
     "text": [
      "S\n",
      "h\n",
      "u\n"
     ]
    }
   ],
   "source": [
    "a = \"Shubham\"\n",
    "for i in a:\n",
    "    if i == \"b\":\n",
    "        break #skip\n",
    "    else:\n",
    "        print(i)"
   ]
  },
  {
   "cell_type": "code",
   "execution_count": null,
   "id": "c0a351f8",
   "metadata": {},
   "outputs": [],
   "source": [
    "#Project\n",
    "\"\"\"\n",
    "theatre/stadium\n",
    "total seats = 150\n",
    "normal seats = 130\n",
    "recliner = 20\n",
    "normal_seat_price = 250\n",
    "recliner_price = 380\n",
    "\n",
    "seats = ask user\n",
    "No_seats = ask user\n",
    "\n",
    "total = xyz\n",
    "\n",
    "130 - 3\n",
    "127 seats available\n",
    "recliner = 0\n",
    "\n",
    "\"\"\""
   ]
  },
  {
   "cell_type": "code",
   "execution_count": 21,
   "id": "9612d98b",
   "metadata": {},
   "outputs": [
    {
     "name": "stdout",
     "output_type": "stream",
     "text": [
      "1\n",
      "4\n",
      "9\n",
      "16\n",
      "25\n",
      "36\n"
     ]
    }
   ],
   "source": [
    "for i in range(1,11):\n",
    "    if i == 7:\n",
    "        break\n",
    "    else:\n",
    "        print(i**2)"
   ]
  }
 ],
 "metadata": {
  "kernelspec": {
   "display_name": "Python 3 (ipykernel)",
   "language": "python",
   "name": "python3"
  },
  "language_info": {
   "codemirror_mode": {
    "name": "ipython",
    "version": 3
   },
   "file_extension": ".py",
   "mimetype": "text/x-python",
   "name": "python",
   "nbconvert_exporter": "python",
   "pygments_lexer": "ipython3",
   "version": "3.11.2"
  }
 },
 "nbformat": 4,
 "nbformat_minor": 5
}
