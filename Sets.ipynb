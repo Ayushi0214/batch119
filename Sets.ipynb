{
 "cells": [
  {
   "cell_type": "code",
   "execution_count": 1,
   "id": "e05b5e46",
   "metadata": {},
   "outputs": [
    {
     "name": "stdout",
     "output_type": "stream",
     "text": [
      "[1, 2, 3, 4, 5, 5, 6, 6, 7, 7, 8, 8, 8, 9]\n"
     ]
    }
   ],
   "source": [
    "a = [1,2,3,4,5,5,6,6,7,7,8,8,8,9]\n",
    "print(a)"
   ]
  },
  {
   "cell_type": "code",
   "execution_count": 3,
   "id": "05af14c5",
   "metadata": {},
   "outputs": [
    {
     "name": "stdout",
     "output_type": "stream",
     "text": [
      "{1, 2, 3, 4, 5, 6, 7, 8, 9}\n"
     ]
    }
   ],
   "source": [
    "a = {1,2,3,4,5,5,6,6,7,7,8,8,8,9}\n",
    "print(a)"
   ]
  },
  {
   "cell_type": "code",
   "execution_count": 6,
   "id": "397a82b0",
   "metadata": {},
   "outputs": [
    {
     "name": "stdout",
     "output_type": "stream",
     "text": [
      "<class 'dict'>\n"
     ]
    }
   ],
   "source": [
    "a = []\n",
    "b = set()\n",
    "print(type(b))\n",
    "\n"
   ]
  },
  {
   "cell_type": "code",
   "execution_count": 8,
   "id": "05e47d39",
   "metadata": {},
   "outputs": [
    {
     "name": "stdout",
     "output_type": "stream",
     "text": [
      "[1, 2, 3, 4, 5, 6, 7, 8, 9]\n"
     ]
    }
   ],
   "source": [
    "a = [1,2,3,4,5,5,6,6,7,7,8,8,8,9]\n",
    "\n",
    "a = list(set(a))\n",
    "print(a)\n"
   ]
  },
  {
   "cell_type": "code",
   "execution_count": 15,
   "id": "974e6cd5",
   "metadata": {},
   "outputs": [
    {
     "name": "stdout",
     "output_type": "stream",
     "text": [
      "{4}\n",
      "{2, 3, 5, 7}\n",
      "{1, 6}\n",
      "{1, 2, 3, 4, 5, 6, 7}\n",
      "{1, 2, 3, 5, 6, 7}\n"
     ]
    }
   ],
   "source": [
    "a = {3,5,7,2,4}\n",
    "b = {4,6,1}\n",
    "print(a.intersection(b))\n",
    "print(a.difference(b))\n",
    "print(b.difference(a))\n",
    "print(a.union(b))\n",
    "print(a.symmetric_difference(b))"
   ]
  },
  {
   "cell_type": "code",
   "execution_count": 21,
   "id": "c834cdcb",
   "metadata": {},
   "outputs": [
    {
     "name": "stdout",
     "output_type": "stream",
     "text": [
      "differnce  {2, 3, 5, 7}\n",
      "set a {2, 3, 4, 5, 7}\n",
      "a after difference update {2, 3, 5, 7}\n"
     ]
    }
   ],
   "source": [
    "a = {3,5,7,2,4}\n",
    "b = {4,6,1}\n",
    "\n",
    "print(\"differnce \",a.difference(b))\n",
    "print(\"set a\", a)\n",
    "a.difference_update(b)\n",
    "print(\"a after difference update\",a)"
   ]
  },
  {
   "cell_type": "code",
   "execution_count": 28,
   "id": "3bb68b5c",
   "metadata": {},
   "outputs": [
    {
     "name": "stdout",
     "output_type": "stream",
     "text": [
      "{'apple', 'kiwi'}\n",
      "{'apple', 'chips', 'kiwi', 'burger'}\n",
      "{'apple', 'kiwi'}\n"
     ]
    }
   ],
   "source": [
    "food = {'burger',\"apple\",\"chips\",\"kiwi\"}\n",
    "healthy = {\"apple\",\"kiwi\"}\n",
    "\n",
    "print(food.intersection(healthy))\n",
    "print(food)\n",
    "food.intersection_update(healthy)\n",
    "print(food)"
   ]
  },
  {
   "cell_type": "code",
   "execution_count": 33,
   "id": "8b338cfc",
   "metadata": {},
   "outputs": [
    {
     "name": "stdout",
     "output_type": "stream",
     "text": [
      "True\n"
     ]
    }
   ],
   "source": [
    "a = {1,2,3,4}\n",
    "b = {5,6,7}\n",
    "print(b.isdisjoint(a))"
   ]
  },
  {
   "cell_type": "code",
   "execution_count": null,
   "id": "bfe65242",
   "metadata": {},
   "outputs": [],
   "source": []
  },
  {
   "cell_type": "code",
   "execution_count": 38,
   "id": "4cf76ead",
   "metadata": {},
   "outputs": [
    {
     "name": "stdout",
     "output_type": "stream",
     "text": [
      "True\n"
     ]
    }
   ],
   "source": [
    "a = {1,2,3,4,5}\n",
    "b = {1,4,5}\n",
    "print(b.issubset(a))"
   ]
  },
  {
   "cell_type": "code",
   "execution_count": 39,
   "id": "cfdece58",
   "metadata": {},
   "outputs": [
    {
     "name": "stdout",
     "output_type": "stream",
     "text": [
      "True\n"
     ]
    }
   ],
   "source": [
    "a = {1,2,3,4,5}\n",
    "b = {1,4,5}\n",
    "\n",
    "print(a.issuperset(b))"
   ]
  },
  {
   "cell_type": "code",
   "execution_count": 8,
   "id": "34d96e82",
   "metadata": {},
   "outputs": [
    {
     "name": "stdout",
     "output_type": "stream",
     "text": [
      "[0, 1, 2, 3, 5, 6, 7, 8, 9]\n"
     ]
    }
   ],
   "source": [
    "a = [2,3,6,7,8]\n",
    "b = [2,5,9,1]\n",
    "c = [3,6,9,0]\n",
    "\n",
    "d = list(set(a) | set(b) | set(c))\n",
    "print(d)\n",
    "\n",
    "#write a program to obtain all the element from the given 3 lists into one list\n",
    "#and all the elements should be unique\n"
   ]
  },
  {
   "cell_type": "code",
   "execution_count": 5,
   "id": "7f85635c",
   "metadata": {},
   "outputs": [
    {
     "name": "stdout",
     "output_type": "stream",
     "text": [
      "{1, 4}\n",
      "{2, 3, 6}\n",
      "{1, 2, 3, 4, 6}\n",
      "{2, 3}\n"
     ]
    }
   ],
   "source": [
    "a = {1,2,3,4}\n",
    "b = {4,6,1}\n",
    "\n",
    "print(a&b) #intersection\n",
    "print(a^b) #difference update\n",
    "print(a|b) #union\n",
    "print(a-b) #difference"
   ]
  }
 ],
 "metadata": {
  "kernelspec": {
   "display_name": "Python 3 (ipykernel)",
   "language": "python",
   "name": "python3"
  },
  "language_info": {
   "codemirror_mode": {
    "name": "ipython",
    "version": 3
   },
   "file_extension": ".py",
   "mimetype": "text/x-python",
   "name": "python",
   "nbconvert_exporter": "python",
   "pygments_lexer": "ipython3",
   "version": "3.11.3"
  }
 },
 "nbformat": 4,
 "nbformat_minor": 5
}
