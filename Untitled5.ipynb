{
 "cells": [
  {
   "cell_type": "code",
   "execution_count": 1,
   "id": "6f8b3106",
   "metadata": {},
   "outputs": [
    {
     "name": "stdout",
     "output_type": "stream",
     "text": [
      "enter any number here: 12\n",
      "12 x 1 = 12\n",
      "12 x 2 = 24\n",
      "12 x 3 = 36\n",
      "12 x 4 = 48\n",
      "12 x 5 = 60\n",
      "12 x 6 = 72\n",
      "12 x 7 = 84\n",
      "12 x 8 = 96\n",
      "12 x 9 = 108\n",
      "12 x 10 = 120\n"
     ]
    }
   ],
   "source": [
    "num = int(input(\"enter any number here: \"))\n",
    "for i in range(1,11):\n",
    "    print(num,\"x\",i, \"=\", num*i)\n",
    "    \n",
    "    \n",
    "# 12 x 1 = 12\n",
    "# 12 x 2 = 24"
   ]
  },
  {
   "cell_type": "code",
   "execution_count": 3,
   "id": "ddc304c2",
   "metadata": {},
   "outputs": [
    {
     "name": "stdout",
     "output_type": "stream",
     "text": [
      "enter a number here: 6\n",
      "720\n"
     ]
    }
   ],
   "source": [
    "# 5 = 5x4x3x2x1 = 120\n",
    "\n",
    "num = int(input('enter a number here: '))\n",
    "fact = 1\n",
    "for i in range(1, num+1):\n",
    "    fact = fact*i\n",
    "\n",
    "print(fact)\n",
    "    \n",
    "    \n",
    "    \n",
    "    "
   ]
  },
  {
   "cell_type": "code",
   "execution_count": 1,
   "id": "d0845a3f",
   "metadata": {},
   "outputs": [
    {
     "name": "stdout",
     "output_type": "stream",
     "text": [
      "enter number: 12\n",
      "enter number: 34\n",
      "46\n",
      "do you want to repeat again? yes\n",
      "enter number: 34\n",
      "enter number: 57\n",
      "91\n",
      "do you want to repeat again? no\n"
     ]
    }
   ],
   "source": [
    "while True:\n",
    "    num1 = int(input(\"enter number: \"))\n",
    "    num2 = int(input(\"enter number: \"))\n",
    "    print(num1+num2)\n",
    "    \n",
    "    repeat = input(\"do you want to repeat again? \")\n",
    "    if repeat == \"no\":\n",
    "        break\n",
    "\n"
   ]
  },
  {
   "cell_type": "code",
   "execution_count": null,
   "id": "d5f29d84",
   "metadata": {},
   "outputs": [],
   "source": []
  },
  {
   "cell_type": "code",
   "execution_count": 2,
   "id": "37c2cda5",
   "metadata": {},
   "outputs": [
    {
     "name": "stdout",
     "output_type": "stream",
     "text": [
      "enter number: 12\n",
      "enter number: 35\n",
      "47\n"
     ]
    }
   ],
   "source": [
    "num1 = int(input(\"enter number: \"))\n",
    "num2 = int(input(\"enter number: \"))\n",
    "print(num1+num2)\n"
   ]
  },
  {
   "cell_type": "code",
   "execution_count": null,
   "id": "dd77ad74",
   "metadata": {},
   "outputs": [
    {
     "name": "stdout",
     "output_type": "stream",
     "text": [
      "enter seats: 5\n",
      "195\n",
      "enter seats: 3\n",
      "192\n",
      "enter seats: 2\n",
      "190\n"
     ]
    }
   ],
   "source": [
    "total_seats = 200\n",
    "stand_seats = 150\n",
    "\n",
    "while True:\n",
    "    seats = int(input(\"enter seats: \"))\n",
    "    total_seats = total_seats - seats\n",
    "    \n",
    "    print(total_seats)\n",
    "    \n",
    "    \n",
    "    \n",
    "    "
   ]
  },
  {
   "cell_type": "code",
   "execution_count": null,
   "id": "3907661c",
   "metadata": {},
   "outputs": [
    {
     "name": "stdout",
     "output_type": "stream",
     "text": [
      "choose between 1-4\n",
      "enter choice: 5\n",
      "print valid option: 0\n"
     ]
    }
   ],
   "source": [
    "print(\"choose between 1-4\")\n",
    "\n",
    "choice = int(input('enter choice: '))\n",
    "while choice >= 4 or choice <=1:\n",
    "    choice = int(input('print valid option: '))\n",
    "    \n"
   ]
  }
 ],
 "metadata": {
  "kernelspec": {
   "display_name": "Python 3 (ipykernel)",
   "language": "python",
   "name": "python3"
  },
  "language_info": {
   "codemirror_mode": {
    "name": "ipython",
    "version": 3
   },
   "file_extension": ".py",
   "mimetype": "text/x-python",
   "name": "python",
   "nbconvert_exporter": "python",
   "pygments_lexer": "ipython3",
   "version": "3.11.2"
  }
 },
 "nbformat": 4,
 "nbformat_minor": 5
}
