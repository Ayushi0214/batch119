{
 "cells": [
  {
   "cell_type": "code",
   "execution_count": 9,
   "id": "a60740f6",
   "metadata": {},
   "outputs": [
    {
     "name": "stdout",
     "output_type": "stream",
     "text": [
      "pijerut\n"
     ]
    }
   ],
   "source": [
    "import random\n",
    "words = [\"jupiter\",\"telephone\",\"apple\",\"mango\"]\n",
    "a = random.choice(words)\n",
    "j = random.sample(a,len(a))\n",
    "#print(j)\n",
    "word = \"\"\n",
    "for i in j:\n",
    "    word += word.join(i)\n",
    "\n",
    "print(word)\n",
    "    \n",
    "    \n"
   ]
  },
  {
   "cell_type": "code",
   "execution_count": 15,
   "id": "6fda338a",
   "metadata": {},
   "outputs": [
    {
     "name": "stdout",
     "output_type": "stream",
     "text": [
      "Hello\n",
      "123\n",
      "hello\n",
      "hi \n",
      "bye\n",
      "Hello\n",
      "it's going to rain today\n"
     ]
    }
   ],
   "source": [
    "#Python is both interpreted and compiled language\n",
    "\n",
    "print(\"Hello\")\n",
    "print(123)\n",
    "\n",
    "print(\"\"\"hello\n",
    "hi \n",
    "bye\"\"\")\n",
    "\n",
    "print(\"Hello\")\n",
    "print('it\\'s going to rain today')"
   ]
  },
  {
   "cell_type": "markdown",
   "id": "01cec814",
   "metadata": {},
   "source": [
    "# Variables"
   ]
  },
  {
   "cell_type": "code",
   "execution_count": null,
   "id": "ca264b6e",
   "metadata": {},
   "outputs": [],
   "source": [
    "evenNum = 34\n",
    "hello = 34\n",
    "print(Hello)\n"
   ]
  },
  {
   "cell_type": "code",
   "execution_count": 17,
   "id": "b5c6bce7",
   "metadata": {},
   "outputs": [
    {
     "name": "stdout",
     "output_type": "stream",
     "text": [
      "Enter name: ayushi\n",
      "ayushi\n",
      "Enter age: 25\n",
      "25\n",
      "enter height: 5.6\n",
      "5.6\n"
     ]
    }
   ],
   "source": [
    "#User_Input\n",
    "\n",
    "name = input(\"Enter name: \")\n",
    "print(name)\n",
    "age = int(input(\"Enter age: \"))\n",
    "print(age)\n",
    "height = float(input(\"enter height: \"))\n",
    "print(height)\n",
    "\n",
    "\n"
   ]
  },
  {
   "cell_type": "code",
   "execution_count": 18,
   "id": "f6439b0f",
   "metadata": {},
   "outputs": [
    {
     "name": "stdout",
     "output_type": "stream",
     "text": [
      "False\n"
     ]
    }
   ],
   "source": [
    "print(4>8)"
   ]
  },
  {
   "cell_type": "code",
   "execution_count": 21,
   "id": "b239d46e",
   "metadata": {},
   "outputs": [
    {
     "name": "stdout",
     "output_type": "stream",
     "text": [
      "enter a matematical expression: 2-1\n",
      "1\n"
     ]
    }
   ],
   "source": [
    "exp = eval(input(\"enter a matematical expression: \"))\n",
    "print(exp)"
   ]
  },
  {
   "cell_type": "code",
   "execution_count": null,
   "id": "ffd3608a",
   "metadata": {},
   "outputs": [],
   "source": [
    "#Operators\n",
    "#Arithmetic Operators - (+, -, *, /, %, **, //)\n",
    "#Assignment Operators - (=, +=, -=, *=)\n",
    "#Logical OPerators - (and, or, not)\n",
    "#Comparison OPerators - (>, < , >=, <=, ==, !=)\n",
    "#Membership OPerators - (in, not in)\n",
    "#Identity OPerators - (is, is not)"
   ]
  },
  {
   "cell_type": "code",
   "execution_count": 24,
   "id": "ff6be02d",
   "metadata": {},
   "outputs": [
    {
     "name": "stdout",
     "output_type": "stream",
     "text": [
      "True\n"
     ]
    }
   ],
   "source": [
    "a = 34\n",
    "b = 34\n",
    "\n",
    "print(a is b)"
   ]
  },
  {
   "cell_type": "code",
   "execution_count": 32,
   "id": "d8837f7f",
   "metadata": {},
   "outputs": [
    {
     "name": "stdout",
     "output_type": "stream",
     "text": [
      "False\n",
      "True\n"
     ]
    }
   ],
   "source": [
    "healthy = [\"apple\",\"kiwi\",\"tomato\"]\n",
    "\n",
    "print(\"brocolli\" in healthy)\n",
    "\n",
    "\n",
    "a = \"banana\"\n",
    "print(\"b\" in a)"
   ]
  },
  {
   "cell_type": "code",
   "execution_count": 39,
   "id": "9fa05a7c",
   "metadata": {},
   "outputs": [
    {
     "name": "stdout",
     "output_type": "stream",
     "text": [
      "trip par chal jana\n"
     ]
    }
   ],
   "source": [
    "#Conditional Statements\n",
    "\n",
    "#if \n",
    "#if-else\n",
    "#if-elif-else\n",
    "#nested-if\n",
    "#short_hand-if\n",
    "#short-hand-if-else\n",
    "\n",
    "marks = 90\n",
    "\n",
    "if marks < 80:\n",
    "    print(\"joote padenge\")\n",
    "elif \n",
    "else:\n",
    "    print(\"trip par chal jana\")"
   ]
  },
  {
   "cell_type": "code",
   "execution_count": 47,
   "id": "6cdd172d",
   "metadata": {},
   "outputs": [
    {
     "name": "stdout",
     "output_type": "stream",
     "text": [
      "enter marks: 88\n",
      "pass\n",
      "A\n"
     ]
    }
   ],
   "source": [
    "marks = int(input(\"enter marks: \"))\n",
    "\n",
    "if marks > 80:\n",
    "    print(\"pass\")\n",
    "    if marks >= 90:\n",
    "        print(\"A+\")\n",
    "    else:\n",
    "        print(\"A\")\n",
    "else:\n",
    "    print(\"B\")\n"
   ]
  },
  {
   "cell_type": "code",
   "execution_count": 51,
   "id": "090c033a",
   "metadata": {},
   "outputs": [
    {
     "name": "stdout",
     "output_type": "stream",
     "text": [
      "Pass\n",
      "Pass\n"
     ]
    }
   ],
   "source": [
    "marks = 95\n",
    "if marks > 90:\n",
    "    print('Pass')\n",
    "    \n",
    "if marks > 90 : print(\"Pass\")"
   ]
  },
  {
   "cell_type": "code",
   "execution_count": null,
   "id": "eb4096e2",
   "metadata": {},
   "outputs": [],
   "source": [
    "marks = 95\n",
    "if marks > 90:\n",
    "    print('Pass')\n",
    "else:\n",
    "    print('Fail')\n",
    "\n",
    "print(\"Pass\") if marks > 90 else print(\"Fail\")"
   ]
  },
  {
   "cell_type": "code",
   "execution_count": 60,
   "id": "66ae6d0f",
   "metadata": {},
   "outputs": [
    {
     "name": "stdout",
     "output_type": "stream",
     "text": [
      "100\n",
      "95\n",
      "90\n",
      "85\n",
      "80\n",
      "75\n",
      "70\n",
      "65\n",
      "60\n",
      "55\n"
     ]
    }
   ],
   "source": [
    "#Loops\n",
    "\n",
    "for i in range(100, 50, -5):\n",
    "    print(i)\n",
    "\n"
   ]
  },
  {
   "cell_type": "code",
   "execution_count": 54,
   "id": "3beb453d",
   "metadata": {},
   "outputs": [
    {
     "name": "stdout",
     "output_type": "stream",
     "text": [
      "H\n",
      "e\n",
      "l\n",
      "l\n",
      "o\n"
     ]
    }
   ],
   "source": [
    "a = \"Hello\"\n",
    "for i in a:\n",
    "    print(i)"
   ]
  },
  {
   "cell_type": "code",
   "execution_count": 64,
   "id": "579077be",
   "metadata": {},
   "outputs": [
    {
     "name": "stdout",
     "output_type": "stream",
     "text": [
      "45\n"
     ]
    }
   ],
   "source": [
    "for i in range(1,51):\n",
    "    if i % 5 == 0 and i % 9 == 0:\n",
    "        print(i)"
   ]
  },
  {
   "cell_type": "code",
   "execution_count": 67,
   "id": "75a339cf",
   "metadata": {},
   "outputs": [
    {
     "name": "stdout",
     "output_type": "stream",
     "text": [
      "0\n",
      "1\n",
      "2\n",
      "3\n",
      "4\n",
      "5\n",
      "6\n",
      "7\n",
      "8\n",
      "9\n"
     ]
    }
   ],
   "source": [
    "n = 0\n",
    "while n < 10:\n",
    "    print(n)\n",
    "    n+=1\n",
    "    "
   ]
  },
  {
   "cell_type": "code",
   "execution_count": 78,
   "id": "b9c87cd6",
   "metadata": {},
   "outputs": [
    {
     "name": "stdout",
     "output_type": "stream",
     "text": [
      "hO\n"
     ]
    }
   ],
   "source": [
    "a = [23,4,5,6,8,9,2]\n",
    "b = []\n",
    "\n",
    "#[]\n",
    "#multiple datatypes\n",
    "#mutable\n",
    "#ordered\n",
    "#comma separated\n",
    "\n",
    "#strings\n",
    "\"\"\"\n",
    "+ve indexing - 0 - left to right\n",
    "-ve indexing - right to left - (-1)\n",
    "\n",
    "slicing\n",
    "a = Hello\n",
    "\n",
    "print(a[0:4])\n",
    "\n",
    "\n",
    "\n",
    "\"\"\"\n",
    "a = \"Hello\"\n",
    "\n",
    "print(a[:1].lower()+a[-1:].upper())"
   ]
  },
  {
   "cell_type": "code",
   "execution_count": null,
   "id": "7b1069ed",
   "metadata": {},
   "outputs": [],
   "source": [
    "#append(end) , pop(index), remove(Value), insert(), len, count, \n",
    "#replace , sort"
   ]
  },
  {
   "cell_type": "code",
   "execution_count": 81,
   "id": "6680eb07",
   "metadata": {},
   "outputs": [
    {
     "name": "stdout",
     "output_type": "stream",
     "text": [
      "[3, 4, 5, 6, 7]\n",
      "(3, 4, 5, 6, 7)\n"
     ]
    }
   ],
   "source": [
    "#Tuples\n",
    "#unmutable\n",
    "#ordered\n",
    "#multiple datatype\n",
    "#no brackets mandatory\n",
    "\n",
    "#len, count, max, min, index, sort\n",
    "\n",
    "#typecasting/type conversion\n",
    "a = (3,4,5,6)\n",
    "a = list(a)\n",
    "a.append(7)\n",
    "print(a)\n",
    "a = tuple(a)\n",
    "print(a)"
   ]
  },
  {
   "cell_type": "code",
   "execution_count": null,
   "id": "53ab380b",
   "metadata": {},
   "outputs": [],
   "source": [
    "#Set\n",
    "\n",
    "#Mutable\n",
    "#un-ordered\n",
    "#Multiple datatype\n",
    "#unique values\n",
    "#{}\n",
    "a = set()\n",
    "\n",
    "#intersection (common)\n",
    "#union (all the values from both the sets)\n",
    "#difference (all the values in setA but not in setB)\n",
    "#Symmetric difference (all the values except common values)\n"
   ]
  },
  {
   "cell_type": "code",
   "execution_count": 86,
   "id": "070f661d",
   "metadata": {},
   "outputs": [
    {
     "name": "stdout",
     "output_type": "stream",
     "text": [
      "{'Name': 'ayushi', 'age': 25, 'gender': 'Female'}\n"
     ]
    }
   ],
   "source": [
    "#Dictionaries\n",
    "\n",
    "#Mutable\n",
    "#multiple datatypes\n",
    "#Key:value\n",
    "#, between complete pair\n",
    "a = {} \n",
    "a = {\"Name\":\"ayushi\", \"age\":25}\n",
    "a[\"gender\"] = \"Female\"\n",
    "print(a)\n"
   ]
  },
  {
   "cell_type": "code",
   "execution_count": 89,
   "id": "66a0141b",
   "metadata": {},
   "outputs": [
    {
     "name": "stdout",
     "output_type": "stream",
     "text": [
      "6\n",
      "12\n",
      "20\n"
     ]
    }
   ],
   "source": [
    "#Functions\n",
    "\"\"\"\n",
    "in-built - print, len, set, count, append\n",
    "user defined\n",
    "\"\"\"\n",
    "\n",
    "def mul(a,b):\n",
    "    print(a*b)\n",
    "\n",
    "mul(2,3)\n",
    "mul(3,4)\n",
    "mul(4,5)\n"
   ]
  },
  {
   "cell_type": "code",
   "execution_count": 90,
   "id": "9a5b652b",
   "metadata": {},
   "outputs": [
    {
     "name": "stdout",
     "output_type": "stream",
     "text": [
      "5\n"
     ]
    }
   ],
   "source": [
    "a = \"hello\"\n",
    "print(len(a))"
   ]
  },
  {
   "cell_type": "code",
   "execution_count": null,
   "id": "734534b0",
   "metadata": {},
   "outputs": [],
   "source": [
    "import random\n",
    "from random import *\n",
    "from random import shuffle\n",
    "import random as r #alias\n",
    "\n",
    "module = 1 python file\n",
    "library = many modules\n",
    "\n",
    "\n"
   ]
  },
  {
   "cell_type": "code",
   "execution_count": 91,
   "id": "9b8aecd8",
   "metadata": {},
   "outputs": [
    {
     "name": "stdout",
     "output_type": "stream",
     "text": [
      "enter a number here: 23\n",
      "13\n",
      "23\n",
      "36\n"
     ]
    }
   ],
   "source": [
    "import random\n",
    "\n",
    "a = random.randint(1,100)\n",
    "\n",
    "num = int(input('enter a number here: '))\n",
    "print(a)\n",
    "print(num)\n",
    "print(a+num)"
   ]
  },
  {
   "cell_type": "code",
   "execution_count": null,
   "id": "7733d1b4",
   "metadata": {},
   "outputs": [],
   "source": [
    "import random \n",
    "a = [\"r\",\"p\",\"s\"]\n",
    "roll = random.choice(a)\n",
    "\n",
    "choice = input(\" r p s ?\")\n",
    "\n",
    "if a == \"r\" and choice == \"p\":\n",
    "    computer's choice is, rock\n",
    "    user's choice is, paper\n",
    "    print(\"user wins\")"
   ]
  }
 ],
 "metadata": {
  "kernelspec": {
   "display_name": "Python 3 (ipykernel)",
   "language": "python",
   "name": "python3"
  },
  "language_info": {
   "codemirror_mode": {
    "name": "ipython",
    "version": 3
   },
   "file_extension": ".py",
   "mimetype": "text/x-python",
   "name": "python",
   "nbconvert_exporter": "python",
   "pygments_lexer": "ipython3",
   "version": "3.11.3"
  }
 },
 "nbformat": 4,
 "nbformat_minor": 5
}
