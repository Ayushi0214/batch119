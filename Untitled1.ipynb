{
 "cells": [
  {
   "cell_type": "code",
   "execution_count": 4,
   "id": "f56f77f1",
   "metadata": {},
   "outputs": [
    {
     "name": "stdout",
     "output_type": "stream",
     "text": [
      "enter any number within 5 digits here: 483924738\n",
      "give valid input\n"
     ]
    }
   ],
   "source": [
    "num = int(input(\"enter any number within 5 digits here: \"))\n",
    "\n",
    "if num >= 0 and num <= 9:\n",
    "    print(\"1 digit number\")\n",
    "elif num >= 10 and num <= 99:\n",
    "    print(\"2 digit number\")\n",
    "elif num >= 100 and num<= 999:\n",
    "    print(\"3 digit number\")\n",
    "elif num >= 1000 and num <= 9999:\n",
    "    print(\"4 digit number\")\n",
    "elif num >=10000 and num <= 99999:\n",
    "    print(\"5 digit number\")\n",
    "else:\n",
    "    print(\"give valid input\")"
   ]
  },
  {
   "cell_type": "markdown",
   "id": "c5bd203e",
   "metadata": {},
   "source": [
    "# nested if statement"
   ]
  },
  {
   "cell_type": "code",
   "execution_count": 12,
   "id": "b8a896ee",
   "metadata": {},
   "outputs": [
    {
     "name": "stdout",
     "output_type": "stream",
     "text": [
      "you will get a buffallo\n"
     ]
    }
   ],
   "source": [
    "marks = 92\n",
    "\n",
    "if marks > 70:\n",
    "    print(\"new phone\")\n",
    "    if marks > 90:\n",
    "        print(\"you can go to a trip\")\n",
    "        if marks > 95:\n",
    "            print(\"europe trip\")\n",
    "else:\n",
    "    print(\"you will get a buffallo\")\n"
   ]
  },
  {
   "cell_type": "code",
   "execution_count": 15,
   "id": "760b09ec",
   "metadata": {},
   "outputs": [
    {
     "name": "stdout",
     "output_type": "stream",
     "text": [
      "enter username: Shubham\n",
      "enter password: 12345\n",
      "login successful\n"
     ]
    }
   ],
   "source": [
    "Username = [\"Vishal\",\"Ashish\",\"Shubham\",\"Anushka\"]\n",
    "password = \"12345\"\n",
    "\n",
    "user = input(\"enter username: \")\n",
    "if user in Username: \n",
    "    pw = input(\"enter password: \")\n",
    "    if pw == password:\n",
    "        print(\"login successful\")\n",
    "else:\n",
    "    print(\"incorrect username\")\n",
    "\n"
   ]
  },
  {
   "cell_type": "code",
   "execution_count": null,
   "id": "e30e2112",
   "metadata": {},
   "outputs": [],
   "source": []
  }
 ],
 "metadata": {
  "kernelspec": {
   "display_name": "Python 3 (ipykernel)",
   "language": "python",
   "name": "python3"
  },
  "language_info": {
   "codemirror_mode": {
    "name": "ipython",
    "version": 3
   },
   "file_extension": ".py",
   "mimetype": "text/x-python",
   "name": "python",
   "nbconvert_exporter": "python",
   "pygments_lexer": "ipython3",
   "version": "3.11.2"
  }
 },
 "nbformat": 4,
 "nbformat_minor": 5
}
