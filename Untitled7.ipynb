{
 "cells": [
  {
   "cell_type": "code",
   "execution_count": 4,
   "id": "29a311c9",
   "metadata": {},
   "outputs": [
    {
     "name": "stdout",
     "output_type": "stream",
     "text": [
      "o\n"
     ]
    }
   ],
   "source": [
    "a = \"Hello\"\n",
    "print(a[-1])"
   ]
  },
  {
   "cell_type": "code",
   "execution_count": 9,
   "id": "13db362a",
   "metadata": {},
   "outputs": [
    {
     "name": "stdout",
     "output_type": "stream",
     "text": [
      "L\n",
      "u\n",
      "g\n",
      "#\n"
     ]
    }
   ],
   "source": [
    "a = \"Python#Language\"\n",
    "print(a[7])\n",
    "print(a[-4])\n",
    "print(a[13])\n",
    "print(a[6])"
   ]
  },
  {
   "cell_type": "code",
   "execution_count": 23,
   "id": "26e13fd5",
   "metadata": {},
   "outputs": [
    {
     "name": "stdout",
     "output_type": "stream",
     "text": [
      "Harry potter and the Goblet of Fire\n",
      "Harry\n",
      "potter\n",
      "Fire\n",
      "Harry potter\n"
     ]
    }
   ],
   "source": [
    "a = \"Harry potter and the Goblet of Fire\"\n",
    "print(a)\n",
    "print(a[0:5])\n",
    "print(a[6:12])\n",
    "print(a[-4:])\n",
    "print(a[:12])\n"
   ]
  },
  {
   "cell_type": "code",
   "execution_count": 31,
   "id": "0aa68270",
   "metadata": {},
   "outputs": [
    {
     "name": "stdout",
     "output_type": "stream",
     "text": [
      "Charlie\n",
      "Factory\n"
     ]
    }
   ],
   "source": [
    "a = \"Charlie and the Chocolate Factory\"\n",
    "print(a[:7])\n",
    "print(a[-7:])\n"
   ]
  },
  {
   "cell_type": "code",
   "execution_count": 42,
   "id": "6fa4f887",
   "metadata": {},
   "outputs": [
    {
     "name": "stdout",
     "output_type": "stream",
     "text": [
      "Hello\n",
      "olH\n"
     ]
    }
   ],
   "source": [
    "a = \"Hello\"\n",
    "print(a[-5:])\n",
    "print(a[::-2])"
   ]
  },
  {
   "cell_type": "code",
   "execution_count": 38,
   "id": "f1a54eeb",
   "metadata": {},
   "outputs": [
    {
     "name": "stdout",
     "output_type": "stream",
     "text": [
      "24680\n"
     ]
    }
   ],
   "source": [
    "a = '1234567890'\n",
    "print(a[1::2])"
   ]
  },
  {
   "cell_type": "code",
   "execution_count": 39,
   "id": "8aa29e5e",
   "metadata": {},
   "outputs": [
    {
     "name": "stdout",
     "output_type": "stream",
     "text": [
      "nabakzA fo renozirP dna rettoP yrraH\n"
     ]
    }
   ],
   "source": [
    "a = \"Harry Potter and Prizoner of Azkaban\"\n",
    "print(a[::-1])"
   ]
  },
  {
   "cell_type": "code",
   "execution_count": 41,
   "id": "4d395035",
   "metadata": {},
   "outputs": [
    {
     "name": "stdout",
     "output_type": "stream",
     "text": [
      "h\n",
      "e\n",
      "l\n",
      "l\n",
      "o\n"
     ]
    }
   ],
   "source": [
    "a = \"hello\"\n",
    "for i in a:\n",
    "    print(i)"
   ]
  },
  {
   "cell_type": "code",
   "execution_count": 45,
   "id": "6ecafdc7",
   "metadata": {},
   "outputs": [
    {
     "name": "stdout",
     "output_type": "stream",
     "text": [
      "33\n",
      "5\n"
     ]
    }
   ],
   "source": [
    "a = \"Charlie and the Chocolate Factory\"\n",
    "b = \"12345\"\n",
    "print(len(a))\n",
    "print(len(b))"
   ]
  },
  {
   "cell_type": "code",
   "execution_count": 54,
   "id": "8c56e69e",
   "metadata": {},
   "outputs": [
    {
     "name": "stdout",
     "output_type": "stream",
     "text": [
      "4\n",
      "3\n"
     ]
    }
   ],
   "source": [
    "a = \"charlie and the chocolate Factory\"\n",
    "b = \"#BRB #TBT #GRWM LOL\"\n",
    "print(a.count(\"c\"))\n",
    "print(b.count(\"#\"))"
   ]
  },
  {
   "cell_type": "code",
   "execution_count": 58,
   "id": "8bd34398",
   "metadata": {},
   "outputs": [
    {
     "name": "stdout",
     "output_type": "stream",
     "text": [
      "CHARLIE AND THE CHOCOLATE FACTORY\n",
      "charlie and the chocolate factory\n"
     ]
    }
   ],
   "source": [
    "a = \"Charlie and the Chocolate Factory\"\n",
    "print(a.upper())\n",
    "print(a.lower())"
   ]
  },
  {
   "cell_type": "code",
   "execution_count": 63,
   "id": "558f361f",
   "metadata": {},
   "outputs": [
    {
     "name": "stdout",
     "output_type": "stream",
     "text": [
      "enter country: INDIA\n",
      "Hi\n"
     ]
    }
   ],
   "source": [
    "country = input(\"enter country: \").lower()\n",
    "if country == \"india\":\n",
    "    print(\"Hi\")"
   ]
  },
  {
   "cell_type": "code",
   "execution_count": 67,
   "id": "689e0994",
   "metadata": {},
   "outputs": [
    {
     "name": "stdout",
     "output_type": "stream",
     "text": [
      "cHARLIE AND THE. cHOCOLATE fACTORY\n",
      "Charlie and the. chocolate factory\n"
     ]
    }
   ],
   "source": [
    "a = \"Charlie and the Chocolate Factory\"\n",
    "print(a.swapcase())\n",
    "print(a.capitalize())"
   ]
  },
  {
   "cell_type": "code",
   "execution_count": 70,
   "id": "04ccfc3c",
   "metadata": {},
   "outputs": [
    {
     "name": "stdout",
     "output_type": "stream",
     "text": [
      "hello\n"
     ]
    }
   ],
   "source": [
    "a = \"Hello\"\n",
    "print(a.casefold())"
   ]
  },
  {
   "cell_type": "code",
   "execution_count": 69,
   "id": "6e48af1c",
   "metadata": {},
   "outputs": [
    {
     "name": "stdout",
     "output_type": "stream",
     "text": [
      "Charlie And The Chocolate Factory\n"
     ]
    }
   ],
   "source": [
    "a = \"Charlie and the chocolate Factory\"\n",
    "print(a.title())\n"
   ]
  },
  {
   "cell_type": "code",
   "execution_count": 65,
   "id": "859f225c",
   "metadata": {},
   "outputs": [
    {
     "name": "stdout",
     "output_type": "stream",
     "text": [
      "John cena\n"
     ]
    }
   ],
   "source": [
    "a = \"John Cena\"\n",
    "print(a.capitalize())"
   ]
  },
  {
   "cell_type": "code",
   "execution_count": 73,
   "id": "548ec77e",
   "metadata": {},
   "outputs": [
    {
     "name": "stdout",
     "output_type": "stream",
     "text": [
      "18\n",
      "2\n"
     ]
    }
   ],
   "source": [
    "a = \"Charlie and the chocolate Factory\"\n",
    "print(a.index(\"o\"))\n",
    "b = \"Hello\"\n",
    "print(b.index(\"l\"))"
   ]
  },
  {
   "cell_type": "code",
   "execution_count": null,
   "id": "45bd79cd",
   "metadata": {},
   "outputs": [],
   "source": []
  },
  {
   "cell_type": "code",
   "execution_count": 84,
   "id": "c586b30e",
   "metadata": {},
   "outputs": [
    {
     "name": "stdout",
     "output_type": "stream",
     "text": [
      " \n"
     ]
    }
   ],
   "source": [
    "a = \"Hi bye\"\n",
    "print(a[2])"
   ]
  },
  {
   "cell_type": "code",
   "execution_count": 75,
   "id": "ace712f4",
   "metadata": {},
   "outputs": [
    {
     "name": "stdout",
     "output_type": "stream",
     "text": [
      "HEllo\n"
     ]
    }
   ],
   "source": [
    "a = \"Hello\"\n",
    "print(a[:2].upper()+a[2:])"
   ]
  },
  {
   "cell_type": "code",
   "execution_count": 79,
   "id": "7640c211",
   "metadata": {},
   "outputs": [
    {
     "name": "stdout",
     "output_type": "stream",
     "text": [
      "HAPPY birthday\n"
     ]
    }
   ],
   "source": [
    "a = \"Happy Birthday\"\n",
    "print(a[:5].upper()+a[5:].lower())\n"
   ]
  },
  {
   "cell_type": "code",
   "execution_count": 81,
   "id": "a5b8ed48",
   "metadata": {},
   "outputs": [
    {
     "name": "stdout",
     "output_type": "stream",
     "text": [
      "Happy Birthday\n"
     ]
    }
   ],
   "source": [
    "a = \"Happy\"\n",
    "b = \"Birthday\"\n",
    "print(a+\" \"+b)\n"
   ]
  },
  {
   "cell_type": "code",
   "execution_count": 83,
   "id": "20f367f6",
   "metadata": {},
   "outputs": [
    {
     "name": "stdout",
     "output_type": "stream",
     "text": [
      "1234\n"
     ]
    }
   ],
   "source": [
    "a = \"12\"\n",
    "b = \"34\"\n",
    "print(a+b)"
   ]
  },
  {
   "cell_type": "code",
   "execution_count": 85,
   "id": "389bf8ef",
   "metadata": {},
   "outputs": [
    {
     "name": "stdout",
     "output_type": "stream",
     "text": [
      "<class 'str'>\n"
     ]
    }
   ],
   "source": [
    "a = \"12345\"\n",
    "print(type(a))"
   ]
  },
  {
   "cell_type": "code",
   "execution_count": 1,
   "id": "fa49616a",
   "metadata": {},
   "outputs": [
    {
     "ename": "KeyboardInterrupt",
     "evalue": "Interrupted by user",
     "output_type": "error",
     "traceback": [
      "\u001b[1;31m---------------------------------------------------------------------------\u001b[0m",
      "\u001b[1;31mKeyboardInterrupt\u001b[0m                         Traceback (most recent call last)",
      "Cell \u001b[1;32mIn[1], line 5\u001b[0m\n\u001b[0;32m      3\u001b[0m \u001b[38;5;28;01mwhile\u001b[39;00m \u001b[38;5;28;01mTrue\u001b[39;00m:\n\u001b[0;32m      4\u001b[0m     amount \u001b[38;5;241m=\u001b[39m \u001b[38;5;241m0\u001b[39m\n\u001b[1;32m----> 5\u001b[0m     seats \u001b[38;5;241m=\u001b[39m \u001b[38;5;28mint\u001b[39m(\u001b[38;5;28;43minput\u001b[39;49m\u001b[43m(\u001b[49m\u001b[38;5;124;43m'\u001b[39;49m\u001b[38;5;124;43menter seat: \u001b[39;49m\u001b[38;5;124;43m'\u001b[39;49m\u001b[43m)\u001b[49m)\n\u001b[0;32m      6\u001b[0m     total \u001b[38;5;241m-\u001b[39m\u001b[38;5;241m=\u001b[39mseats\n\u001b[0;32m      7\u001b[0m     amount\u001b[38;5;241m=\u001b[39m \u001b[38;5;241m250\u001b[39m\u001b[38;5;241m*\u001b[39mseats\n",
      "File \u001b[1;32m~\\AppData\\Local\\Programs\\Python\\Python311\\Lib\\site-packages\\ipykernel\\kernelbase.py:1191\u001b[0m, in \u001b[0;36mKernel.raw_input\u001b[1;34m(self, prompt)\u001b[0m\n\u001b[0;32m   1189\u001b[0m     msg \u001b[38;5;241m=\u001b[39m \u001b[38;5;124m\"\u001b[39m\u001b[38;5;124mraw_input was called, but this frontend does not support input requests.\u001b[39m\u001b[38;5;124m\"\u001b[39m\n\u001b[0;32m   1190\u001b[0m     \u001b[38;5;28;01mraise\u001b[39;00m StdinNotImplementedError(msg)\n\u001b[1;32m-> 1191\u001b[0m \u001b[38;5;28;01mreturn\u001b[39;00m \u001b[38;5;28;43mself\u001b[39;49m\u001b[38;5;241;43m.\u001b[39;49m\u001b[43m_input_request\u001b[49m\u001b[43m(\u001b[49m\n\u001b[0;32m   1192\u001b[0m \u001b[43m    \u001b[49m\u001b[38;5;28;43mstr\u001b[39;49m\u001b[43m(\u001b[49m\u001b[43mprompt\u001b[49m\u001b[43m)\u001b[49m\u001b[43m,\u001b[49m\n\u001b[0;32m   1193\u001b[0m \u001b[43m    \u001b[49m\u001b[38;5;28;43mself\u001b[39;49m\u001b[38;5;241;43m.\u001b[39;49m\u001b[43m_parent_ident\u001b[49m\u001b[43m[\u001b[49m\u001b[38;5;124;43m\"\u001b[39;49m\u001b[38;5;124;43mshell\u001b[39;49m\u001b[38;5;124;43m\"\u001b[39;49m\u001b[43m]\u001b[49m\u001b[43m,\u001b[49m\n\u001b[0;32m   1194\u001b[0m \u001b[43m    \u001b[49m\u001b[38;5;28;43mself\u001b[39;49m\u001b[38;5;241;43m.\u001b[39;49m\u001b[43mget_parent\u001b[49m\u001b[43m(\u001b[49m\u001b[38;5;124;43m\"\u001b[39;49m\u001b[38;5;124;43mshell\u001b[39;49m\u001b[38;5;124;43m\"\u001b[39;49m\u001b[43m)\u001b[49m\u001b[43m,\u001b[49m\n\u001b[0;32m   1195\u001b[0m \u001b[43m    \u001b[49m\u001b[43mpassword\u001b[49m\u001b[38;5;241;43m=\u001b[39;49m\u001b[38;5;28;43;01mFalse\u001b[39;49;00m\u001b[43m,\u001b[49m\n\u001b[0;32m   1196\u001b[0m \u001b[43m\u001b[49m\u001b[43m)\u001b[49m\n",
      "File \u001b[1;32m~\\AppData\\Local\\Programs\\Python\\Python311\\Lib\\site-packages\\ipykernel\\kernelbase.py:1234\u001b[0m, in \u001b[0;36mKernel._input_request\u001b[1;34m(self, prompt, ident, parent, password)\u001b[0m\n\u001b[0;32m   1231\u001b[0m \u001b[38;5;28;01mexcept\u001b[39;00m \u001b[38;5;167;01mKeyboardInterrupt\u001b[39;00m:\n\u001b[0;32m   1232\u001b[0m     \u001b[38;5;66;03m# re-raise KeyboardInterrupt, to truncate traceback\u001b[39;00m\n\u001b[0;32m   1233\u001b[0m     msg \u001b[38;5;241m=\u001b[39m \u001b[38;5;124m\"\u001b[39m\u001b[38;5;124mInterrupted by user\u001b[39m\u001b[38;5;124m\"\u001b[39m\n\u001b[1;32m-> 1234\u001b[0m     \u001b[38;5;28;01mraise\u001b[39;00m \u001b[38;5;167;01mKeyboardInterrupt\u001b[39;00m(msg) \u001b[38;5;28;01mfrom\u001b[39;00m \u001b[38;5;28mNone\u001b[39m\n\u001b[0;32m   1235\u001b[0m \u001b[38;5;28;01mexcept\u001b[39;00m \u001b[38;5;167;01mException\u001b[39;00m:\n\u001b[0;32m   1236\u001b[0m     \u001b[38;5;28mself\u001b[39m\u001b[38;5;241m.\u001b[39mlog\u001b[38;5;241m.\u001b[39mwarning(\u001b[38;5;124m\"\u001b[39m\u001b[38;5;124mInvalid Message:\u001b[39m\u001b[38;5;124m\"\u001b[39m, exc_info\u001b[38;5;241m=\u001b[39m\u001b[38;5;28;01mTrue\u001b[39;00m)\n",
      "\u001b[1;31mKeyboardInterrupt\u001b[0m: Interrupted by user"
     ]
    }
   ],
   "source": [
    "total = 200\n",
    "\n",
    "while True:\n",
    "    amount = 0\n",
    "    seats = int(input('enter seat: '))\n",
    "    total -=seats\n",
    "    amount= 250*seats\n",
    "    \n",
    "    print(total)\n",
    "    print(amount)"
   ]
  },
  {
   "cell_type": "code",
   "execution_count": 90,
   "id": "0125aa1d",
   "metadata": {},
   "outputs": [
    {
     "name": "stdout",
     "output_type": "stream",
     "text": [
      "<class 'list'>\n"
     ]
    }
   ],
   "source": [
    "a = [\"hello\",\"hi\",\"bye\",23,12.5]\n",
    "print(type(a))"
   ]
  },
  {
   "cell_type": "code",
   "execution_count": 20,
   "id": "403e1944",
   "metadata": {},
   "outputs": [
    {
     "name": "stdout",
     "output_type": "stream",
     "text": [
      "2\n"
     ]
    }
   ],
   "source": [
    "a = \"Harry Potter\"\n",
    "print(a.index(\"r\"))"
   ]
  },
  {
   "cell_type": "code",
   "execution_count": 10,
   "id": "92718691",
   "metadata": {},
   "outputs": [
    {
     "name": "stdout",
     "output_type": "stream",
     "text": [
      "r\n"
     ]
    }
   ],
   "source": [
    "a = \"harry potter\"\n",
    "print(a[3])"
   ]
  },
  {
   "cell_type": "code",
   "execution_count": 22,
   "id": "8799bde7",
   "metadata": {},
   "outputs": [
    {
     "name": "stdout",
     "output_type": "stream",
     "text": [
      "-1\n"
     ]
    }
   ],
   "source": [
    "a = \"Harry Potter\"\n",
    "print(a.find(\"r\",6,11))"
   ]
  },
  {
   "cell_type": "code",
   "execution_count": 19,
   "id": "ee99eec6",
   "metadata": {},
   "outputs": [
    {
     "name": "stdout",
     "output_type": "stream",
     "text": [
      "True\n"
     ]
    }
   ],
   "source": [
    "a = \"97hello76\"\n",
    "print(a.isalnum()) # is alpha numeric?"
   ]
  },
  {
   "cell_type": "code",
   "execution_count": 26,
   "id": "8d2196d3",
   "metadata": {},
   "outputs": [
    {
     "name": "stdout",
     "output_type": "stream",
     "text": [
      "False\n"
     ]
    }
   ],
   "source": [
    "a = \" \"\n",
    "print(a.isspace())"
   ]
  },
  {
   "cell_type": "code",
   "execution_count": 32,
   "id": "7b4e3786",
   "metadata": {},
   "outputs": [
    {
     "name": "stdout",
     "output_type": "stream",
     "text": [
      "False\n",
      "False\n",
      "True\n"
     ]
    }
   ],
   "source": [
    "a = \"12djkhuejdksw34\"\n",
    "print(a.isalpha())\n",
    "print(a.isdigit())\n",
    "print(a.isalnum())"
   ]
  },
  {
   "cell_type": "code",
   "execution_count": 36,
   "id": "db0b8034",
   "metadata": {},
   "outputs": [
    {
     "name": "stdout",
     "output_type": "stream",
     "text": [
      "Vishal567\n"
     ]
    }
   ],
   "source": [
    "a = \"Vishal123\"\n",
    "print(a.replace(\"123\",\"567\"))"
   ]
  },
  {
   "cell_type": "code",
   "execution_count": 50,
   "id": "b63df5a4",
   "metadata": {},
   "outputs": [
    {
     "name": "stdout",
     "output_type": "stream",
     "text": [
      "Harry Potter\n",
      " Harry Potter\n"
     ]
    }
   ],
   "source": [
    "a = \" Harry Potter\"\n",
    "print(a.strip())\n",
    "print(a)"
   ]
  },
  {
   "cell_type": "code",
   "execution_count": 48,
   "id": "b523701d",
   "metadata": {},
   "outputs": [
    {
     "name": "stdout",
     "output_type": "stream",
     "text": [
      "['tanu', 'gmail.com']\n"
     ]
    }
   ],
   "source": [
    "a = \"tanu@gmail.com\"\n",
    "print(a.split(\"@\"))"
   ]
  },
  {
   "cell_type": "code",
   "execution_count": 57,
   "id": "75a6e319",
   "metadata": {},
   "outputs": [
    {
     "name": "stdout",
     "output_type": "stream",
     "text": [
      "my name is Ayushi and my age is 25\n",
      "my name is Ayushi and my age is 25\n",
      "Hello everyone! My name is Ayushi \n"
     ]
    }
   ],
   "source": [
    "name = \"Ayushi\"\n",
    "age = 25\n",
    "print(\"my name is\", name, \"and my age is\", age)\n",
    "print(f\"my name is {name} and my age is {age}\")\n",
    "print(f\"Hello everyone! My name is {name} \")"
   ]
  },
  {
   "cell_type": "code",
   "execution_count": 59,
   "id": "d16c88f3",
   "metadata": {},
   "outputs": [
    {
     "name": "stdout",
     "output_type": "stream",
     "text": [
      "123567\n"
     ]
    }
   ],
   "source": [
    "a = 123567\n",
    "print(a)"
   ]
  },
  {
   "cell_type": "code",
   "execution_count": 72,
   "id": "50d61d0c",
   "metadata": {},
   "outputs": [
    {
     "name": "stdout",
     "output_type": "stream",
     "text": [
      "['Hulk', \"Ironman's\", 'Thor', 'vision']\n",
      "Ironman's\n",
      "vision\n",
      "['Hulk', \"Ironman's\", 'Thor']\n",
      "['Thor', 'vision']\n",
      "['Thor', 'vision']\n",
      "['vision', 'Thor', \"Ironman's\", 'Hulk']\n"
     ]
    }
   ],
   "source": [
    "a = [\"Hulk\",\"Ironman's\",\"Thor\",\"vision\"]\n",
    "print(a)\n",
    "print(a[1])\n",
    "print(a[-1])\n",
    "print(a[0:3])\n",
    "print(a[2:4])\n",
    "print(a[-2:])\n",
    "print(a[::-1])"
   ]
  },
  {
   "cell_type": "code",
   "execution_count": 71,
   "id": "f682fefb",
   "metadata": {},
   "outputs": [
    {
     "name": "stdout",
     "output_type": "stream",
     "text": [
      "['Hi', 'Bye']\n"
     ]
    }
   ],
   "source": [
    "a = \"Hi Bye\"\n",
    "print(a.split(\" \"))"
   ]
  },
  {
   "cell_type": "code",
   "execution_count": null,
   "id": "d647d39e",
   "metadata": {},
   "outputs": [],
   "source": [
    "print(\"it's goint to rain today\")\n",
    "print('it's going to rain today')"
   ]
  }
 ],
 "metadata": {
  "kernelspec": {
   "display_name": "Python 3 (ipykernel)",
   "language": "python",
   "name": "python3"
  },
  "language_info": {
   "codemirror_mode": {
    "name": "ipython",
    "version": 3
   },
   "file_extension": ".py",
   "mimetype": "text/x-python",
   "name": "python",
   "nbconvert_exporter": "python",
   "pygments_lexer": "ipython3",
   "version": "3.11.2"
  }
 },
 "nbformat": 4,
 "nbformat_minor": 5
}
