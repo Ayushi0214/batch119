{
 "cells": [
  {
   "cell_type": "code",
   "execution_count": 5,
   "id": "4d6184d6",
   "metadata": {},
   "outputs": [
    {
     "name": "stdout",
     "output_type": "stream",
     "text": [
      "12\n",
      "12\n"
     ]
    }
   ],
   "source": [
    "a = \"Harry Potter\"\n",
    "print(len(a))\n",
    "\n",
    "length = 0\n",
    "for i in a:\n",
    "    length+=1\n",
    "print(length)"
   ]
  },
  {
   "cell_type": "code",
   "execution_count": null,
   "id": "2261167c",
   "metadata": {},
   "outputs": [],
   "source": []
  },
  {
   "cell_type": "code",
   "execution_count": 8,
   "id": "f2c74acd",
   "metadata": {},
   "outputs": [
    {
     "name": "stdout",
     "output_type": "stream",
     "text": [
      "3\n",
      "3\n"
     ]
    }
   ],
   "source": [
    "a = \"Harry Potter\"\n",
    "print(a.count(\"r\"))\n",
    "\n",
    "count = 0\n",
    "for i in a:\n",
    "    if i == \"r\":\n",
    "        count+=1\n",
    "print(count)"
   ]
  },
  {
   "cell_type": "code",
   "execution_count": 13,
   "id": "3d1ee6bf",
   "metadata": {},
   "outputs": [
    {
     "name": "stdout",
     "output_type": "stream",
     "text": [
      "['apple', 'mango', 'kiwi']\n",
      "mango\n",
      "['apple', 'mango']\n"
     ]
    }
   ],
   "source": [
    "# in squared brackets\n",
    "# ordered (properly indexed)\n",
    "# mutable (once created they can be changed)\n",
    "# every element is coma separated\n",
    "# you can add mutiple datatypes in list\n",
    "\n",
    "fruits = [\"apple\",\"mango\",\"kiwi\"]\n",
    "print(fruits)\n",
    "\n",
    "print(fruits[1])\n",
    "print(fruits[:2])"
   ]
  },
  {
   "cell_type": "code",
   "execution_count": 14,
   "id": "819e1305",
   "metadata": {},
   "outputs": [
    {
     "name": "stdout",
     "output_type": "stream",
     "text": [
      "apple\n",
      "mango\n",
      "kiwi\n"
     ]
    }
   ],
   "source": [
    "fruits = [\"apple\",\"mango\",\"kiwi\"]\n",
    "for i in fruits:\n",
    "    print(i)"
   ]
  },
  {
   "cell_type": "code",
   "execution_count": 17,
   "id": "a0a354be",
   "metadata": {},
   "outputs": [
    {
     "name": "stdout",
     "output_type": "stream",
     "text": [
      "3\n"
     ]
    }
   ],
   "source": [
    "numbers = [8,4,6,3,57,2,256,8,2,4,89]\n",
    "count = 0\n",
    "\n",
    "for i in numbers:\n",
    "    if i % 2 != 0:\n",
    "        count+=1\n",
    "        \n",
    "print(count)\n",
    "        "
   ]
  },
  {
   "cell_type": "code",
   "execution_count": null,
   "id": "569467d6",
   "metadata": {},
   "outputs": [],
   "source": []
  },
  {
   "cell_type": "code",
   "execution_count": 29,
   "id": "2baedab0",
   "metadata": {},
   "outputs": [
    {
     "name": "stdout",
     "output_type": "stream",
     "text": [
      "0 - apple\n",
      "1 - mango\n",
      "2 - kiwi\n"
     ]
    }
   ],
   "source": [
    "fruits = [\"apple\",\"mango\",\"kiwi\"]\n",
    "\n",
    "for i,j in enumerate(fruits):\n",
    "    print(i, \"-\", j)"
   ]
  },
  {
   "cell_type": "code",
   "execution_count": 38,
   "id": "4f37ba48",
   "metadata": {},
   "outputs": [
    {
     "name": "stdout",
     "output_type": "stream",
     "text": [
      "['apple', 'mango', 'kiwi', 'pineapple']\n",
      "['apple', 'mango', 'kiwi', 'pineapple', 'Banana']\n",
      "['apple', 'mango', 'strawberry', 'kiwi', 'pineapple', 'Banana']\n"
     ]
    }
   ],
   "source": [
    "fruits = [\"apple\",\"mango\",\"kiwi\"]\n",
    "fruits.append(\"pineapple\")\n",
    "print(fruits)\n",
    "fruits.append(\"Banana\")\n",
    "print(fruits)\n",
    "\n",
    "fruits.insert(2,\"strawberry\")\n",
    "print(fruits)"
   ]
  },
  {
   "cell_type": "code",
   "execution_count": 40,
   "id": "ee043765",
   "metadata": {},
   "outputs": [
    {
     "name": "stdout",
     "output_type": "stream",
     "text": [
      "['apple', 'mango', 'strawberry', 'kiwi', 'pineapple']\n",
      "['apple', 'mango', 'kiwi', 'pineapple']\n"
     ]
    }
   ],
   "source": [
    "fruits = ['apple', 'mango', 'strawberry', 'kiwi', 'pineapple', 'Banana']\n",
    "\n",
    "fruits.remove(\"Banana\")\n",
    "print(fruits)\n",
    "\n",
    "fruits.pop(2)\n",
    "print(fruits)"
   ]
  },
  {
   "cell_type": "code",
   "execution_count": 42,
   "id": "c440128e",
   "metadata": {},
   "outputs": [
    {
     "name": "stdout",
     "output_type": "stream",
     "text": [
      "[2, 2, 3, 4, 4, 6, 8, 8, 57, 89, 256]\n",
      "[256, 89, 57, 8, 8, 6, 4, 4, 3, 2, 2]\n"
     ]
    }
   ],
   "source": [
    "numbers = [8,4,6,3,57,2,256,8,2,4,89]\n",
    "numbers.sort()\n",
    "print(numbers)\n",
    "print(numbers[::-1])"
   ]
  },
  {
   "cell_type": "code",
   "execution_count": 57,
   "id": "2f298c6f",
   "metadata": {},
   "outputs": [
    {
     "name": "stdout",
     "output_type": "stream",
     "text": [
      "apple\n",
      "mango\n",
      "strawberry\n",
      "kiwi\n",
      "pineapple\n",
      "banana\n",
      "['apple', 'mango', 'strawberry', 'kiwi', 'pineapple', 'banana']\n",
      "['apple', 'banana', 'kiwi', 'mango', 'pineapple', 'strawberry']\n"
     ]
    }
   ],
   "source": [
    "fruits = ['Apple', 'mango', 'Strawberry', 'kiwi', 'pineapple', 'Banana']\n",
    "f = []\n",
    "\n",
    "for i in fruits:\n",
    "    i = i.lower()\n",
    "    print(i)\n",
    "    f.append(i)\n",
    "    \n",
    "print(f)\n",
    "f.sort()\n",
    "print(f)\n"
   ]
  },
  {
   "cell_type": "code",
   "execution_count": 62,
   "id": "beff3cff",
   "metadata": {},
   "outputs": [
    {
     "name": "stdout",
     "output_type": "stream",
     "text": [
      "3\n",
      "['Banana', 'pineapple', 'kiwi', 'Strawberry', 'mango', 'Apple']\n"
     ]
    }
   ],
   "source": [
    "fruits = ['Apple', 'mango', 'Strawberry', 'kiwi', 'pineapple', 'Banana']\n",
    "print(fruits.index(\"kiwi\"))\n",
    "fruits.reverse()\n",
    "print(fruits)"
   ]
  },
  {
   "cell_type": "code",
   "execution_count": 65,
   "id": "3701bdda",
   "metadata": {},
   "outputs": [
    {
     "name": "stdout",
     "output_type": "stream",
     "text": [
      "1\n"
     ]
    }
   ],
   "source": [
    "numbers = [4,6,2,56,8,23,56,8,3]\n",
    "print(numbers.count(3))"
   ]
  },
  {
   "cell_type": "code",
   "execution_count": 67,
   "id": "fa5b7042",
   "metadata": {},
   "outputs": [
    {
     "name": "stdout",
     "output_type": "stream",
     "text": [
      "['apple', 'mango']\n"
     ]
    }
   ],
   "source": [
    "fruits = ['apple','mango']\n",
    "f = fruits.copy()\n",
    "print(f)"
   ]
  },
  {
   "cell_type": "code",
   "execution_count": 76,
   "id": "a46d0a35",
   "metadata": {},
   "outputs": [
    {
     "name": "stdout",
     "output_type": "stream",
     "text": [
      "[1, 2, 3]\n",
      "[4, 5, 6]\n",
      "[1, 2, 3, [4, 5, 6]]\n",
      "4\n"
     ]
    }
   ],
   "source": [
    "num1 = [1,2,3]\n",
    "num2 = [4,5,6]\n",
    "print(num1)\n",
    "print(num2)\n",
    "\n",
    "num1.append(num2)\n",
    "print(num1)\n",
    "print(num1[3][0])"
   ]
  },
  {
   "cell_type": "code",
   "execution_count": null,
   "id": "bbcf1d8c",
   "metadata": {},
   "outputs": [
    {
     "name": "stdout",
     "output_type": "stream",
     "text": [
      "press 1 to add\n",
      "    press 2 to remove\n",
      "    press 3 to display list: 1\n",
      "enter item: apple\n",
      "['apple']\n",
      "press 1 to add\n",
      "    press 2 to remove\n",
      "    press 3 to display list: 1\n",
      "enter item: banana\n",
      "['apple', 'banana']\n",
      "press 1 to add\n",
      "    press 2 to remove\n",
      "    press 3 to display list: 1\n",
      "enter item: chips\n",
      "['apple', 'banana', 'chips']\n",
      "press 1 to add\n",
      "    press 2 to remove\n",
      "    press 3 to display list: 2\n",
      "enter item: chips\n",
      "['apple', 'banana']\n",
      "press 1 to add\n",
      "    press 2 to remove\n",
      "    press 3 to display list: 1\n",
      "enter item: Banana\n",
      "['apple', 'banana', 'Banana']\n",
      "press 1 to add\n",
      "    press 2 to remove\n",
      "    press 3 to display list: 2\n"
     ]
    }
   ],
   "source": [
    "grocery = []\n",
    "while True:\n",
    "    choice = int(input(\"\"\"press 1 to add\n",
    "    press 2 to remove\n",
    "    press 3 to display list: \"\"\"))\n",
    "\n",
    "    if choice == 1:\n",
    "        item = input(\"enter item: \")\n",
    "        grocery.append(item)\n",
    "        print(grocery)\n",
    "\n",
    "    elif choice == 2:\n",
    "        item = input(\"enter item: \")\n",
    "        grocery.remove(item)\n",
    "        print(grocery)\n",
    "\n",
    "    \n"
   ]
  },
  {
   "cell_type": "code",
   "execution_count": 5,
   "id": "88a886f7",
   "metadata": {},
   "outputs": [],
   "source": [
    "a = 23"
   ]
  },
  {
   "cell_type": "code",
   "execution_count": 6,
   "id": "ec1407dc",
   "metadata": {},
   "outputs": [
    {
     "name": "stdout",
     "output_type": "stream",
     "text": [
      "19\n"
     ]
    }
   ],
   "source": [
    "print(a-4)"
   ]
  },
  {
   "cell_type": "code",
   "execution_count": 2,
   "id": "d1a161d1",
   "metadata": {},
   "outputs": [
    {
     "name": "stdout",
     "output_type": "stream",
     "text": [
      "[[ 7.4     0.7     0.      1.9     0.076  11.     34.      0.9978  3.51\n",
      "   0.56    9.4     5.    ]\n",
      " [ 7.8     0.88    0.      2.6     0.098  25.     67.      0.9968  3.2\n",
      "   0.68    9.8     5.    ]]\n"
     ]
    }
   ],
   "source": [
    "import numpy as np\n",
    "a = np.genfromtxt('C:/Users/WsCube Tech/Desktop/DA-Practice/1.csv',delimiter=',')\n",
    "print(a[1:])\n"
   ]
  },
  {
   "cell_type": "code",
   "execution_count": null,
   "id": "6540aaa5",
   "metadata": {},
   "outputs": [],
   "source": []
  }
 ],
 "metadata": {
  "kernelspec": {
   "display_name": "Python 3 (ipykernel)",
   "language": "python",
   "name": "python3"
  },
  "language_info": {
   "codemirror_mode": {
    "name": "ipython",
    "version": 3
   },
   "file_extension": ".py",
   "mimetype": "text/x-python",
   "name": "python",
   "nbconvert_exporter": "python",
   "pygments_lexer": "ipython3",
   "version": "3.11.3"
  }
 },
 "nbformat": 4,
 "nbformat_minor": 5
}
