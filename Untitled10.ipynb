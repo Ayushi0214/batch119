{
 "cells": [
  {
   "cell_type": "code",
   "execution_count": 2,
   "id": "b7312e0f",
   "metadata": {},
   "outputs": [
    {
     "name": "stdout",
     "output_type": "stream",
     "text": [
      "[4, 2, 34, 62]\n",
      "[3, 5, 7, 5, 7, 9]\n"
     ]
    }
   ],
   "source": [
    "numbers = [3,4,5,7,2,34,62,5,7,9]\n",
    "even = []\n",
    "odd = []\n",
    "\n",
    "for i in numbers:\n",
    "    if i % 2 == 0:\n",
    "        even.append(i)\n",
    "    else:\n",
    "        odd.append(i)\n",
    "print(even)\n",
    "print(odd)"
   ]
  },
  {
   "cell_type": "code",
   "execution_count": 4,
   "id": "cdf10544",
   "metadata": {},
   "outputs": [
    {
     "name": "stdout",
     "output_type": "stream",
     "text": [
      "4\n",
      "6\n"
     ]
    }
   ],
   "source": [
    "#how many even and odd numbers are there in the following list\n",
    "numbers = [3,4,5,7,2,34,62,5,7,9]\n",
    "\n",
    "even_count = 0\n",
    "odd_count = 0\n",
    "\n",
    "for i in numbers:\n",
    "    if i % 2 == 0:\n",
    "        even_count+=1\n",
    "    else:\n",
    "        odd_count+=1\n",
    "print(even_count)\n",
    "print(odd_count)"
   ]
  },
  {
   "cell_type": "code",
   "execution_count": 7,
   "id": "cd8f9ece",
   "metadata": {},
   "outputs": [
    {
     "name": "stdout",
     "output_type": "stream",
     "text": [
      "['Ironman', 'Hulk', 'Thor']\n",
      "['Ironman', 'Hulk', 'Thor']\n",
      "['Ironman', 'Hulk', 'Thor']\n"
     ]
    }
   ],
   "source": [
    "a = [\"Ironman\",\"Hulk\",\"Thor\"]\n",
    "b = []\n",
    "\n",
    "for i in a:\n",
    "    b.append(i)\n",
    "print(a)\n",
    "print(b)\n",
    "\n",
    "#List comprehension\n",
    "c = [for i in a]\n",
    "print(c)"
   ]
  },
  {
   "cell_type": "code",
   "execution_count": 13,
   "id": "9ea04195",
   "metadata": {},
   "outputs": [
    {
     "name": "stdout",
     "output_type": "stream",
     "text": [
      "[3, 57, 3, 5, 7, 7, 3, 3, 5]\n",
      "[3, 57, 3, 5, 7, 7, 3, 3, 5]\n",
      "[2, 3, 57, 3, 5, 7, 7, 3, 3, 5, 8]\n"
     ]
    }
   ],
   "source": [
    "numbers = [2,3,57,3,5,7,7,3,3,5,8]\n",
    "odd = []\n",
    "\n",
    "for i in numbers:\n",
    "    if i % 2 !=0:\n",
    "        odd.append(i)\n",
    "print(odd)\n",
    "\n",
    "odd1 = [i for i in numbers if i%2 != 0]\n",
    "print(odd1)\n",
    "\n",
    "a = [i for i in numbers]\n",
    "print(a)"
   ]
  },
  {
   "cell_type": "markdown",
   "id": "ed2e27dc",
   "metadata": {},
   "source": [
    "# Tuples"
   ]
  },
  {
   "cell_type": "code",
   "execution_count": 27,
   "id": "efb4d788",
   "metadata": {},
   "outputs": [
    {
     "name": "stdout",
     "output_type": "stream",
     "text": [
      "<class 'tuple'>\n",
      "<class 'list'>\n",
      "[1, 2, 4]\n"
     ]
    }
   ],
   "source": [
    "fruits = (1,2,3,4)\n",
    "fruits1 = [1,2,3,4]\n",
    "print(type(fruits))\n",
    "print(type(fruits1))\n",
    "\n",
    "fruits1.remove(3)\n",
    "print(fruits1)"
   ]
  },
  {
   "cell_type": "code",
   "execution_count": 28,
   "id": "a6355623",
   "metadata": {},
   "outputs": [
    {
     "name": "stdout",
     "output_type": "stream",
     "text": [
      "3\n"
     ]
    }
   ],
   "source": [
    "a = (\"Ironman\",\"Hulk\",\"Thor\")\n",
    "print(a.count()"
   ]
  },
  {
   "cell_type": "code",
   "execution_count": 37,
   "id": "a53688e1",
   "metadata": {},
   "outputs": [
    {
     "name": "stdout",
     "output_type": "stream",
     "text": [
      "('hello',)\n",
      "<class 'tuple'>\n"
     ]
    }
   ],
   "source": [
    "a = \"hello\",\n",
    "print(a)\n",
    "print(type(a))"
   ]
  },
  {
   "cell_type": "code",
   "execution_count": 32,
   "id": "ac9ab46e",
   "metadata": {},
   "outputs": [
    {
     "name": "stdout",
     "output_type": "stream",
     "text": [
      "<class 'list'>\n"
     ]
    }
   ],
   "source": [
    "a = [\"hello\"]\n",
    "print(type(a))"
   ]
  },
  {
   "cell_type": "code",
   "execution_count": 38,
   "id": "3988f123",
   "metadata": {},
   "outputs": [
    {
     "name": "stdout",
     "output_type": "stream",
     "text": [
      "Ironman\n",
      "Hulk\n",
      "Thor\n"
     ]
    }
   ],
   "source": [
    "a = (\"Ironman\",\"Hulk\",\"Thor\")\n",
    "for i in a:\n",
    "    print(i)"
   ]
  },
  {
   "cell_type": "code",
   "execution_count": 43,
   "id": "fd84ff05",
   "metadata": {},
   "outputs": [
    {
     "name": "stdout",
     "output_type": "stream",
     "text": [
      "['Ironman', 'Hulk', 'Thor']\n",
      "['Ironman', 'Hulk', 'Thor', 'Capt. America']\n",
      "('Ironman', 'Thor', 'Capt. America')\n",
      "<class 'tuple'>\n"
     ]
    }
   ],
   "source": [
    "a = (\"Ironman\",\"Hulk\",\"Thor\")\n",
    "\n",
    "a = list(a)\n",
    "print(a)\n",
    "a.append('Capt. America')\n",
    "print(a)\n",
    "a.remove(\"Hulk\")\n",
    "\n",
    "a = tuple(a)\n",
    "print(a)\n",
    "print(type(a))\n"
   ]
  }
 ],
 "metadata": {
  "kernelspec": {
   "display_name": "Python 3 (ipykernel)",
   "language": "python",
   "name": "python3"
  },
  "language_info": {
   "codemirror_mode": {
    "name": "ipython",
    "version": 3
   },
   "file_extension": ".py",
   "mimetype": "text/x-python",
   "name": "python",
   "nbconvert_exporter": "python",
   "pygments_lexer": "ipython3",
   "version": "3.11.2"
  }
 },
 "nbformat": 4,
 "nbformat_minor": 5
}
