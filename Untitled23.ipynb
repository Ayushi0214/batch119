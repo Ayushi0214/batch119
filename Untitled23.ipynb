{
 "cells": [
  {
   "cell_type": "markdown",
   "id": "6e704450",
   "metadata": {},
   "source": [
    "# Dictionary"
   ]
  },
  {
   "cell_type": "code",
   "execution_count": 10,
   "id": "ed32b3c4",
   "metadata": {},
   "outputs": [
    {
     "name": "stdout",
     "output_type": "stream",
     "text": [
      "8\n",
      "{'name': 'Hussain', 'gender': 'male', 'grade': 9, 'house': 'red'}\n",
      "name - Hussain\n",
      "gender - male\n",
      "grade - 9\n",
      "house - red\n",
      "name\n",
      "gender\n",
      "grade\n",
      "house\n",
      "Hussain\n",
      "male\n",
      "9\n",
      "red\n"
     ]
    }
   ],
   "source": [
    "school = {\"name\":\"Hussain\",\"gender\":\"male\",\"grade\":8}\n",
    "print(school[\"grade\"])\n",
    "school[\"grade\"] = 9\n",
    "school[\"house\"] = \"red\"\n",
    "print(school)\n",
    "\n",
    "for i, j in school.items():\n",
    "    print(i,\"-\",j)\n",
    "    \n",
    "for i in school.keys():\n",
    "    print(i)\n",
    "    \n",
    "for i in school.values():\n",
    "    print(i)\n",
    "\n"
   ]
  },
  {
   "cell_type": "code",
   "execution_count": 15,
   "id": "f9bbd605",
   "metadata": {},
   "outputs": [
    {
     "name": "stdout",
     "output_type": "stream",
     "text": [
      "{'Name': ('hussain', 'rohit', 'divya', 'pragya'), 'grade': ('8th', '9th', '11th', '10th')}\n",
      "{'grade': ('8th', '9th', '11th', '10th')}\n"
     ]
    }
   ],
   "source": [
    "school = {\"Name\":(\"hussain\",\"rohit\",\"divya\",\"pragya\"),\n",
    "         \"grade\":(\"8th\",\"9th\",\"11th\",\"10th\")}\n",
    "print(school)\n",
    "\n",
    "del school[\"Name\"]\n",
    "print(school)"
   ]
  },
  {
   "cell_type": "code",
   "execution_count": null,
   "id": "a6a982cf",
   "metadata": {},
   "outputs": [],
   "source": [
    "#Module / Library\n",
    "#single python file / many modules\n",
    "\n",
    "#module k examples\n",
    "import random \n",
    "import math\n",
    "import time\n",
    "\n",
    "#library k examples\n",
    "import numpy as np #for mathematical, statistical and scientific calculation\n",
    "import pandas as pd #for data cleaning and manipulation\n",
    "import matplotlib #core library it is used to plot charts\n",
    "import seaborn #it is based on matplotlib, better looking charts\n",
    "\n",
    "#numpy stands for numerical python\n",
    "#pandas stands for panel data \n"
   ]
  },
  {
   "cell_type": "markdown",
   "id": "15fc8b45",
   "metadata": {},
   "source": [
    "# Numpy"
   ]
  },
  {
   "cell_type": "code",
   "execution_count": 27,
   "id": "407deb86",
   "metadata": {},
   "outputs": [
    {
     "name": "stdout",
     "output_type": "stream",
     "text": [
      "1\n",
      "2\n",
      "2\n",
      "3\n",
      "(0, 0) 1\n",
      "(0, 1) 2\n",
      "(1, 0) 2\n",
      "(1, 1) 3\n"
     ]
    }
   ],
   "source": [
    "#Arrays:\n",
    "#inko rakha jata hai in []\n",
    "#ye \",\" separated nahi hote h \n",
    "#inme similar datatype hi jata hai (mandatory)\n",
    "#direct mathematical operations aap perform kar skte ho. \n",
    "\n",
    "import numpy as np\n",
    "a = np.array([1,2,3,4]) #single [] represents 1 dimension\n",
    "# print(type(a))\n",
    "\n",
    "b = np.array([[1,2],[2,3]]) #double [] represents 2 dimensions\n",
    "# print(b)\n",
    "\n",
    "# print(a[2])\n",
    "# print(b[1][1])\n",
    "\n",
    "for i in np.nditer(b):\n",
    "    print(i)\n",
    "    \n",
    "for i,j in np.ndenumerate(b):\n",
    "    print(i,j)\n"
   ]
  },
  {
   "cell_type": "code",
   "execution_count": 29,
   "id": "2c05a519",
   "metadata": {},
   "outputs": [
    {
     "name": "stdout",
     "output_type": "stream",
     "text": [
      "[[3 5]\n",
      " [7 9]]\n"
     ]
    }
   ],
   "source": [
    "a = np.array([[1,2],[3,4]])\n",
    "b = np.array([[2,3],[4,5]])\n",
    "print(a+b)"
   ]
  },
  {
   "cell_type": "code",
   "execution_count": 37,
   "id": "3817e510",
   "metadata": {},
   "outputs": [
    {
     "name": "stdout",
     "output_type": "stream",
     "text": [
      "[1 3 5 7 2 5 9]\n",
      "32\n",
      "1\n",
      "9\n",
      "[ 1  4  9 16 18 23 32]\n",
      "4.571428571428571\n",
      "5.0\n"
     ]
    }
   ],
   "source": [
    "#Aggregate functions\n",
    "a = np.array([1,3,5,7,2,5,9])\n",
    "print(a)\n",
    "print(a.sum())\n",
    "print(a.min())\n",
    "print(a.max())\n",
    "print(a.cumsum())\n",
    "print(a.mean()) #Average #sum of all the values divided by total number of values\n",
    "print(np.median(a)) \n",
    "#to find median \n",
    "#sort all the values\n",
    "#if number of values =  odd (central element is median)\n",
    "#if number of values = even()"
   ]
  },
  {
   "cell_type": "code",
   "execution_count": 39,
   "id": "f9d8d455",
   "metadata": {},
   "outputs": [
    {
     "name": "stdout",
     "output_type": "stream",
     "text": [
      "2\n"
     ]
    }
   ],
   "source": [
    "import statistics as stats\n",
    "a = np.array([1,3,5,7,2,5,9,2,2])\n",
    "print(stats.mode(a))\n"
   ]
  },
  {
   "cell_type": "code",
   "execution_count": 58,
   "id": "dd2e1cd6",
   "metadata": {},
   "outputs": [
    {
     "name": "stdout",
     "output_type": "stream",
     "text": [
      "[[1 2]\n",
      " [6 7]\n",
      " [3 4]]\n"
     ]
    }
   ],
   "source": [
    "#Adding and removing elements\n",
    "#append\n",
    "a = np.array([[1,2],[3,4]])\n",
    "# a = np.append(a,[6,7])\n",
    "# print(a)\n",
    "\n",
    "#insert\n",
    "a = np.insert(a,1,[6,7], axis = 0)\n",
    "print(a)\n",
    "\n",
    "# #delete\n",
    "# a = np.delete(a,[2])\n",
    "# print(a)\n"
   ]
  }
 ],
 "metadata": {
  "kernelspec": {
   "display_name": "Python 3 (ipykernel)",
   "language": "python",
   "name": "python3"
  },
  "language_info": {
   "codemirror_mode": {
    "name": "ipython",
    "version": 3
   },
   "file_extension": ".py",
   "mimetype": "text/x-python",
   "name": "python",
   "nbconvert_exporter": "python",
   "pygments_lexer": "ipython3",
   "version": "3.11.3"
  }
 },
 "nbformat": 4,
 "nbformat_minor": 5
}
