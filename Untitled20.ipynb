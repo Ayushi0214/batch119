{
 "cells": [
  {
   "cell_type": "code",
   "execution_count": 10,
   "id": "fb1e2fa8",
   "metadata": {},
   "outputs": [
    {
     "name": "stdout",
     "output_type": "stream",
     "text": [
      "[[   2    5    3    5    6    8    4]\n",
      " [ 240 1500  120  150 1200  480  320]]\n"
     ]
    }
   ],
   "source": [
    "import numpy as np\n",
    "\n",
    "quantity = np.array([2,5,3,5,6,8,4])\n",
    "each_price = np.array([120,300,40,30,200,60,80])\n",
    "\n",
    "print(np.cumprod((quantity,each_price), axis = 0)) #cumsum #cumprod\n",
    "\n"
   ]
  },
  {
   "cell_type": "code",
   "execution_count": 16,
   "id": "7cde410b",
   "metadata": {},
   "outputs": [
    {
     "name": "stdout",
     "output_type": "stream",
     "text": [
      "nan\n",
      "3.5\n",
      "nan\n",
      "3.5\n"
     ]
    }
   ],
   "source": [
    "import numpy as np\n",
    "\n",
    "arr = np.array([3,4,np.nan,np.nan,np.nan]) #np.nan (not a number) \n",
    "print(np.mean(arr))\n",
    "print(np.nanmean(arr))\n",
    "print(np.median(arr))\n",
    "print(np.nanmedian(arr))"
   ]
  },
  {
   "cell_type": "code",
   "execution_count": 20,
   "id": "d0f7c66c",
   "metadata": {},
   "outputs": [
    {
     "name": "stdout",
     "output_type": "stream",
     "text": [
      "[3 7 4 5 6 8]\n"
     ]
    }
   ],
   "source": [
    "import numpy as np\n",
    "\n",
    "arr = np.array([3,4,5,6])\n",
    "arr = np.insert(arr,(1,4),(7,8))\n",
    "print(arr)"
   ]
  },
  {
   "cell_type": "code",
   "execution_count": 26,
   "id": "c1e50e6b",
   "metadata": {},
   "outputs": [
    {
     "name": "stdout",
     "output_type": "stream",
     "text": [
      "[[2 3]\n",
      " [4 5]\n",
      " [6 7]]\n"
     ]
    }
   ],
   "source": [
    "import numpy as np\n",
    "\n",
    "arr = np.array([[2,3],[4,5]])\n",
    "arr = np.insert(arr, 2, [6,7], axis = 0)\n",
    "print(arr)\n"
   ]
  },
  {
   "cell_type": "code",
   "execution_count": null,
   "id": "36962a69",
   "metadata": {},
   "outputs": [],
   "source": []
  },
  {
   "cell_type": "code",
   "execution_count": 27,
   "id": "7191952d",
   "metadata": {},
   "outputs": [
    {
     "name": "stdout",
     "output_type": "stream",
     "text": [
      "[3 4 5]\n"
     ]
    }
   ],
   "source": [
    "import numpy as np\n",
    "arr = np.array([3,4,5,6])\n",
    "arr = np.delete(arr,3)\n",
    "print(arr)"
   ]
  },
  {
   "cell_type": "code",
   "execution_count": 30,
   "id": "21248e80",
   "metadata": {},
   "outputs": [
    {
     "name": "stdout",
     "output_type": "stream",
     "text": [
      "[[2]\n",
      " [4]]\n"
     ]
    }
   ],
   "source": [
    "import numpy as np\n",
    "\n",
    "arr = np.array([[2,3],[4,5]])\n",
    "arr = np.delete(arr, 1, axis = 1)\n",
    "print(arr)"
   ]
  },
  {
   "cell_type": "code",
   "execution_count": 36,
   "id": "dcfb3eab",
   "metadata": {},
   "outputs": [
    {
     "name": "stdout",
     "output_type": "stream",
     "text": [
      "[[2 3]\n",
      " [3 4]\n",
      " [5 6]\n",
      " [7 8]]\n"
     ]
    }
   ],
   "source": [
    "import numpy as np\n",
    "\n",
    "arr = np.array([[2,3],[3,4]])\n",
    "arr1 = np.array([[5,6],[7,8]])\n",
    "print(np.concatenate([arr,arr1], axis = 0))"
   ]
  },
  {
   "cell_type": "code",
   "execution_count": 41,
   "id": "cff24dc7",
   "metadata": {},
   "outputs": [
    {
     "name": "stdout",
     "output_type": "stream",
     "text": [
      "74.0\n",
      "60\n",
      "400.0\n"
     ]
    }
   ],
   "source": [
    "#descriptive\n",
    "#central tendency = mean mode median \n",
    "#data dispersion = range (ptp), variance, std deviation, coeff of variance, coeff of corelation\n",
    "#percentile\n",
    "\n",
    "import numpy as np \n",
    "\n",
    "grade = [20,30,40,50,60,70,80]\n",
    "\n",
    "print(np.percentile(grade, 90))\n",
    "print(np.ptp(grade)) #peak to peak\n",
    "print(np.var(grade))"
   ]
  },
  {
   "cell_type": "code",
   "execution_count": null,
   "id": "f62d5941",
   "metadata": {},
   "outputs": [],
   "source": []
  },
  {
   "cell_type": "code",
   "execution_count": 47,
   "id": "5a9235db",
   "metadata": {},
   "outputs": [
    {
     "name": "stdout",
     "output_type": "stream",
     "text": [
      "115.734375\n",
      "0.984375\n",
      "10.757991215835789\n",
      "0.9921567416492215\n"
     ]
    }
   ],
   "source": [
    "import numpy as np\n",
    "\n",
    "city1 = np.array([30,21,26,10,35,20,40,45])\n",
    "city2 = np.array([25,26,27,26,27,25,27,28])\n",
    "print(np.var(city1))\n",
    "print(np.var(city2))\n",
    "\n",
    "print(np.std(city1))\n",
    "print(np.std(city2))"
   ]
  },
  {
   "cell_type": "code",
   "execution_count": 50,
   "id": "7adf2f1c",
   "metadata": {},
   "outputs": [
    {
     "ename": "ValueError",
     "evalue": "could not convert string '' to float64 at row 0, column 3.",
     "output_type": "error",
     "traceback": [
      "\u001b[1;31m---------------------------------------------------------------------------\u001b[0m",
      "\u001b[1;31mValueError\u001b[0m                                Traceback (most recent call last)",
      "Cell \u001b[1;32mIn[50], line 3\u001b[0m\n\u001b[0;32m      1\u001b[0m \u001b[38;5;28;01mimport\u001b[39;00m \u001b[38;5;21;01mnumpy\u001b[39;00m \u001b[38;5;28;01mas\u001b[39;00m \u001b[38;5;21;01mnp\u001b[39;00m\n\u001b[1;32m----> 3\u001b[0m data \u001b[38;5;241m=\u001b[39m \u001b[43mnp\u001b[49m\u001b[38;5;241;43m.\u001b[39;49m\u001b[43mloadtxt\u001b[49m\u001b[43m(\u001b[49m\u001b[38;5;124;43m\"\u001b[39;49m\u001b[38;5;124;43mfood_data.csv\u001b[39;49m\u001b[38;5;124;43m\"\u001b[39;49m\u001b[43m,\u001b[49m\u001b[43mdelimiter\u001b[49m\u001b[43m \u001b[49m\u001b[38;5;241;43m=\u001b[39;49m\u001b[43m \u001b[49m\u001b[38;5;124;43m\"\u001b[39;49m\u001b[38;5;124;43m,\u001b[39;49m\u001b[38;5;124;43m\"\u001b[39;49m\u001b[43m,\u001b[49m\u001b[43m \u001b[49m\u001b[43mskiprows\u001b[49m\u001b[43m \u001b[49m\u001b[38;5;241;43m=\u001b[39;49m\u001b[43m \u001b[49m\u001b[38;5;241;43m1\u001b[39;49m\u001b[43m)\u001b[49m\n\u001b[0;32m      4\u001b[0m \u001b[38;5;28mprint\u001b[39m(data)\n",
      "File \u001b[1;32m~\\AppData\\Local\\Programs\\Python\\Python311\\Lib\\site-packages\\numpy\\lib\\npyio.py:1356\u001b[0m, in \u001b[0;36mloadtxt\u001b[1;34m(fname, dtype, comments, delimiter, converters, skiprows, usecols, unpack, ndmin, encoding, max_rows, quotechar, like)\u001b[0m\n\u001b[0;32m   1353\u001b[0m \u001b[38;5;28;01mif\u001b[39;00m \u001b[38;5;28misinstance\u001b[39m(delimiter, \u001b[38;5;28mbytes\u001b[39m):\n\u001b[0;32m   1354\u001b[0m     delimiter \u001b[38;5;241m=\u001b[39m delimiter\u001b[38;5;241m.\u001b[39mdecode(\u001b[38;5;124m'\u001b[39m\u001b[38;5;124mlatin1\u001b[39m\u001b[38;5;124m'\u001b[39m)\n\u001b[1;32m-> 1356\u001b[0m arr \u001b[38;5;241m=\u001b[39m \u001b[43m_read\u001b[49m\u001b[43m(\u001b[49m\u001b[43mfname\u001b[49m\u001b[43m,\u001b[49m\u001b[43m \u001b[49m\u001b[43mdtype\u001b[49m\u001b[38;5;241;43m=\u001b[39;49m\u001b[43mdtype\u001b[49m\u001b[43m,\u001b[49m\u001b[43m \u001b[49m\u001b[43mcomment\u001b[49m\u001b[38;5;241;43m=\u001b[39;49m\u001b[43mcomment\u001b[49m\u001b[43m,\u001b[49m\u001b[43m \u001b[49m\u001b[43mdelimiter\u001b[49m\u001b[38;5;241;43m=\u001b[39;49m\u001b[43mdelimiter\u001b[49m\u001b[43m,\u001b[49m\n\u001b[0;32m   1357\u001b[0m \u001b[43m            \u001b[49m\u001b[43mconverters\u001b[49m\u001b[38;5;241;43m=\u001b[39;49m\u001b[43mconverters\u001b[49m\u001b[43m,\u001b[49m\u001b[43m \u001b[49m\u001b[43mskiplines\u001b[49m\u001b[38;5;241;43m=\u001b[39;49m\u001b[43mskiprows\u001b[49m\u001b[43m,\u001b[49m\u001b[43m \u001b[49m\u001b[43musecols\u001b[49m\u001b[38;5;241;43m=\u001b[39;49m\u001b[43musecols\u001b[49m\u001b[43m,\u001b[49m\n\u001b[0;32m   1358\u001b[0m \u001b[43m            \u001b[49m\u001b[43munpack\u001b[49m\u001b[38;5;241;43m=\u001b[39;49m\u001b[43munpack\u001b[49m\u001b[43m,\u001b[49m\u001b[43m \u001b[49m\u001b[43mndmin\u001b[49m\u001b[38;5;241;43m=\u001b[39;49m\u001b[43mndmin\u001b[49m\u001b[43m,\u001b[49m\u001b[43m \u001b[49m\u001b[43mencoding\u001b[49m\u001b[38;5;241;43m=\u001b[39;49m\u001b[43mencoding\u001b[49m\u001b[43m,\u001b[49m\n\u001b[0;32m   1359\u001b[0m \u001b[43m            \u001b[49m\u001b[43mmax_rows\u001b[49m\u001b[38;5;241;43m=\u001b[39;49m\u001b[43mmax_rows\u001b[49m\u001b[43m,\u001b[49m\u001b[43m \u001b[49m\u001b[43mquote\u001b[49m\u001b[38;5;241;43m=\u001b[39;49m\u001b[43mquotechar\u001b[49m\u001b[43m)\u001b[49m\n\u001b[0;32m   1361\u001b[0m \u001b[38;5;28;01mreturn\u001b[39;00m arr\n",
      "File \u001b[1;32m~\\AppData\\Local\\Programs\\Python\\Python311\\Lib\\site-packages\\numpy\\lib\\npyio.py:999\u001b[0m, in \u001b[0;36m_read\u001b[1;34m(fname, delimiter, comment, quote, imaginary_unit, usecols, skiplines, max_rows, converters, ndmin, unpack, dtype, encoding)\u001b[0m\n\u001b[0;32m    996\u001b[0m     data \u001b[38;5;241m=\u001b[39m _preprocess_comments(data, comments, encoding)\n\u001b[0;32m    998\u001b[0m \u001b[38;5;28;01mif\u001b[39;00m read_dtype_via_object_chunks \u001b[38;5;129;01mis\u001b[39;00m \u001b[38;5;28;01mNone\u001b[39;00m:\n\u001b[1;32m--> 999\u001b[0m     arr \u001b[38;5;241m=\u001b[39m \u001b[43m_load_from_filelike\u001b[49m\u001b[43m(\u001b[49m\n\u001b[0;32m   1000\u001b[0m \u001b[43m        \u001b[49m\u001b[43mdata\u001b[49m\u001b[43m,\u001b[49m\u001b[43m \u001b[49m\u001b[43mdelimiter\u001b[49m\u001b[38;5;241;43m=\u001b[39;49m\u001b[43mdelimiter\u001b[49m\u001b[43m,\u001b[49m\u001b[43m \u001b[49m\u001b[43mcomment\u001b[49m\u001b[38;5;241;43m=\u001b[39;49m\u001b[43mcomment\u001b[49m\u001b[43m,\u001b[49m\u001b[43m \u001b[49m\u001b[43mquote\u001b[49m\u001b[38;5;241;43m=\u001b[39;49m\u001b[43mquote\u001b[49m\u001b[43m,\u001b[49m\n\u001b[0;32m   1001\u001b[0m \u001b[43m        \u001b[49m\u001b[43mimaginary_unit\u001b[49m\u001b[38;5;241;43m=\u001b[39;49m\u001b[43mimaginary_unit\u001b[49m\u001b[43m,\u001b[49m\n\u001b[0;32m   1002\u001b[0m \u001b[43m        \u001b[49m\u001b[43musecols\u001b[49m\u001b[38;5;241;43m=\u001b[39;49m\u001b[43musecols\u001b[49m\u001b[43m,\u001b[49m\u001b[43m \u001b[49m\u001b[43mskiplines\u001b[49m\u001b[38;5;241;43m=\u001b[39;49m\u001b[43mskiplines\u001b[49m\u001b[43m,\u001b[49m\u001b[43m \u001b[49m\u001b[43mmax_rows\u001b[49m\u001b[38;5;241;43m=\u001b[39;49m\u001b[43mmax_rows\u001b[49m\u001b[43m,\u001b[49m\n\u001b[0;32m   1003\u001b[0m \u001b[43m        \u001b[49m\u001b[43mconverters\u001b[49m\u001b[38;5;241;43m=\u001b[39;49m\u001b[43mconverters\u001b[49m\u001b[43m,\u001b[49m\u001b[43m \u001b[49m\u001b[43mdtype\u001b[49m\u001b[38;5;241;43m=\u001b[39;49m\u001b[43mdtype\u001b[49m\u001b[43m,\u001b[49m\n\u001b[0;32m   1004\u001b[0m \u001b[43m        \u001b[49m\u001b[43mencoding\u001b[49m\u001b[38;5;241;43m=\u001b[39;49m\u001b[43mencoding\u001b[49m\u001b[43m,\u001b[49m\u001b[43m \u001b[49m\u001b[43mfilelike\u001b[49m\u001b[38;5;241;43m=\u001b[39;49m\u001b[43mfilelike\u001b[49m\u001b[43m,\u001b[49m\n\u001b[0;32m   1005\u001b[0m \u001b[43m        \u001b[49m\u001b[43mbyte_converters\u001b[49m\u001b[38;5;241;43m=\u001b[39;49m\u001b[43mbyte_converters\u001b[49m\u001b[43m)\u001b[49m\n\u001b[0;32m   1007\u001b[0m \u001b[38;5;28;01melse\u001b[39;00m:\n\u001b[0;32m   1008\u001b[0m     \u001b[38;5;66;03m# This branch reads the file into chunks of object arrays and then\u001b[39;00m\n\u001b[0;32m   1009\u001b[0m     \u001b[38;5;66;03m# casts them to the desired actual dtype.  This ensures correct\u001b[39;00m\n\u001b[0;32m   1010\u001b[0m     \u001b[38;5;66;03m# string-length and datetime-unit discovery (like `arr.astype()`).\u001b[39;00m\n\u001b[0;32m   1011\u001b[0m     \u001b[38;5;66;03m# Due to chunking, certain error reports are less clear, currently.\u001b[39;00m\n\u001b[0;32m   1012\u001b[0m     \u001b[38;5;28;01mif\u001b[39;00m filelike:\n",
      "\u001b[1;31mValueError\u001b[0m: could not convert string '' to float64 at row 0, column 3."
     ]
    }
   ],
   "source": [
    "import numpy as np\n",
    "\n",
    "data = np.loadtxt(\"food_data.csv\",delimiter = \",\", skiprows = 1)\n",
    "print(data)"
   ]
  },
  {
   "cell_type": "code",
   "execution_count": 52,
   "id": "a7fe6861",
   "metadata": {},
   "outputs": [
    {
     "name": "stdout",
     "output_type": "stream",
     "text": [
      "welcom to National Library Manegement System\n",
      "Enter employee_name: pranjali\n",
      "Enter password: pranjali123\n",
      "Authentication successful\n",
      "1. Add new subject\n",
      "2. Add new books\n",
      "3. Remove books\n",
      "4. Display library\n",
      "5. Borrow books\n",
      "6. borrower details\n",
      "7. return books\n",
      "8. Exit\n",
      "Enter choice: 4\n",
      "Library Status:\n",
      "maths: 5 books\n",
      "chemistry: 5 books\n",
      "hindi: 5 books\n",
      "1. Add new subject\n",
      "2. Add new books\n",
      "3. Remove books\n",
      "4. Display library\n",
      "5. Borrow books\n",
      "6. borrower details\n",
      "7. return books\n",
      "8. Exit\n",
      "Enter choice: 1\n",
      "Enter new subject: science\n",
      "New Subject added successfully\n",
      "1. Add new subject\n",
      "2. Add new books\n",
      "3. Remove books\n",
      "4. Display library\n",
      "5. Borrow books\n",
      "6. borrower details\n",
      "7. return books\n",
      "8. Exit\n",
      "Enter choice: 2\n",
      "Enter subject: science\n",
      "Enter number of books to add: 5\n",
      "Books added successfully\n",
      "1. Add new subject\n",
      "2. Add new books\n",
      "3. Remove books\n",
      "4. Display library\n",
      "5. Borrow books\n",
      "6. borrower details\n",
      "7. return books\n",
      "8. Exit\n",
      "Enter choice: 4\n",
      "Library Status:\n",
      "maths: 5 books\n",
      "chemistry: 5 books\n",
      "hindi: 5 books\n",
      "science: 5 books\n",
      "1. Add new subject\n",
      "2. Add new books\n",
      "3. Remove books\n",
      "4. Display library\n",
      "5. Borrow books\n",
      "6. borrower details\n",
      "7. return books\n",
      "8. Exit\n",
      "Enter choice: 5\n",
      "Enter subject: science\n",
      "Enter number of books to borrow: 3\n",
      "Enter borrower name: Ayushi\n",
      "Enter borrower phone number: 923727346\n",
      "Enter date of issue (DD-MM-YYYY): 19-04-2023\n",
      "Books borrowed successfully\n",
      "Remaining books in science: 2\n",
      "1. Add new subject\n",
      "2. Add new books\n",
      "3. Remove books\n",
      "4. Display library\n",
      "5. Borrow books\n",
      "6. borrower details\n",
      "7. return books\n",
      "8. Exit\n",
      "Enter choice: 6\n",
      "Ayushi borrowed science on 19-04-2023. Phone number: 923727346\n",
      "1. Add new subject\n",
      "2. Add new books\n",
      "3. Remove books\n",
      "4. Display library\n",
      "5. Borrow books\n",
      "6. borrower details\n",
      "7. return books\n",
      "8. Exit\n",
      "Enter choice: 5\n",
      "Enter subject: pranjali\n",
      "Subject does not exist\n",
      "1. Add new subject\n",
      "2. Add new books\n",
      "3. Remove books\n",
      "4. Display library\n",
      "5. Borrow books\n",
      "6. borrower details\n",
      "7. return books\n",
      "8. Exit\n",
      "Enter choice: 5\n",
      "Enter subject: maths\n",
      "Enter number of books to borrow: 2\n",
      "Enter borrower name: pranjali\n",
      "Enter borrower phone number: 38747846\n",
      "Enter date of issue (DD-MM-YYYY): 19-04-2023\n",
      "Books borrowed successfully\n",
      "Remaining books in maths: 3\n",
      "1. Add new subject\n",
      "2. Add new books\n",
      "3. Remove books\n",
      "4. Display library\n",
      "5. Borrow books\n",
      "6. borrower details\n",
      "7. return books\n",
      "8. Exit\n",
      "Enter choice: 6\n",
      "Ayushi borrowed science on 19-04-2023. Phone number: 923727346\n",
      "pranjali borrowed maths on 19-04-2023. Phone number: 38747846\n",
      "1. Add new subject\n",
      "2. Add new books\n",
      "3. Remove books\n",
      "4. Display library\n",
      "5. Borrow books\n",
      "6. borrower details\n",
      "7. return books\n",
      "8. Exit\n"
     ]
    },
    {
     "ename": "KeyboardInterrupt",
     "evalue": "Interrupted by user",
     "output_type": "error",
     "traceback": [
      "\u001b[1;31m---------------------------------------------------------------------------\u001b[0m",
      "\u001b[1;31mKeyboardInterrupt\u001b[0m                         Traceback (most recent call last)",
      "Cell \u001b[1;32mIn[52], line 117\u001b[0m\n\u001b[0;32m    115\u001b[0m \u001b[38;5;28mprint\u001b[39m(\u001b[38;5;124m\"\u001b[39m\u001b[38;5;124m7. return books\u001b[39m\u001b[38;5;124m\"\u001b[39m)\n\u001b[0;32m    116\u001b[0m \u001b[38;5;28mprint\u001b[39m(\u001b[38;5;124m\"\u001b[39m\u001b[38;5;124m8. Exit\u001b[39m\u001b[38;5;124m\"\u001b[39m)\n\u001b[1;32m--> 117\u001b[0m choice \u001b[38;5;241m=\u001b[39m \u001b[38;5;28mint\u001b[39m(\u001b[38;5;28;43minput\u001b[39;49m\u001b[43m(\u001b[49m\u001b[38;5;124;43m\"\u001b[39;49m\u001b[38;5;124;43mEnter choice: \u001b[39;49m\u001b[38;5;124;43m\"\u001b[39;49m\u001b[43m)\u001b[49m)\n\u001b[0;32m    118\u001b[0m \u001b[38;5;28;01mif\u001b[39;00m choice \u001b[38;5;241m==\u001b[39m \u001b[38;5;241m1\u001b[39m:\n\u001b[0;32m    119\u001b[0m     add_subject()\n",
      "File \u001b[1;32m~\\AppData\\Local\\Programs\\Python\\Python311\\Lib\\site-packages\\ipykernel\\kernelbase.py:1191\u001b[0m, in \u001b[0;36mKernel.raw_input\u001b[1;34m(self, prompt)\u001b[0m\n\u001b[0;32m   1189\u001b[0m     msg \u001b[38;5;241m=\u001b[39m \u001b[38;5;124m\"\u001b[39m\u001b[38;5;124mraw_input was called, but this frontend does not support input requests.\u001b[39m\u001b[38;5;124m\"\u001b[39m\n\u001b[0;32m   1190\u001b[0m     \u001b[38;5;28;01mraise\u001b[39;00m StdinNotImplementedError(msg)\n\u001b[1;32m-> 1191\u001b[0m \u001b[38;5;28;01mreturn\u001b[39;00m \u001b[38;5;28;43mself\u001b[39;49m\u001b[38;5;241;43m.\u001b[39;49m\u001b[43m_input_request\u001b[49m\u001b[43m(\u001b[49m\n\u001b[0;32m   1192\u001b[0m \u001b[43m    \u001b[49m\u001b[38;5;28;43mstr\u001b[39;49m\u001b[43m(\u001b[49m\u001b[43mprompt\u001b[49m\u001b[43m)\u001b[49m\u001b[43m,\u001b[49m\n\u001b[0;32m   1193\u001b[0m \u001b[43m    \u001b[49m\u001b[38;5;28;43mself\u001b[39;49m\u001b[38;5;241;43m.\u001b[39;49m\u001b[43m_parent_ident\u001b[49m\u001b[43m[\u001b[49m\u001b[38;5;124;43m\"\u001b[39;49m\u001b[38;5;124;43mshell\u001b[39;49m\u001b[38;5;124;43m\"\u001b[39;49m\u001b[43m]\u001b[49m\u001b[43m,\u001b[49m\n\u001b[0;32m   1194\u001b[0m \u001b[43m    \u001b[49m\u001b[38;5;28;43mself\u001b[39;49m\u001b[38;5;241;43m.\u001b[39;49m\u001b[43mget_parent\u001b[49m\u001b[43m(\u001b[49m\u001b[38;5;124;43m\"\u001b[39;49m\u001b[38;5;124;43mshell\u001b[39;49m\u001b[38;5;124;43m\"\u001b[39;49m\u001b[43m)\u001b[49m\u001b[43m,\u001b[49m\n\u001b[0;32m   1195\u001b[0m \u001b[43m    \u001b[49m\u001b[43mpassword\u001b[49m\u001b[38;5;241;43m=\u001b[39;49m\u001b[38;5;28;43;01mFalse\u001b[39;49;00m\u001b[43m,\u001b[49m\n\u001b[0;32m   1196\u001b[0m \u001b[43m\u001b[49m\u001b[43m)\u001b[49m\n",
      "File \u001b[1;32m~\\AppData\\Local\\Programs\\Python\\Python311\\Lib\\site-packages\\ipykernel\\kernelbase.py:1234\u001b[0m, in \u001b[0;36mKernel._input_request\u001b[1;34m(self, prompt, ident, parent, password)\u001b[0m\n\u001b[0;32m   1231\u001b[0m \u001b[38;5;28;01mexcept\u001b[39;00m \u001b[38;5;167;01mKeyboardInterrupt\u001b[39;00m:\n\u001b[0;32m   1232\u001b[0m     \u001b[38;5;66;03m# re-raise KeyboardInterrupt, to truncate traceback\u001b[39;00m\n\u001b[0;32m   1233\u001b[0m     msg \u001b[38;5;241m=\u001b[39m \u001b[38;5;124m\"\u001b[39m\u001b[38;5;124mInterrupted by user\u001b[39m\u001b[38;5;124m\"\u001b[39m\n\u001b[1;32m-> 1234\u001b[0m     \u001b[38;5;28;01mraise\u001b[39;00m \u001b[38;5;167;01mKeyboardInterrupt\u001b[39;00m(msg) \u001b[38;5;28;01mfrom\u001b[39;00m \u001b[38;5;28mNone\u001b[39m\n\u001b[0;32m   1235\u001b[0m \u001b[38;5;28;01mexcept\u001b[39;00m \u001b[38;5;167;01mException\u001b[39;00m:\n\u001b[0;32m   1236\u001b[0m     \u001b[38;5;28mself\u001b[39m\u001b[38;5;241m.\u001b[39mlog\u001b[38;5;241m.\u001b[39mwarning(\u001b[38;5;124m\"\u001b[39m\u001b[38;5;124mInvalid Message:\u001b[39m\u001b[38;5;124m\"\u001b[39m, exc_info\u001b[38;5;241m=\u001b[39m\u001b[38;5;28;01mTrue\u001b[39;00m)\n",
      "\u001b[1;31mKeyboardInterrupt\u001b[0m: Interrupted by user"
     ]
    }
   ],
   "source": [
    "print(\"welcom to National Library Manegement System\")\n",
    "username = \"pranjali\"\n",
    "password = \"pranjali123\"\n",
    "\n",
    "\n",
    "\n",
    "\n",
    "def login():\n",
    "    while True:\n",
    "        u = input(\"Enter employee_name: \")\n",
    "        p = input(\"Enter password: \")\n",
    "        if u == username and p == password:\n",
    "            break\n",
    "        else:\n",
    "            print(\"Invalid credentials\")\n",
    "\n",
    "    print(\"Authentication successful\")\n",
    "\n",
    "\n",
    "login()\n",
    "\n",
    "\n",
    "library = {\n",
    "    \"maths\": 5,\n",
    "    \"chemistry\": 5,\n",
    "    \"hindi\": 5\n",
    "}\n",
    "\n",
    "borrowers = {}\n",
    "\n",
    "def add_subject():\n",
    "    subject = input(\"Enter new subject: \").lower()\n",
    "    if subject in library:\n",
    "        print(\"Subject already exists\")\n",
    "    else:\n",
    "        library[subject] = 0\n",
    "        print(\"New Subject added successfully\")\n",
    "def add_books():\n",
    "    subject = input(\"Enter subject: \").lower()\n",
    "    if subject not in library:\n",
    "        print(\" This Subject does not exist\")\n",
    "    else:\n",
    "        books = int(input(\"Enter number of books to add: \"))\n",
    "        library[subject] += books\n",
    "        print(\"Books added successfully\")\n",
    "\n",
    "\n",
    "def remove_books():\n",
    "    subject = input(\"Enter subject: \").lower()\n",
    "    if subject not in library:\n",
    "        print(\"Subject does not exist\")\n",
    "    else:\n",
    "        books = int(input(\"Enter number of books to remove: \"))\n",
    "        if books > library[subject]:\n",
    "            print(\"No books left\")\n",
    "        else:\n",
    "            library[subject] -= books\n",
    "            print(\"Books removed successfully\")\n",
    "\n",
    "\n",
    "\n",
    "def display_books():\n",
    "    print(\"Library Status:\")\n",
    "    for subject, books in library.items():\n",
    "        print(f\"{subject}: {books} books\")\n",
    "\n",
    "\n",
    "\n",
    "def borrow_books():\n",
    "    subject = input(\"Enter subject: \").lower()\n",
    "    if subject not in library:\n",
    "        print(\"Subject does not exist\")\n",
    "    else:\n",
    "        books = int(input(\"Enter number of books to borrow: \"))\n",
    "        if books > library[subject]:\n",
    "            print(\"No books left\")\n",
    "        else:\n",
    "            name = input(\"Enter borrower name: \")\n",
    "            phone = input(\"Enter borrower phone number: \")\n",
    "            date = input(\"Enter date of issue (DD-MM-YYYY): \")\n",
    "            library[subject] -= books\n",
    "            borrowers[(name, subject, date)] = phone\n",
    "            print(\"Books borrowed successfully\")\n",
    "            print(f\"Remaining books in {subject}: {library[subject]}\")\n",
    "\n",
    "            \n",
    "def borrowers_details():\n",
    "    for borrower, phone in borrowers.items():\n",
    "        name, subject, date = borrower\n",
    "        print(f\"{name} borrowed {subject} on {date}. Phone number: {phone}\")\n",
    "        \n",
    "    \n",
    "    \n",
    "def return_books():\n",
    "    name = input(\"Enter borrower name: \").lower()\n",
    "    subject = input(\"Enter subject: \").lower()\n",
    "    date = input(\"Enter date of issue (DD-MM-YYYY): \")\n",
    "    borrower = (name, subject, date)\n",
    "    if borrower in borrowers:\n",
    "        books = int(input(\"Enter number of books to return: \"))\n",
    "        library[subject] += books\n",
    "        del borrowers[borrower]\n",
    "        print(\"Books returned successfully\")\n",
    "        print(f\"Remaining books in {subject}: {library[subject]}\")\n",
    "    else:\n",
    "        print(\"Borrower not found\")\n",
    "\n",
    "while True:\n",
    "    print(\"1. Add new subject\")\n",
    "    print(\"2. Add new books\")\n",
    "    print(\"3. Remove books\")\n",
    "    print(\"4. Display library\")\n",
    "    print(\"5. Borrow books\")\n",
    "    print(\"6. borrower details\")\n",
    "    print(\"7. return books\")\n",
    "    print(\"8. Exit\")\n",
    "    choice = int(input(\"Enter choice: \"))\n",
    "    if choice == 1:\n",
    "        add_subject()\n",
    "    elif choice == 2:\n",
    "        add_books()\n",
    "    elif choice == 3:\n",
    "        remove_books()\n",
    "    elif choice == 4:\n",
    "        display_books()\n",
    "    elif choice == 5:\n",
    "        borrow_books()\n",
    "    elif choice == 6:\n",
    "        borrowers_details()\n",
    "    elif choice == 7:\n",
    "        return_books()\n",
    "    elif choice == 8:\n",
    "        print(\"Exiting program\")\n",
    "        break\n",
    "    else:\n",
    "        print(\"Invalid choice\")"
   ]
  },
  {
   "cell_type": "code",
   "execution_count": 54,
   "id": "50622bb6",
   "metadata": {},
   "outputs": [
    {
     "name": "stdout",
     "output_type": "stream",
     "text": [
      "2023-04-19 19:30:41.125182\n"
     ]
    }
   ],
   "source": [
    "import datetime\n",
    "\n",
    "date = (datetime.datetime.now())\n",
    "print(date)\n"
   ]
  },
  {
   "cell_type": "code",
   "execution_count": 55,
   "id": "04d1f594",
   "metadata": {},
   "outputs": [
    {
     "name": "stdout",
     "output_type": "stream",
     "text": [
      "guess the riddle\n",
      "2. Remove the outside, cook the inside, eat the outside, throw away the inside\n",
      "Dimag ki batti jali to answer bataocorn\n",
      "dimag ki batti jal gayi\n"
     ]
    }
   ],
   "source": [
    "print(\"guess the riddle\")\n",
    "import random\n",
    "riddles = [\"1. Squeeze it and it cries tears as red as it's flesh. It's heart is made of stone\",\n",
    "           \"2. Remove the outside, cook the inside, eat the outside, throw away the inside\",\n",
    "           \"3. A word I know, Six letters it contains. Subtract just one, and twelve is what remains\",\n",
    "           \"4. Give me food and I will live, Give me water, and I will die\"]\n",
    "a = random.choice(riddles)\n",
    "riddle = \"\"\n",
    "for i in a:\n",
    "    riddle += i\n",
    "print(riddle)\n",
    "user = input(\"Dimag ki batti jali to answer batao\")\n",
    "\n",
    "if a == \"1. Squeeze it and it cries tears as red as it's flesh. It's heart is made of stone\":\n",
    "    if user.lower() == \"cherry\":\n",
    "        print(\"dimag ki batti jal gayi\")\n",
    "    else:\n",
    "        print(\"dimag ki batti bhujh gyi\")\n",
    "\n",
    "if a == \"2. Remove the outside, cook the inside, eat the outside, throw away the inside\":\n",
    "    if user.lower() == \"corn\":\n",
    "        print(\"dimag ki batti jal gayi\")\n",
    "    else:\n",
    "        print(\"dimag ki batti bhujh gyi\")\n",
    "\n",
    "if a == \"3. A word I know, Six letters it contains. Subtract just one, and twelve is what remains\":\n",
    "    if user.lower() == \"dozen\":\n",
    "        print(\"dimag ki batti jal gayi\")\n",
    "    else:\n",
    "        print(\"dimag ki batti bhujh gyi\")\n",
    "\n",
    "if a == \"4. Give me food and I will live, Give me water, and I will die\":\n",
    "    if user.lower() == \"fire\":\n",
    "        print(\"dimag ki batti jal gayi\")\n",
    "    else:\n",
    "        print(\"dimag ki batti bhujh gyi\")"
   ]
  },
  {
   "cell_type": "code",
   "execution_count": 57,
   "id": "e6304e18",
   "metadata": {},
   "outputs": [
    {
     "name": "stdout",
     "output_type": "stream",
     "text": [
      "\n",
      "    same start\n",
      "    1 Yes\n",
      "    2 No(exit)1\n",
      "\n",
      "    1 Rock\n",
      "    2 Scissor \n",
      "    3 Paper       1\n",
      "computer choice:- Scissor\n",
      "you choice:- Rock\n",
      "you win\n",
      "FINALLY YOU WIN...\n",
      "YOU SCORE:- 1\n",
      "COMPUTER SCORE:- 0\n",
      "\n",
      "    1 Rock\n",
      "    2 Scissor \n",
      "    3 Paper       2\n",
      "computer choice:- Paper\n",
      "you choice:- Scissor\n",
      "you win\n",
      "FINALLY YOU WIN...\n",
      "YOU SCORE:- 2\n",
      "COMPUTER SCORE:- 0\n",
      "\n",
      "    1 Rock\n",
      "    2 Scissor \n",
      "    3 Paper       2\n",
      "computer choice:- Scissor\n",
      "you choice:- Scissor\n",
      "game draw\n",
      "FINALLY YOU WIN...\n",
      "YOU SCORE:- 3\n",
      "COMPUTER SCORE:- 1\n",
      "\n",
      "    1 Rock\n",
      "    2 Scissor \n",
      "    3 Paper       3\n",
      "computer choice:- Paper\n",
      "you choice:- Paper\n",
      "game draw\n",
      "FINALLY YOU WIN...\n",
      "YOU SCORE:- 4\n",
      "COMPUTER SCORE:- 2\n",
      "\n",
      "    1 Rock\n",
      "    2 Scissor \n",
      "    3 Paper       1\n",
      "computer choice:- Rock\n",
      "you choice:- Rock\n",
      "game draw\n",
      "FINALLY YOU WIN...\n",
      "YOU SCORE:- 5\n",
      "COMPUTER SCORE:- 3\n",
      "\n",
      "    same start\n",
      "    1 Yes\n",
      "    2 No(exit)2\n"
     ]
    }
   ],
   "source": [
    "import random\n",
    "operation=[\"Rock\",\"Scissor\",\"Paper\"]\n",
    "\"\"\"\n",
    "Pock vs Paper :- paper wins\n",
    "Rock vs Scisssor:- rock win\n",
    "Paper vs Scissor:- scissor win\n",
    "\"\"\"\n",
    "while True:\n",
    "    computer_count=0\n",
    "    user_count=0\n",
    "    user_choice=int(input(\"\"\"\n",
    "    same start\n",
    "    1 Yes\n",
    "    2 No(exit)\"\"\"))\n",
    "    if user_choice==1:\n",
    "        for a in range(1,6):\n",
    "            user_input=int(input(\"\"\"\n",
    "    1 Rock\n",
    "    2 Scissor \n",
    "    3 Paper       \"\"\"))\n",
    "            if user_input==1:\n",
    "                uchoice=\"Rock\"\n",
    "            elif user_input==2:\n",
    "                uchoice=\"Scissor\"\n",
    "            elif user_input==3:\n",
    "                uchoice=\"Paper\"\n",
    "            else:\n",
    "                print(\"invalid input\")\n",
    "\n",
    "            com_choice=random.choice(operation)\n",
    "            if uchoice==com_choice:\n",
    "                print(\"computer choice:-\",com_choice)\n",
    "                print(\"you choice:-\",uchoice)\n",
    "                print(\"game draw\")\n",
    "                user_count=user_count+1\n",
    "                computer_count=computer_count+1\n",
    "            elif(uchoice==\"Rock\" and com_choice==\"Scissor\") or (uchoice==\"Paper\" and com_choice==\"Rock\") or (uchoice==\"Scissor\" and com_choice==\"Paper\"):\n",
    "                 print(\"computer choice:-\",com_choice)\n",
    "                 print(\"you choice:-\",uchoice)\n",
    "                 print(\"you win\")\n",
    "                 user_count=user_count+1\n",
    "            else:\n",
    "                print(\"computer choice:-\",com_choice)\n",
    "                print(\"you choice:-\",uchoice)\n",
    "                print(\"com win\")\n",
    "                computer_count=computer_count+1\n",
    "\n",
    "            if user_count==computer_count:\n",
    "             print(\"FINALLY GAME DRAW....\")\n",
    "             print(\"YOU SCORE:-\",user_count)\n",
    "             print(\"COMPUTER SCORE:-\",computer_count)\n",
    "            elif user_count>computer_count:\n",
    "             print(\"FINALLY YOU WIN...\")\n",
    "             print(\"YOU SCORE:-\", user_count)\n",
    "             print(\"COMPUTER SCORE:-\", computer_count)\n",
    "            else:\n",
    "             print(\" FINALLY COMPUTER WIN\")\n",
    "             print(\"YOU SCORE:-\", user_count)\n",
    "             print(\"COMPUTER SCORE:-\", computer_count)\n",
    "\n",
    "\n",
    "\n",
    "\n",
    "\n",
    "\n",
    "\n",
    "    else:\n",
    "        break"
   ]
  },
  {
   "cell_type": "code",
   "execution_count": null,
   "id": "51258da5",
   "metadata": {},
   "outputs": [],
   "source": [
    "import random\n",
    "user = input(\"choose: \")\n",
    "\n",
    "l = [\"rock\",\"paper\",\"scissors\"]\n",
    "\n",
    "while choice == user: \n",
    "    choice = random.choice(l)\n"
   ]
  }
 ],
 "metadata": {
  "kernelspec": {
   "display_name": "Python 3 (ipykernel)",
   "language": "python",
   "name": "python3"
  },
  "language_info": {
   "codemirror_mode": {
    "name": "ipython",
    "version": 3
   },
   "file_extension": ".py",
   "mimetype": "text/x-python",
   "name": "python",
   "nbconvert_exporter": "python",
   "pygments_lexer": "ipython3",
   "version": "3.11.3"
  }
 },
 "nbformat": 4,
 "nbformat_minor": 5
}
